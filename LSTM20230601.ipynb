{
 "cells": [
  {
   "cell_type": "markdown",
   "metadata": {},
   "source": [
    "执行多元时间序列分析时，需要使用多个特征预测当前的目标在训练时，如果使用 5 列 [feature1, feature2, feature3, feature4, target] 来训练模型，我们需要提供 4 列 [feature1, feature2, feature3, feature4]。\n",
    "\n",
    "导入预测所需要的库\n",
    "在Keras中有两种深度学习的模型：序列模型（Sequential）和通用模型（Model）。差异在于不同的拓扑结构。"
   ]
  },
  {
   "cell_type": "code",
   "execution_count": 46,
   "metadata": {},
   "outputs": [],
   "source": [
    "import numpy as np\n",
    "import pandas as pd\n",
    "from matplotlib import pyplot as plt\n",
    "from tensorflow.keras.models import Sequential  #按顺序建立\n",
    "from tensorflow.keras.layers import LSTM\n",
    "from tensorflow.keras.layers import Dense,Dropout  #全连接层\n",
    "from sklearn.preprocessing import MinMaxScaler  #数据归一化\n",
    "from keras.wrappers.scikit_learn import KerasRegressor   #回归\n",
    "from sklearn.model_selection import GridSearchCV   #自动调参"
   ]
  },
  {
   "cell_type": "markdown",
   "metadata": {},
   "source": [
    "读取数据"
   ]
  },
  {
   "cell_type": "code",
   "execution_count": 47,
   "metadata": {},
   "outputs": [],
   "source": [
    "df = pd.read_csv(\"B0005.csv\")\n",
    "df.head()  #前面五行"
   ]
  },
  {
   "cell_type": "code",
   "execution_count": 48,
   "metadata": {},
   "outputs": [],
   "source": [
    "capacity_original_half = np.array(df)[:20,4]#1到20行的第四列的容量数据  切片"
   ]
  },
  {
   "cell_type": "markdown",
   "metadata": {},
   "source": [
    "训练测试拆分"
   ]
  },
  {
   "cell_type": "code",
   "execution_count": 49,
   "metadata": {},
   "outputs": [],
   "source": [
    "df_for_training=df[:120]\n",
    "df_for_testing=df[:]\n",
    "print(df_for_training.shape)\n",
    "print(df_for_testing.shape)"
   ]
  },
  {
   "cell_type": "markdown",
   "metadata": {},
   "source": [
    "MinMax归一化预处理"
   ]
  },
  {
   "cell_type": "code",
   "execution_count": 50,
   "metadata": {},
   "outputs": [],
   "source": [
    "scaler = MinMaxScaler(feature_range=(0,1))\n",
    "df_for_training_scaled = scaler.fit_transform(df_for_training)\n",
    "df_for_testing_scaled = scaler.transform(df_for_testing)\n",
    "df_for_training_scaled"
   ]
  },
  {
   "cell_type": "markdown",
   "metadata": {},
   "source": [
    "将数据拆分为X和Y\n"
   ]
  },
  {
   "cell_type": "code",
   "execution_count": 51,
   "metadata": {},
   "outputs": [],
   "source": [
    "def createXY(dataset,n_past):\n",
    "    dataX = []\n",
    "    dataY = []\n",
    "    for i in range(n_past,len(dataset)):\n",
    "    \n",
    "        dataX.append(dataset[i-n_past:i,0:dataset.shape[1]])  \n",
    "        dataY.append(dataset[i,4])\n",
    "    return np.array(dataX),np.array(dataY)\n",
    "\n",
    "trainX, trainY = createXY(df_for_training_scaled,20) \n",
    "testX, testY = createXY(df_for_testing_scaled,20) "
   ]
  },
  {
   "cell_type": "markdown",
   "metadata": {},
   "source": [
    "n_past是预测下一个目标值时将在过去查看的步骤数，为20的话，就是使用过去20个值（包括目标列在内的所有特性）来预测第21个目标值\n",
    "所以trainX有所有的特征值，而trainY中只有目标值"
   ]
  },
  {
   "cell_type": "code",
   "execution_count": 52,
   "metadata": {},
   "outputs": [],
   "source": [
    "print(trainX.shape)\n",
    "print(trainY.shape)\n",
    "\n",
    "print(testX.shape)\n",
    "print(testY.shape)"
   ]
  },
  {
   "cell_type": "markdown",
   "metadata": {},
   "source": [
    "如果查看 trainX[1] 值，会发现到它与 trainX[0] 中的数据相同（第一列除外），因为我们将看到前 20 个来预测第 21 列，在第一次预测之后它会自动移动 到第 2 列并取下一个 20 值来预测下一个目标值。\n",
    "\n",
    "每个数据都将保存在 trainX 和 trainY 中"
   ]
  },
  {
   "cell_type": "markdown",
   "metadata": {},
   "source": [
    "GridSearchCV，它存在的意义就是自动调参，只要把参数输进去，就能给出最优化的结果和参数。但是这个方法适合于小数据集，一旦数据的量级上去了，很难得出结果。\n",
    "\n",
    "训练模型，使用gridsearchcv网格搜索进行超参数（需要人工选择的参数）调整找到基础模型\n",
    "\n",
    "GridSearchCV的名字其实可以拆分为两部分，GridSearch和CV，即网格搜索和交叉验证。网格搜索，搜索的是参数，即在指定的参数范围内，按步长依次调整参数，利用调整的参数训练学习器，从所有的参数中找到在验证集上精度最高的参数，是一个训练和比较的过程。\n",
    "\n",
    "1.选择并构建训练模型model\n",
    "\n",
    "2.将训练模型model投入到GridSearchCV中，得到GridSearchCV模型grid_model\n",
    "\n",
    "3.用grid_model拟合训练集数据，选择在validation_dataset上效果最好的参数的模型best_estimator\n",
    "\n",
    "4.1.用best_estimator拟合训练集（得到的结果应该与之前不同，因为之前用交叉验证等方法对训练集进行了分割）\n",
    "\n",
    "4.2.用best_estimator拟合测试集\n",
    "\n"
   ]
  },
  {
   "cell_type": "code",
   "execution_count": 53,
   "metadata": {},
   "outputs": [],
   "source": [
    "learning_rate = 0.01\n",
    "def build_model(optimizer):\n",
    "    grid_model = Sequential()\n",
    "    grid_model.add(LSTM(50,return_sequences=True,input_shape=(20,5)))\n",
    "    grid_model.add(LSTM(50))\n",
    "    grid_model.add(Dropout(0.2))\n",
    "    grid_model.add(Dense(1))\n",
    "    \n",
    "    grid_model.compile(loss = 'mse',optimizer=optimizer)\n",
    "    return grid_model\n",
    "grid_model = KerasRegressor(build_fn=build_model,verbose=1)\n",
    "\n",
    "parameters = {'batch_size':[16,24,28,32,40],\n",
    "            'epochs':[300,500,800],\n",
    "            'optimizer':['adam']}\n",
    "\n",
    "grid_search = GridSearchCV(estimator = grid_model,\n",
    "                          param_grid = parameters,cv = 2)"
   ]
  },
  {
   "cell_type": "markdown",
   "metadata": {},
   "source": [
    "将模型拟合到trainX和trainY数据中"
   ]
  },
  {
   "cell_type": "code",
   "execution_count": 54,
   "metadata": {},
   "outputs": [],
   "source": [
    "grid_search = grid_search.fit(trainX,trainY)"
   ]
  },
  {
   "cell_type": "markdown",
   "metadata": {},
   "source": [
    "找到最佳的模型参数\n"
   ]
  },
  {
   "cell_type": "code",
   "execution_count": 55,
   "metadata": {},
   "outputs": [],
   "source": [
    "grid_search.best_params_"
   ]
  },
  {
   "cell_type": "markdown",
   "metadata": {},
   "source": [
    "将最佳模型保存在在my_model变量中"
   ]
  },
  {
   "cell_type": "code",
   "execution_count": 56,
   "metadata": {},
   "outputs": [],
   "source": [
    "my_model=grid_search.best_estimator_.model"
   ]
  },
  {
   "cell_type": "code",
   "execution_count": 57,
   "metadata": {},
   "outputs": [],
   "source": [
    "prediction = my_model.predict(testX)\n",
    "print(\"prediction is\\n\",prediction)\n",
    "print(\"\\nprediction Shape-\",prediction.shape)"
   ]
  },
  {
   "cell_type": "code",
   "execution_count": 58,
   "metadata": {},
   "outputs": [],
   "source": [
    "prediction_copies_array = np.repeat(prediction,5,axis=-1)#在缩放的时候一行有五列，现在是目标列一列，所以将预测列复制四次得到五列相同的值"
   ]
  },
  {
   "cell_type": "code",
   "execution_count": 59,
   "metadata": {},
   "outputs": [],
   "source": [
    "pred=scaler.inverse_transform(np.reshape(prediction_copies_array,(len(prediction),5)))[:,4]#只需要最后一列 切片"
   ]
  },
  {
   "cell_type": "markdown",
   "metadata": {},
   "source": [
    "将这个pred的值与testY进行比较,testY也是按比例缩放，同样要逆变换"
   ]
  },
  {
   "cell_type": "code",
   "execution_count": 60,
   "metadata": {},
   "outputs": [],
   "source": [
    "original_copies_array = np.repeat(testY,5,axis=-1)\n",
    "original=scaler.inverse_transform(np.reshape(original_copies_array,(len(testY),5)))[:,4]"
   ]
  },
  {
   "cell_type": "code",
   "execution_count": 61,
   "metadata": {},
   "outputs": [],
   "source": [
    "capacity_original_complete = np.append(capacity_original_half,original)\n",
    "pred_complete = np.append(capacity_original_half,pred)"
   ]
  },
  {
   "cell_type": "code",
   "execution_count": 62,
   "metadata": {},
   "outputs": [],
   "source": [
    "plt.plot(pred_complete,color = 'blue',label = 'Prediccted Capacity')\n",
    "plt.plot(capacity_original_complete,color = 'red',label = 'Real Capacity')\n",
    "plt.title('B0005 Battery')\n",
    "plt.xlabel('Cycle')\n",
    "plt.ylabel('Capacity')\n",
    "plt.legend()\n",
    "plt.show()"
   ]
  },
  {
   "cell_type": "code",
   "execution_count": 63,
   "metadata": {},
   "outputs": [],
   "source": [
    "from math import sqrt\n",
    "from sklearn.metrics import mean_absolute_error\n",
    "from sklearn.metrics import mean_squared_error\n",
    "from sklearn.metrics import r2_score\n",
    "print(\"mean_absolute_error:\",mean_absolute_error(original,pred))\n",
    "print(\"mean_squared_error:\",mean_squared_error(original,pred))\n",
    "print(\"rmse:\",sqrt(mean_squared_error(original,pred)))\n",
    "print(\"r2 score:\",r2_score(original,pred))"
   ]
  },
  {
   "cell_type": "markdown",
   "metadata": {},
   "source": [
    "预测未来的值\n",
    "\n",
    "df.loc[]：是按标签或者布尔数组进行行/列索引\n",
    "df.iloc[]：是按标签位置（from 0 to length - 1)或者布尔数组进行索引"
   ]
  },
  {
   "cell_type": "code",
   "execution_count": 64,
   "metadata": {},
   "outputs": [],
   "source": [
    "df_cycle_past = df.iloc[79:99,:]  \n",
    "df_cycle_past\n"
   ]
  },
  {
   "cell_type": "code",
   "execution_count": 65,
   "metadata": {},
   "outputs": [],
   "source": [
    "df_cycle_future=pd.read_csv(\"B18_test1.csv\",encoding=\"gbk\")\n"
   ]
  },
  {
   "cell_type": "code",
   "execution_count": 66,
   "metadata": {},
   "outputs": [],
   "source": [
    "df_cycle_future[\"容量\"] = 0\n"
   ]
  },
  {
   "cell_type": "code",
   "execution_count": 67,
   "metadata": {},
   "outputs": [],
   "source": [
    "#剔除预测数据中容量列，进行归一化缩放，拼接20个预测输入和88test点\n",
    "#df_cycle_future = df_cycle_future[[\"循环次数\",\"平均放电电压\",\"平均放电温度\",\"等压降放电时间\",\"容量\"]]\n",
    "old_scaled_array = scaler.transform(df_cycle_past)\n",
    "new_scaled_array = scaler.transform(df_cycle_future)\n",
    "new_scaled_df = pd.DataFrame(new_scaled_array)\n",
    "new_scaled_df.iloc[:,4] = np.nan\n",
    "full_df = pd.concat([pd.DataFrame(old_scaled_array),new_scaled_df]).reset_index().drop([\"index\"],axis=1)"
   ]
  },
  {
   "cell_type": "code",
   "execution_count": null,
   "metadata": {},
   "outputs": [],
   "source": [
    "#滚动填充容量数据预测\n",
    "full_df_scaled_array = full_df.values\n",
    "all_data = [] #预测值\n",
    "time_step = 20\n",
    "for i in range(time_step,len(full_df_scaled_array)):\n",
    "    data_x = []\n",
    "    data_x.append(full_df_scaled_array[i-time_step:i,0:full_df_scaled_array.shape[1]])\n",
    "    data_x = np.array(data_x)\n",
    "    prediction = my_model.predict(data_x)\n",
    "    print(prediction)\n",
    "    all_data.append(prediction)\n",
    "    full_df.iloc[i,4] = prediction   "
   ]
  },
  {
   "cell_type": "code",
   "execution_count": null,
   "metadata": {},
   "outputs": [],
   "source": [
    "full_df_scaled_array[0:,0:full_df_scaled_array.shape[1]]\n",
    "full_df"
   ]
  },
  {
   "cell_type": "code",
   "execution_count": null,
   "metadata": {},
   "outputs": [],
   "source": [
    "#逆缩放\n",
    "new_array=np.array(all_data)\n",
    "new_array=new_array.reshape(-1,1)\n",
    "prediction_copies_array = np.repeat(new_array,5,axis=-1)\n",
    "y_pred_future_cycle = scaler.inverse_transform(np.reshape(prediction_copies_array,(len(new_array),5)))[:,4]\n",
    "print(y_pred_future_cycle)"
   ]
  },
  {
   "cell_type": "markdown",
   "metadata": {},
   "source": [
    "起始点为80预测末尾88个容量"
   ]
  },
  {
   "cell_type": "code",
   "execution_count": null,
   "metadata": {},
   "outputs": [],
   "source": [
    "capacity_original_half = np.array(df)[:100,4]\n",
    "capacity_original_complete = np.array(df)[:,4]\n",
    "len(capacity_original_half)"
   ]
  },
  {
   "cell_type": "code",
   "execution_count": null,
   "metadata": {},
   "outputs": [],
   "source": [
    "pred_complete = np.append(capacity_original_half,y_pred_future_cycle)"
   ]
  },
  {
   "cell_type": "code",
   "execution_count": null,
   "metadata": {},
   "outputs": [],
   "source": [
    "len(pred_complete)"
   ]
  },
  {
   "cell_type": "code",
   "execution_count": null,
   "metadata": {},
   "outputs": [],
   "source": [
    "len(capacity_original_complete)"
   ]
  },
  {
   "cell_type": "code",
   "execution_count": null,
   "metadata": {},
   "outputs": [],
   "source": [
    "plt.plot(pred_complete,color = 'blue',label = 'Predicted Capacity')\n",
    "plt.plot(capacity_original_complete,color = 'red',label = 'Real Capacity')\n",
    "plt.title('B0018 Battery')\n",
    "plt.xlabel('Cycle')\n",
    "plt.ylabel('Capacity')\n",
    "plt.legend()\n",
    "plt.show()"
   ]
  },
  {
   "cell_type": "code",
   "execution_count": null,
   "metadata": {},
   "outputs": [],
   "source": [
    "from math import sqrt\n",
    "from sklearn.metrics import mean_absolute_error\n",
    "from sklearn.metrics import mean_squared_error\n",
    "from sklearn.metrics import r2_score\n",
    "print(\"mean_absolute_error MAE:\", mean_absolute_error(capacity_original_complete, pred_complete))\n",
    "print(\"mean_squared_error MSE:\", mean_squared_error(capacity_original_complete, pred_complete))\n",
    "print(\"rmse:\", sqrt(mean_squared_error(capacity_original_complete, pred_complete)))\n",
    "print(\"r2 score:\", r2_score(capacity_original_complete, pred_complete))"
   ]
  },
  {
   "cell_type": "code",
   "execution_count": null,
   "metadata": {},
   "outputs": [],
   "source": []
  },
  {
   "cell_type": "code",
   "execution_count": null,
   "metadata": {},
   "outputs": [],
   "source": []
  },
  {
   "cell_type": "code",
   "execution_count": null,
   "metadata": {},
   "outputs": [],
   "source": []
  },
  {
   "cell_type": "code",
   "execution_count": null,
   "metadata": {},
   "outputs": [],
   "source": []
  }
 ],
 "metadata": {
  "kernelspec": {
   "display_name": "Python 3",
   "language": "python",
   "name": "python3"
  },
  "language_info": {
   "codemirror_mode": {
    "name": "ipython",
    "version": 3
   },
   "file_extension": ".py",
   "mimetype": "text/x-python",
   "name": "python",
   "nbconvert_exporter": "python",
   "pygments_lexer": "ipython3",
   "version": "3.6.5"
  }
 },
 "nbformat": 4,
 "nbformat_minor": 2
}
