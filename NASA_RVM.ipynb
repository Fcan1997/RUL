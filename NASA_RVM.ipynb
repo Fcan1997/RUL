{
 "cells": [
  {
   "cell_type": "markdown",
   "metadata": {},
   "source": [
    "#第一步：导入包和定义RVM类"
   ]
  },
  {
   "cell_type": "code",
   "execution_count": 116,
   "metadata": {},
   "outputs": [],
   "source": [
    "import os\n",
    "import math\n",
    "import time\n",
    "import datetime\n",
    "import random as rn\n",
    "import numpy as np\n",
    "import pandas as pd\n",
    "import matplotlib.pyplot as plt\n",
    "%matplotlib inline\n",
    "plt.rcParams ['font.sans-serif'] ='SimHei'               #显示中文\n",
    "plt.rcParams ['axes.unicode_minus']=False               #显示负号\n",
    " \n",
    "from sklearn.model_selection import train_test_split\n",
    "from sklearn.preprocessing import MinMaxScaler,StandardScaler\n",
    "from sklearn.metrics import mean_absolute_error\n",
    "from sklearn.metrics import mean_squared_error,r2_score\n",
    "from math import sqrt\n",
    "import tensorflow as tf\n",
    "import keras\n",
    "from keras.models import Model, Sequential\n",
    "from keras.layers import GRU, Dense,Conv1D, MaxPooling1D,GlobalMaxPooling1D,Embedding,Dropout,Flatten,SimpleRNN,LSTM\n",
    "from keras.callbacks import EarlyStopping\n",
    "#from tensorflow.keras import regularizers\n",
    "#from keras.utils.np_utils import to_categorical\n",
    "from tensorflow.keras  import optimizers\n",
    "from sklearn.datasets import  make_regression\n",
    "from sklearn.model_selection import train_test_split"
   ]
  },
  {
   "cell_type": "markdown",
   "metadata": {},
   "source": [
    "定义RVM中的回归学习RVR，没包括二分类RVC"
   ]
  },
  {
   "cell_type": "code",
   "execution_count": 117,
   "metadata": {},
   "outputs": [],
   "source": [
    "\"\"\"Relevance Vector Machine classes for regression and classification.\"\"\"\n",
    "from scipy.optimize import minimize\n",
    "from scipy.special import expit\n",
    " \n",
    "from sklearn.base import BaseEstimator, RegressorMixin, ClassifierMixin\n",
    "from sklearn.metrics.pairwise import (\n",
    "    linear_kernel,\n",
    "    rbf_kernel,\n",
    "    polynomial_kernel\n",
    ")\n",
    "from sklearn.multiclass import OneVsOneClassifier\n",
    "from sklearn.utils.validation import check_X_y\n",
    " \n",
    "class BaseRVM(BaseEstimator):\n",
    " \n",
    "    \"\"\"Base Relevance Vector Machine class.\n",
    "    Implementation of Mike Tipping's Relevance Vector Machine using the\n",
    "    scikit-learn API. Add a posterior over weights method and a predict\n",
    "    in subclass to use for classification or regression.\n",
    "    \"\"\"\n",
    " \n",
    "    def __init__(\n",
    "        self,\n",
    "        kernel='rbf',\n",
    "        degree=3,\n",
    "        coef1=None,\n",
    "        coef0=0.0,\n",
    "        n_iter=3000,\n",
    "        tol=1e-3,\n",
    "        alpha=1e-6,\n",
    "        threshold_alpha=1e9,\n",
    "        beta=1.e-6,\n",
    "        beta_fixed=False,\n",
    "        bias_used=True,\n",
    "        verbose=False\n",
    "    ):\n",
    "        \"\"\"Copy params to object properties, no validation.\"\"\"\n",
    "        self.kernel = kernel\n",
    "        self.degree = degree\n",
    "        self.coef1 = coef1\n",
    "        self.coef0 = coef0\n",
    "        self.n_iter = n_iter\n",
    "        self.tol = tol\n",
    "        self.alpha = alpha\n",
    "        self.threshold_alpha = threshold_alpha\n",
    "        self.beta = beta\n",
    "        self.beta_fixed = beta_fixed\n",
    "        self.bias_used = bias_used\n",
    "        self.verbose = verbose\n",
    " \n",
    "    def get_params(self, deep=True):\n",
    "        \"\"\"Return parameters as a dictionary.\"\"\"\n",
    "        params = {\n",
    "            'kernel': self.kernel,\n",
    "            'degree': self.degree,\n",
    "            'coef1': self.coef1,\n",
    "            'coef0': self.coef0,\n",
    "            'n_iter': self.n_iter,\n",
    "            'tol': self.tol,\n",
    "            'alpha': self.alpha,\n",
    "            'threshold_alpha': self.threshold_alpha,\n",
    "            'beta': self.beta,\n",
    "            'beta_fixed': self.beta_fixed,\n",
    "            'bias_used': self.bias_used,\n",
    "            'verbose': self.verbose\n",
    "        }\n",
    "        return params\n",
    " \n",
    "    def set_params(self, **parameters):\n",
    "        \"\"\"Set parameters using kwargs.\"\"\"\n",
    "        for parameter, value in parameters.items():\n",
    "            setattr(self, parameter, value)\n",
    "        return self\n",
    " \n",
    "    def _apply_kernel(self, x, y):\n",
    "        \"\"\"Apply the selected kernel function to the data.\"\"\"\n",
    "        if self.kernel == 'linear':\n",
    "            phi = linear_kernel(x, y)\n",
    "        elif self.kernel == 'rbf':\n",
    "            phi = rbf_kernel(x, y, self.coef1)\n",
    "        elif self.kernel == 'poly':\n",
    "            phi = polynomial_kernel(x, y, self.degree, self.coef1, self.coef0)\n",
    "        elif callable(self.kernel):\n",
    "            phi = self.kernel(x, y)\n",
    "            if len(phi.shape) != 2:\n",
    "                raise ValueError(\n",
    "                    \"Custom kernel function did not return 2D matrix\"\n",
    "                )\n",
    "            if phi.shape[0] != x.shape[0]:\n",
    "                raise ValueError(\n",
    "                    \"Custom kernel function did not return matrix with rows\"\n",
    "                    \" equal to number of data points.\"\"\"\n",
    "                )\n",
    "        else:\n",
    "            raise ValueError(\"Kernel selection is invalid.\")\n",
    " \n",
    "        if self.bias_used:\n",
    "            phi = np.append(phi, np.ones((phi.shape[0], 1)), axis=1)\n",
    " \n",
    "        return phi\n",
    " \n",
    "    def _prune(self):\n",
    "        \"\"\"Remove basis functions based on alpha values.\"\"\"\n",
    "        keep_alpha = self.alpha_ < self.threshold_alpha\n",
    " \n",
    "        if not np.any(keep_alpha):\n",
    "            keep_alpha[0] = True\n",
    "            if self.bias_used:\n",
    "                keep_alpha[-1] = True\n",
    " \n",
    "        if self.bias_used:\n",
    "            if not keep_alpha[-1]:\n",
    "                self.bias_used = False\n",
    "            self.relevance_ = self.relevance_[keep_alpha[:-1]]\n",
    "        else:\n",
    "            self.relevance_ = self.relevance_[keep_alpha]\n",
    " \n",
    "        self.alpha_ = self.alpha_[keep_alpha]\n",
    "        self.alpha_old = self.alpha_old[keep_alpha]\n",
    "        self.gamma = self.gamma[keep_alpha]\n",
    "        self.phi = self.phi[:, keep_alpha]\n",
    "        self.sigma_ = self.sigma_[np.ix_(keep_alpha, keep_alpha)]\n",
    "        self.m_ = self.m_[keep_alpha]\n",
    " \n",
    "    def fit(self, X, y):\n",
    "        \"\"\"Fit the RVR to the training data.\"\"\"\n",
    "        X, y = check_X_y(X, y)\n",
    " \n",
    "        n_samples, n_features = X.shape\n",
    " \n",
    "        self.phi = self._apply_kernel(X, X)\n",
    " \n",
    "        n_basis_functions = self.phi.shape[1]\n",
    " \n",
    "        self.relevance_ = X\n",
    "        self.y = y\n",
    " \n",
    "        self.alpha_ = self.alpha * np.ones(n_basis_functions)\n",
    "        self.beta_ = self.beta\n",
    " \n",
    "        self.m_ = np.zeros(n_basis_functions)\n",
    " \n",
    "        self.alpha_old = self.alpha_\n",
    " \n",
    "        for i in range(self.n_iter):\n",
    "            self._posterior()\n",
    " \n",
    "            self.gamma = 1 - self.alpha_*np.diag(self.sigma_)\n",
    "            self.alpha_ = self.gamma/(self.m_ ** 2)\n",
    " \n",
    "            if not self.beta_fixed:\n",
    "                self.beta_ = (n_samples - np.sum(self.gamma))/(\n",
    "                    np.sum((y - np.dot(self.phi, self.m_)) ** 2))\n",
    " \n",
    "            self._prune()\n",
    " \n",
    "            if self.verbose:\n",
    "                print(\"Iteration: {}\".format(i))\n",
    "                print(\"Alpha: {}\".format(self.alpha_))\n",
    "                print(\"Beta: {}\".format(self.beta_))\n",
    "                print(\"Gamma: {}\".format(self.gamma))\n",
    "                print(\"m: {}\".format(self.m_))\n",
    "                print(\"Relevance Vectors: {}\".format(self.relevance_.shape[0]))\n",
    "                print()\n",
    " \n",
    "            delta = np.amax(np.absolute(self.alpha_ - self.alpha_old))\n",
    " \n",
    "            if delta < self.tol and i > 1:\n",
    "                break\n",
    " \n",
    "            self.alpha_old = self.alpha_\n",
    " \n",
    "        if self.bias_used:\n",
    "            self.bias = self.m_[-1]\n",
    "        else:\n",
    "            self.bias = None\n",
    " \n",
    "        return self\n",
    " \n",
    "class RVR(BaseRVM, RegressorMixin):\n",
    " \n",
    "    \"\"\"Relevance Vector Machine Regression.\n",
    "    Implementation of Mike Tipping's Relevance Vector Machine for regression\n",
    "    using the scikit-learn API.\n",
    "    \"\"\"\n",
    " \n",
    "    def _posterior(self):\n",
    "        \"\"\"Compute the posterior distriubtion over weights.\"\"\"\n",
    "        i_s = np.diag(self.alpha_) + self.beta_ * np.dot(self.phi.T, self.phi)\n",
    "        self.sigma_ = np.linalg.inv(i_s)\n",
    "        self.m_ = self.beta_ * np.dot(self.sigma_, np.dot(self.phi.T, self.y))\n",
    " \n",
    "    def predict(self, X, eval_MSE=False):\n",
    "        \"\"\"Evaluate the RVR model at x.\"\"\"\n",
    "        phi = self._apply_kernel(X, self.relevance_)\n",
    " \n",
    "        y = np.dot(phi, self.m_)\n",
    " \n",
    "        if eval_MSE:\n",
    "            MSE = (1/self.beta_) + np.dot(phi, np.dot(self.sigma_, phi.T))\n",
    "            return y, MSE[:, 0]\n",
    "        else:\n",
    "            return y"
   ]
  },
  {
   "cell_type": "code",
   "execution_count": 118,
   "metadata": {},
   "outputs": [
    {
     "data": {
      "text/html": [
       "<div>\n",
       "<style scoped>\n",
       "    .dataframe tbody tr th:only-of-type {\n",
       "        vertical-align: middle;\n",
       "    }\n",
       "\n",
       "    .dataframe tbody tr th {\n",
       "        vertical-align: top;\n",
       "    }\n",
       "\n",
       "    .dataframe thead th {\n",
       "        text-align: right;\n",
       "    }\n",
       "</style>\n",
       "<table border=\"1\" class=\"dataframe\">\n",
       "  <thead>\n",
       "    <tr style=\"text-align: right;\">\n",
       "      <th></th>\n",
       "      <th>循环次数</th>\n",
       "      <th>平均放电电压</th>\n",
       "      <th>平均放电温度</th>\n",
       "      <th>等压降放电时间（3.8V-3.5V）</th>\n",
       "      <th>容量</th>\n",
       "    </tr>\n",
       "  </thead>\n",
       "  <tbody>\n",
       "    <tr>\n",
       "      <th>0</th>\n",
       "      <td>1</td>\n",
       "      <td>3.527546</td>\n",
       "      <td>31.773285</td>\n",
       "      <td>1559.375</td>\n",
       "      <td>1.855005</td>\n",
       "    </tr>\n",
       "    <tr>\n",
       "      <th>1</th>\n",
       "      <td>2</td>\n",
       "      <td>3.534836</td>\n",
       "      <td>31.924892</td>\n",
       "      <td>1581.110</td>\n",
       "      <td>1.843196</td>\n",
       "    </tr>\n",
       "    <tr>\n",
       "      <th>2</th>\n",
       "      <td>3</td>\n",
       "      <td>3.538247</td>\n",
       "      <td>31.316913</td>\n",
       "      <td>1582.438</td>\n",
       "      <td>1.839602</td>\n",
       "    </tr>\n",
       "    <tr>\n",
       "      <th>3</th>\n",
       "      <td>4</td>\n",
       "      <td>3.537698</td>\n",
       "      <td>30.821191</td>\n",
       "      <td>1572.984</td>\n",
       "      <td>1.830674</td>\n",
       "    </tr>\n",
       "    <tr>\n",
       "      <th>4</th>\n",
       "      <td>5</td>\n",
       "      <td>3.542668</td>\n",
       "      <td>31.953470</td>\n",
       "      <td>1592.500</td>\n",
       "      <td>1.832700</td>\n",
       "    </tr>\n",
       "  </tbody>\n",
       "</table>\n",
       "</div>"
      ],
      "text/plain": [
       "   循环次数    平均放电电压     平均放电温度  等压降放电时间（3.8V-3.5V）        容量\n",
       "0     1  3.527546  31.773285            1559.375  1.855005\n",
       "1     2  3.534836  31.924892            1581.110  1.843196\n",
       "2     3  3.538247  31.316913            1582.438  1.839602\n",
       "3     4  3.537698  30.821191            1572.984  1.830674\n",
       "4     5  3.542668  31.953470            1592.500  1.832700"
      ]
     },
     "execution_count": 118,
     "metadata": {},
     "output_type": "execute_result"
    }
   ],
   "source": [
    "#第二步 导入数据\n",
    "df = pd.read_csv(\"B0018.csv\")\n",
    "df.head()"
   ]
  },
  {
   "cell_type": "code",
   "execution_count": 119,
   "metadata": {},
   "outputs": [],
   "source": [
    "X=df.iloc[:,:-1]"
   ]
  },
  {
   "cell_type": "code",
   "execution_count": 120,
   "metadata": {},
   "outputs": [],
   "source": [
    "capacity_original_half = np.array(df)[:20,4]"
   ]
  },
  {
   "cell_type": "code",
   "execution_count": 121,
   "metadata": {},
   "outputs": [
    {
     "data": {
      "text/html": [
       "<div>\n",
       "<style scoped>\n",
       "    .dataframe tbody tr th:only-of-type {\n",
       "        vertical-align: middle;\n",
       "    }\n",
       "\n",
       "    .dataframe tbody tr th {\n",
       "        vertical-align: top;\n",
       "    }\n",
       "\n",
       "    .dataframe thead th {\n",
       "        text-align: right;\n",
       "    }\n",
       "</style>\n",
       "<table border=\"1\" class=\"dataframe\">\n",
       "  <thead>\n",
       "    <tr style=\"text-align: right;\">\n",
       "      <th></th>\n",
       "      <th>循环次数</th>\n",
       "      <th>平均放电电压</th>\n",
       "      <th>平均放电温度</th>\n",
       "      <th>等压降放电时间（3.8V-3.5V）</th>\n",
       "    </tr>\n",
       "  </thead>\n",
       "  <tbody>\n",
       "    <tr>\n",
       "      <th>0</th>\n",
       "      <td>1</td>\n",
       "      <td>3.527546</td>\n",
       "      <td>31.773285</td>\n",
       "      <td>1559.375</td>\n",
       "    </tr>\n",
       "    <tr>\n",
       "      <th>1</th>\n",
       "      <td>2</td>\n",
       "      <td>3.534836</td>\n",
       "      <td>31.924892</td>\n",
       "      <td>1581.110</td>\n",
       "    </tr>\n",
       "    <tr>\n",
       "      <th>2</th>\n",
       "      <td>3</td>\n",
       "      <td>3.538247</td>\n",
       "      <td>31.316913</td>\n",
       "      <td>1582.438</td>\n",
       "    </tr>\n",
       "    <tr>\n",
       "      <th>3</th>\n",
       "      <td>4</td>\n",
       "      <td>3.537698</td>\n",
       "      <td>30.821191</td>\n",
       "      <td>1572.984</td>\n",
       "    </tr>\n",
       "    <tr>\n",
       "      <th>4</th>\n",
       "      <td>5</td>\n",
       "      <td>3.542668</td>\n",
       "      <td>31.953470</td>\n",
       "      <td>1592.500</td>\n",
       "    </tr>\n",
       "    <tr>\n",
       "      <th>...</th>\n",
       "      <td>...</td>\n",
       "      <td>...</td>\n",
       "      <td>...</td>\n",
       "      <td>...</td>\n",
       "    </tr>\n",
       "    <tr>\n",
       "      <th>127</th>\n",
       "      <td>128</td>\n",
       "      <td>3.455229</td>\n",
       "      <td>31.818465</td>\n",
       "      <td>872.500</td>\n",
       "    </tr>\n",
       "    <tr>\n",
       "      <th>128</th>\n",
       "      <td>129</td>\n",
       "      <td>3.461974</td>\n",
       "      <td>32.000672</td>\n",
       "      <td>858.765</td>\n",
       "    </tr>\n",
       "    <tr>\n",
       "      <th>129</th>\n",
       "      <td>130</td>\n",
       "      <td>3.452222</td>\n",
       "      <td>31.739922</td>\n",
       "      <td>847.656</td>\n",
       "    </tr>\n",
       "    <tr>\n",
       "      <th>130</th>\n",
       "      <td>131</td>\n",
       "      <td>3.447650</td>\n",
       "      <td>31.526136</td>\n",
       "      <td>835.906</td>\n",
       "    </tr>\n",
       "    <tr>\n",
       "      <th>131</th>\n",
       "      <td>132</td>\n",
       "      <td>3.447929</td>\n",
       "      <td>31.276245</td>\n",
       "      <td>836.829</td>\n",
       "    </tr>\n",
       "  </tbody>\n",
       "</table>\n",
       "<p>132 rows × 4 columns</p>\n",
       "</div>"
      ],
      "text/plain": [
       "     循环次数    平均放电电压     平均放电温度  等压降放电时间（3.8V-3.5V）\n",
       "0       1  3.527546  31.773285            1559.375\n",
       "1       2  3.534836  31.924892            1581.110\n",
       "2       3  3.538247  31.316913            1582.438\n",
       "3       4  3.537698  30.821191            1572.984\n",
       "4       5  3.542668  31.953470            1592.500\n",
       "..    ...       ...        ...                 ...\n",
       "127   128  3.455229  31.818465             872.500\n",
       "128   129  3.461974  32.000672             858.765\n",
       "129   130  3.452222  31.739922             847.656\n",
       "130   131  3.447650  31.526136             835.906\n",
       "131   132  3.447929  31.276245             836.829\n",
       "\n",
       "[132 rows x 4 columns]"
      ]
     },
     "execution_count": 121,
     "metadata": {},
     "output_type": "execute_result"
    }
   ],
   "source": [
    "X"
   ]
  },
  {
   "cell_type": "code",
   "execution_count": 122,
   "metadata": {},
   "outputs": [],
   "source": [
    "y=df.iloc[:,-1]"
   ]
  },
  {
   "cell_type": "code",
   "execution_count": 123,
   "metadata": {},
   "outputs": [
    {
     "data": {
      "text/plain": [
       "0      1.855005\n",
       "1      1.843196\n",
       "2      1.839602\n",
       "3      1.830674\n",
       "4      1.832700\n",
       "         ...   \n",
       "127    1.362737\n",
       "128    1.363405\n",
       "129    1.351865\n",
       "130    1.354797\n",
       "131    1.341051\n",
       "Name: 容量, Length: 132, dtype: float64"
      ]
     },
     "execution_count": 123,
     "metadata": {},
     "output_type": "execute_result"
    }
   ],
   "source": [
    "y"
   ]
  },
  {
   "cell_type": "code",
   "execution_count": 124,
   "metadata": {},
   "outputs": [],
   "source": [
    "#取出X和y,标准化\n",
    "scaler_s = StandardScaler()\n",
    "scaler_s.fit(X)\n",
    "X_s = scaler_s.transform(X)"
   ]
  },
  {
   "cell_type": "markdown",
   "metadata": {},
   "source": [
    " 拟合RVM模型，选取三种核函数，看哪个拟合程度高，对比出来rbf，即高斯径向基函数达到0.998，最好，所以选取这个核函数"
   ]
  },
  {
   "cell_type": "code",
   "execution_count": 125,
   "metadata": {},
   "outputs": [
    {
     "name": "stdout",
     "output_type": "stream",
     "text": [
      "0.9960109597052496\n",
      "0.9980813688669362\n",
      "0.8813498427405416\n"
     ]
    }
   ],
   "source": [
    "#三种常用的核函数\n",
    "rvm_model_linear = RVR(kernel=\"linear\")\n",
    "rvm_model_linear.fit(X_s, y)\n",
    "print(rvm_model_linear.score(X_s, y))\n",
    " \n",
    "rvm_model_rbf = RVR(kernel=\"rbf\")\n",
    "rvm_model_rbf.fit(X_s, y)\n",
    "print(rvm_model_rbf.score(X_s, y))\n",
    " \n",
    "rvm_model_poly = RVR(kernel=\"poly\")\n",
    "rvm_model_poly.fit(X_s, y)\n",
    "print(rvm_model_poly.score(X_s, y))"
   ]
  },
  {
   "cell_type": "code",
   "execution_count": 126,
   "metadata": {},
   "outputs": [],
   "source": [
    "#第三步 划分\n",
    "df_for_training=df[:120]\n",
    "df_for_testing= df[0:]"
   ]
  },
  {
   "cell_type": "code",
   "execution_count": 127,
   "metadata": {},
   "outputs": [],
   "source": [
    "#第四步最大最小归一化\n",
    "scaler = MinMaxScaler(feature_range=(0,1))\n",
    "df_for_training_scaler = scaler.fit_transform(df_for_training)\n",
    "df_for_testing_scaler=scaler.fit_transform(df_for_testing)"
   ]
  },
  {
   "cell_type": "code",
   "execution_count": 128,
   "metadata": {},
   "outputs": [],
   "source": [
    "#第五步构构建训练集和测试集\n",
    "def createXY(dataset,n_past):\n",
    "    dataX = []\n",
    "    dataY = []\n",
    "    for i in range(n_past,len(dataset)):\n",
    "        dataX.append(dataset[i-n_past:i,0:dataset.shape[1]])\n",
    "        dataY.append(dataset[i,4])\n",
    "    return np.array(dataX),np.array(dataY)\n",
    "\n",
    "trainX,trainY = createXY(df_for_training_scaler,20)\n",
    "testX,testY = createXY(df_for_testing_scaler,20)"
   ]
  },
  {
   "cell_type": "code",
   "execution_count": 129,
   "metadata": {},
   "outputs": [
    {
     "data": {
      "text/plain": [
       "array([[0.01680672, 0.90991922, 0.632266  , 0.98435538, 0.96972587],\n",
       "       [0.02521008, 0.90458638, 0.37413235, 0.97190029, 0.95217732],\n",
       "       [0.03361345, 0.95289107, 0.96373551, 0.99761148, 0.95616063],\n",
       "       [0.04201681, 0.97657003, 1.        , 1.        , 0.94796186],\n",
       "       [0.05042017, 1.        , 0.79765806, 0.97144841, 0.93355919],\n",
       "       [0.05882353, 0.97373863, 0.61731194, 0.95734651, 0.92170485],\n",
       "       [0.06722689, 0.9607683 , 0.52515957, 0.95526891, 0.9003359 ],\n",
       "       [0.07563025, 0.95741668, 0.53580581, 0.97898154, 0.93729178],\n",
       "       [0.08403361, 0.97706976, 0.73440308, 0.96553968, 0.91572054],\n",
       "       [0.09243697, 0.97587636, 0.62920044, 0.94964739, 0.90110949],\n",
       "       [0.10084034, 0.96670902, 0.41202739, 0.92031455, 0.8738925 ],\n",
       "       [0.1092437 , 0.93976435, 0.2280219 , 0.90316673, 0.85939956],\n",
       "       [0.11764706, 0.93860643, 0.37645969, 0.91197778, 0.85442267],\n",
       "       [0.12605042, 0.93916514, 0.70229685, 0.90129465, 0.83529909],\n",
       "       [0.13445378, 0.95367148, 0.73741806, 0.89161936, 0.83023075],\n",
       "       [0.14285714, 0.93912269, 0.52575745, 0.85915628, 0.80074825],\n",
       "       [0.1512605 , 0.87861583, 0.25189891, 0.82918581, 0.78618236],\n",
       "       [0.15966387, 0.85564481, 0.07301012, 0.79783334, 0.7693674 ],\n",
       "       [0.16806723, 0.86194509, 0.        , 0.78955849, 0.75728333],\n",
       "       [0.17647059, 0.8043654 , 0.07731745, 0.78288828, 0.71223051]])"
      ]
     },
     "execution_count": 129,
     "metadata": {},
     "output_type": "execute_result"
    }
   ],
   "source": [
    "trainX[2]"
   ]
  },
  {
   "cell_type": "code",
   "execution_count": 130,
   "metadata": {},
   "outputs": [
    {
     "data": {
      "text/plain": [
       "0.7122305106822115"
      ]
     },
     "execution_count": 130,
     "metadata": {},
     "output_type": "execute_result"
    }
   ],
   "source": [
    "trainY[1]"
   ]
  },
  {
   "cell_type": "code",
   "execution_count": 131,
   "metadata": {},
   "outputs": [
    {
     "name": "stdout",
     "output_type": "stream",
     "text": [
      "(100, 20, 5)\n",
      "(100,)\n",
      "(112, 20, 5)\n"
     ]
    }
   ],
   "source": [
    "print(trainX.shape)\n",
    "print(trainY.shape)\n",
    "print(testX.shape)"
   ]
  },
  {
   "cell_type": "code",
   "execution_count": 132,
   "metadata": {},
   "outputs": [],
   "source": [
    "trainX_2D=(trainX.reshape(trainX.shape[0], trainX.shape[1] * trainX.shape[2]))\n",
    "testX_2D=(testX.reshape(testX.shape[0], testX.shape[1] * testX.shape[2]))"
   ]
  },
  {
   "cell_type": "code",
   "execution_count": 133,
   "metadata": {},
   "outputs": [
    {
     "name": "stdout",
     "output_type": "stream",
     "text": [
      "(100, 100)\n",
      "(112, 100)\n"
     ]
    }
   ],
   "source": [
    "print(trainX_2D.shape)\n",
    "print(testX_2D.shape)"
   ]
  },
  {
   "cell_type": "code",
   "execution_count": 134,
   "metadata": {},
   "outputs": [
    {
     "data": {
      "text/plain": [
       "array([[0.17647059, 0.8043654 , 0.07731745, 0.78288828, 0.71223051],\n",
       "       [0.18487395, 0.82590026, 0.05712531, 0.76403306, 0.71788129],\n",
       "       [0.19327731, 0.81975894, 0.01161589, 0.7454242 , 0.7100825 ],\n",
       "       [0.20168067, 0.85186787, 0.06331077, 0.79417085, 0.79211519],\n",
       "       [0.21008403, 0.85346328, 0.45494094, 0.78702636, 0.75974619],\n",
       "       [0.21848739, 0.89120386, 0.68370822, 0.7809332 , 0.73903289],\n",
       "       [0.22689076, 0.86412555, 0.66683521, 0.76117289, 0.718621  ],\n",
       "       [0.23529412, 0.80072805, 0.55469137, 0.72479833, 0.69389789],\n",
       "       [0.24369748, 0.822544  , 0.46447755, 0.71683176, 0.68361593],\n",
       "       [0.25210084, 0.80858812, 0.49604767, 0.68115808, 0.65976655],\n",
       "       [0.2605042 , 0.78789887, 0.66196422, 0.67397408, 0.65008514],\n",
       "       [0.26890756, 0.77529497, 0.75951563, 0.66808643, 0.62757192],\n",
       "       [0.27731092, 0.74031617, 0.63307931, 0.64223164, 0.61119829],\n",
       "       [0.28571429, 0.72728861, 0.52140392, 0.62421958, 0.593571  ],\n",
       "       [0.29411765, 0.66613399, 0.46189474, 0.59640971, 0.57498905],\n",
       "       [0.30252101, 0.70551481, 0.45050215, 0.57545317, 0.5531297 ],\n",
       "       [0.31092437, 0.65489301, 0.61582639, 0.56724024, 0.54232924],\n",
       "       [0.31932773, 0.62671901, 0.68123956, 0.55713283, 0.52631613],\n",
       "       [0.32773109, 0.69472124, 0.33973675, 0.63805272, 0.64826616],\n",
       "       [0.33613445, 0.72294174, 0.45549831, 0.61271173, 0.59568684]])"
      ]
     },
     "execution_count": 134,
     "metadata": {},
     "output_type": "execute_result"
    }
   ],
   "source": [
    "trainX[21]"
   ]
  },
  {
   "cell_type": "code",
   "execution_count": 135,
   "metadata": {},
   "outputs": [
    {
     "data": {
      "text/plain": [
       "array([0.17647059, 0.8043654 , 0.07731745, 0.78288828, 0.71223051,\n",
       "       0.18487395, 0.82590026, 0.05712531, 0.76403306, 0.71788129,\n",
       "       0.19327731, 0.81975894, 0.01161589, 0.7454242 , 0.7100825 ,\n",
       "       0.20168067, 0.85186787, 0.06331077, 0.79417085, 0.79211519,\n",
       "       0.21008403, 0.85346328, 0.45494094, 0.78702636, 0.75974619,\n",
       "       0.21848739, 0.89120386, 0.68370822, 0.7809332 , 0.73903289,\n",
       "       0.22689076, 0.86412555, 0.66683521, 0.76117289, 0.718621  ,\n",
       "       0.23529412, 0.80072805, 0.55469137, 0.72479833, 0.69389789,\n",
       "       0.24369748, 0.822544  , 0.46447755, 0.71683176, 0.68361593,\n",
       "       0.25210084, 0.80858812, 0.49604767, 0.68115808, 0.65976655,\n",
       "       0.2605042 , 0.78789887, 0.66196422, 0.67397408, 0.65008514,\n",
       "       0.26890756, 0.77529497, 0.75951563, 0.66808643, 0.62757192,\n",
       "       0.27731092, 0.74031617, 0.63307931, 0.64223164, 0.61119829,\n",
       "       0.28571429, 0.72728861, 0.52140392, 0.62421958, 0.593571  ,\n",
       "       0.29411765, 0.66613399, 0.46189474, 0.59640971, 0.57498905,\n",
       "       0.30252101, 0.70551481, 0.45050215, 0.57545317, 0.5531297 ,\n",
       "       0.31092437, 0.65489301, 0.61582639, 0.56724024, 0.54232924,\n",
       "       0.31932773, 0.62671901, 0.68123956, 0.55713283, 0.52631613,\n",
       "       0.32773109, 0.69472124, 0.33973675, 0.63805272, 0.64826616,\n",
       "       0.33613445, 0.72294174, 0.45549831, 0.61271173, 0.59568684])"
      ]
     },
     "execution_count": 135,
     "metadata": {},
     "output_type": "execute_result"
    }
   ],
   "source": [
    "trainX_2D[21]"
   ]
  },
  {
   "cell_type": "code",
   "execution_count": 136,
   "metadata": {},
   "outputs": [
    {
     "data": {
      "text/plain": [
       "(0.7122305106822115, 0.7178812908046766)"
      ]
     },
     "execution_count": 136,
     "metadata": {},
     "output_type": "execute_result"
    }
   ],
   "source": [
    "trainY[1],trainY[2]"
   ]
  },
  {
   "cell_type": "code",
   "execution_count": 137,
   "metadata": {},
   "outputs": [],
   "source": [
    "#第六步模型构建\n",
    "#固定随机种子\n",
    "def set_my_seed():\n",
    "    os.environ['PYTHONHASHSEED'] = '0'\n",
    "    np.random.seed(1)\n",
    "    rn.seed(12345)\n",
    "    tf.random.set_seed(123)\n"
   ]
  },
  {
   "cell_type": "code",
   "execution_count": 138,
   "metadata": {},
   "outputs": [
    {
     "data": {
      "text/html": [
       "<style>#sk-container-id-4 {color: black;background-color: white;}#sk-container-id-4 pre{padding: 0;}#sk-container-id-4 div.sk-toggleable {background-color: white;}#sk-container-id-4 label.sk-toggleable__label {cursor: pointer;display: block;width: 100%;margin-bottom: 0;padding: 0.3em;box-sizing: border-box;text-align: center;}#sk-container-id-4 label.sk-toggleable__label-arrow:before {content: \"▸\";float: left;margin-right: 0.25em;color: #696969;}#sk-container-id-4 label.sk-toggleable__label-arrow:hover:before {color: black;}#sk-container-id-4 div.sk-estimator:hover label.sk-toggleable__label-arrow:before {color: black;}#sk-container-id-4 div.sk-toggleable__content {max-height: 0;max-width: 0;overflow: hidden;text-align: left;background-color: #f0f8ff;}#sk-container-id-4 div.sk-toggleable__content pre {margin: 0.2em;color: black;border-radius: 0.25em;background-color: #f0f8ff;}#sk-container-id-4 input.sk-toggleable__control:checked~div.sk-toggleable__content {max-height: 200px;max-width: 100%;overflow: auto;}#sk-container-id-4 input.sk-toggleable__control:checked~label.sk-toggleable__label-arrow:before {content: \"▾\";}#sk-container-id-4 div.sk-estimator input.sk-toggleable__control:checked~label.sk-toggleable__label {background-color: #d4ebff;}#sk-container-id-4 div.sk-label input.sk-toggleable__control:checked~label.sk-toggleable__label {background-color: #d4ebff;}#sk-container-id-4 input.sk-hidden--visually {border: 0;clip: rect(1px 1px 1px 1px);clip: rect(1px, 1px, 1px, 1px);height: 1px;margin: -1px;overflow: hidden;padding: 0;position: absolute;width: 1px;}#sk-container-id-4 div.sk-estimator {font-family: monospace;background-color: #f0f8ff;border: 1px dotted black;border-radius: 0.25em;box-sizing: border-box;margin-bottom: 0.5em;}#sk-container-id-4 div.sk-estimator:hover {background-color: #d4ebff;}#sk-container-id-4 div.sk-parallel-item::after {content: \"\";width: 100%;border-bottom: 1px solid gray;flex-grow: 1;}#sk-container-id-4 div.sk-label:hover label.sk-toggleable__label {background-color: #d4ebff;}#sk-container-id-4 div.sk-serial::before {content: \"\";position: absolute;border-left: 1px solid gray;box-sizing: border-box;top: 0;bottom: 0;left: 50%;z-index: 0;}#sk-container-id-4 div.sk-serial {display: flex;flex-direction: column;align-items: center;background-color: white;padding-right: 0.2em;padding-left: 0.2em;position: relative;}#sk-container-id-4 div.sk-item {position: relative;z-index: 1;}#sk-container-id-4 div.sk-parallel {display: flex;align-items: stretch;justify-content: center;background-color: white;position: relative;}#sk-container-id-4 div.sk-item::before, #sk-container-id-4 div.sk-parallel-item::before {content: \"\";position: absolute;border-left: 1px solid gray;box-sizing: border-box;top: 0;bottom: 0;left: 50%;z-index: -1;}#sk-container-id-4 div.sk-parallel-item {display: flex;flex-direction: column;z-index: 1;position: relative;background-color: white;}#sk-container-id-4 div.sk-parallel-item:first-child::after {align-self: flex-end;width: 50%;}#sk-container-id-4 div.sk-parallel-item:last-child::after {align-self: flex-start;width: 50%;}#sk-container-id-4 div.sk-parallel-item:only-child::after {width: 0;}#sk-container-id-4 div.sk-dashed-wrapped {border: 1px dashed gray;margin: 0 0.4em 0.5em 0.4em;box-sizing: border-box;padding-bottom: 0.4em;background-color: white;}#sk-container-id-4 div.sk-label label {font-family: monospace;font-weight: bold;display: inline-block;line-height: 1.2em;}#sk-container-id-4 div.sk-label-container {text-align: center;}#sk-container-id-4 div.sk-container {/* jupyter's `normalize.less` sets `[hidden] { display: none; }` but bootstrap.min.css set `[hidden] { display: none !important; }` so we also need the `!important` here to be able to override the default hidden behavior on the sphinx rendered scikit-learn.org. See: https://github.com/scikit-learn/scikit-learn/issues/21755 */display: inline-block !important;position: relative;}#sk-container-id-4 div.sk-text-repr-fallback {display: none;}</style><div id=\"sk-container-id-4\" class=\"sk-top-container\"><div class=\"sk-text-repr-fallback\"><pre>RVR(kernel=&#x27;linear&#x27;)</pre><b>In a Jupyter environment, please rerun this cell to show the HTML representation or trust the notebook. <br />On GitHub, the HTML representation is unable to render, please try loading this page with nbviewer.org.</b></div><div class=\"sk-container\" hidden><div class=\"sk-item\"><div class=\"sk-estimator sk-toggleable\"><input class=\"sk-toggleable__control sk-hidden--visually\" id=\"sk-estimator-id-4\" type=\"checkbox\" checked><label for=\"sk-estimator-id-4\" class=\"sk-toggleable__label sk-toggleable__label-arrow\">RVR</label><div class=\"sk-toggleable__content\"><pre>RVR(kernel=&#x27;linear&#x27;)</pre></div></div></div></div></div>"
      ],
      "text/plain": [
       "RVR(kernel='linear')"
      ]
     },
     "execution_count": 138,
     "metadata": {},
     "output_type": "execute_result"
    }
   ],
   "source": [
    "##创建并拟合RVM模型\n",
    "model = RVR(kernel='linear')\n",
    "model.fit(trainX_2D,trainY)"
   ]
  },
  {
   "cell_type": "code",
   "execution_count": 139,
   "metadata": {},
   "outputs": [],
   "source": [
    "prediction= model.predict(testX_2D)\n",
    "prediction_1 = prediction.reshape(-1,1)#重要的一步，将一行148列转为148列一行，这才是预测的容量"
   ]
  },
  {
   "cell_type": "code",
   "execution_count": 140,
   "metadata": {},
   "outputs": [
    {
     "name": "stdout",
     "output_type": "stream",
     "text": [
      "prediction\n",
      " [[ 0.7935243 ]\n",
      " [ 0.74061585]\n",
      " [ 0.7655058 ]\n",
      " [ 0.78818319]\n",
      " [ 0.80507208]\n",
      " [ 0.79591716]\n",
      " [ 0.71949977]\n",
      " [ 0.68030355]\n",
      " [ 0.69157292]\n",
      " [ 0.70017099]\n",
      " [ 0.6959724 ]\n",
      " [ 0.62774662]\n",
      " [ 0.58812694]\n",
      " [ 0.58242039]\n",
      " [ 0.60191829]\n",
      " [ 0.59945275]\n",
      " [ 0.5763075 ]\n",
      " [ 0.55063656]\n",
      " [ 0.54832005]\n",
      " [ 0.57847052]\n",
      " [ 0.63256682]\n",
      " [ 0.59397886]\n",
      " [ 0.55391408]\n",
      " [ 0.53779517]\n",
      " [ 0.55503992]\n",
      " [ 0.58968698]\n",
      " [ 0.6489977 ]\n",
      " [ 0.67751742]\n",
      " [ 0.63044515]\n",
      " [ 0.6254387 ]\n",
      " [ 0.63231687]\n",
      " [ 0.60954348]\n",
      " [ 0.60465882]\n",
      " [ 0.57025287]\n",
      " [ 0.52279917]\n",
      " [ 0.58157435]\n",
      " [ 0.54065625]\n",
      " [ 0.50238166]\n",
      " [ 0.494939  ]\n",
      " [ 0.48636433]\n",
      " [ 0.48700369]\n",
      " [ 0.46600568]\n",
      " [ 0.41991291]\n",
      " [ 0.43015063]\n",
      " [ 0.42310986]\n",
      " [ 0.42361711]\n",
      " [ 0.369164  ]\n",
      " [ 0.32364974]\n",
      " [ 0.33573684]\n",
      " [ 0.33670602]\n",
      " [ 0.34268174]\n",
      " [ 0.35678887]\n",
      " [ 0.3320585 ]\n",
      " [ 0.29530674]\n",
      " [ 0.28133763]\n",
      " [ 0.28497573]\n",
      " [ 0.29208081]\n",
      " [ 0.27434468]\n",
      " [ 0.2633025 ]\n",
      " [ 0.2509073 ]\n",
      " [ 0.2439744 ]\n",
      " [ 0.24067577]\n",
      " [ 0.22721097]\n",
      " [ 0.22140022]\n",
      " [ 0.2223576 ]\n",
      " [ 0.22273733]\n",
      " [ 0.2386148 ]\n",
      " [ 0.20638871]\n",
      " [ 0.18988459]\n",
      " [ 0.18427765]\n",
      " [ 0.21287744]\n",
      " [ 0.2312345 ]\n",
      " [ 0.21922567]\n",
      " [ 0.1650527 ]\n",
      " [ 0.13120915]\n",
      " [ 0.15205265]\n",
      " [ 0.15003333]\n",
      " [ 0.14486034]\n",
      " [ 0.12273816]\n",
      " [ 0.10938195]\n",
      " [ 0.11250004]\n",
      " [ 0.10150236]\n",
      " [ 0.05841358]\n",
      " [ 0.06901328]\n",
      " [ 0.07795126]\n",
      " [ 0.09695729]\n",
      " [ 0.16520667]\n",
      " [ 0.15492381]\n",
      " [ 0.1828433 ]\n",
      " [ 0.16821778]\n",
      " [ 0.15476757]\n",
      " [ 0.18162251]\n",
      " [ 0.15658331]\n",
      " [ 0.15785529]\n",
      " [ 0.11680264]\n",
      " [ 0.11420149]\n",
      " [ 0.10964289]\n",
      " [ 0.06989292]\n",
      " [ 0.03124863]\n",
      " [ 0.01829361]\n",
      " [ 0.01275684]\n",
      " [ 0.16096483]\n",
      " [ 0.15197409]\n",
      " [ 0.06594274]\n",
      " [ 0.04977594]\n",
      " [ 0.04321281]\n",
      " [ 0.08440716]\n",
      " [ 0.07187646]\n",
      " [ 0.03789721]\n",
      " [-0.01511391]\n",
      " [-0.02947424]\n",
      " [-0.03820836]]\n",
      "\n",
      "Prediction Shape- (112, 1)\n"
     ]
    }
   ],
   "source": [
    "print(\"prediction\\n\",prediction_1)\n",
    "print(\"\\nPrediction Shape-\",prediction_1.shape)"
   ]
  },
  {
   "cell_type": "code",
   "execution_count": 141,
   "metadata": {},
   "outputs": [],
   "source": [
    "#第八步\n",
    "prediction_copy = np.repeat(prediction_1,5,axis= -1)\n",
    "pred = scaler.inverse_transform(np.reshape(prediction_copy,(len(prediction_1),5)))[:,4]"
   ]
  },
  {
   "cell_type": "code",
   "execution_count": 142,
   "metadata": {},
   "outputs": [
    {
     "data": {
      "text/plain": [
       "(112,)"
      ]
     },
     "execution_count": 142,
     "metadata": {},
     "output_type": "execute_result"
    }
   ],
   "source": [
    "pred.shape"
   ]
  },
  {
   "cell_type": "code",
   "execution_count": 143,
   "metadata": {},
   "outputs": [],
   "source": [
    "original_copy = np.repeat(testY,5,axis=-1)\n",
    "original = scaler.inverse_transform(np.reshape(original_copy,(len(testY),5)))[:,4]"
   ]
  },
  {
   "cell_type": "code",
   "execution_count": 144,
   "metadata": {},
   "outputs": [
    {
     "name": "stdout",
     "output_type": "stream",
     "text": [
      "Pred Values- [1.7488857  1.72169324 1.73448551 1.74614062 1.75482072 1.75011552\n",
      " 1.71084056 1.69069555 1.69648747 1.70090648 1.6987486  1.66368375\n",
      " 1.64332109 1.6403882  1.6504092  1.64914203 1.63724645 1.6240528\n",
      " 1.62286222 1.63835815 1.66616111 1.64632871 1.62573729 1.61745293\n",
      " 1.62631592 1.64412288 1.67460581 1.6892636  1.66507067 1.66249759\n",
      " 1.66603265 1.65432819 1.65181771 1.63413466 1.60974569 1.63995337\n",
      " 1.61892338 1.59925204 1.59542686 1.59101989 1.59134849 1.58055649\n",
      " 1.55686697 1.56212868 1.55851006 1.55877076 1.53078442 1.50739222\n",
      " 1.51360442 1.51410254 1.51717377 1.52442418 1.51171393 1.49282525\n",
      " 1.48564578 1.4875156  1.49116728 1.48205173 1.47637657 1.47000602\n",
      " 1.46644284 1.46474749 1.45782722 1.45484077 1.45533282 1.45552798\n",
      " 1.46368825 1.44712555 1.43864321 1.43576151 1.45046046 1.45989512\n",
      " 1.45372315 1.42588078 1.40848679 1.41919937 1.41816153 1.41550286\n",
      " 1.4041331  1.39726863 1.39887119 1.39321889 1.37107328 1.37652103\n",
      " 1.38111473 1.39088294 1.42595992 1.42067501 1.43502432 1.42750749\n",
      " 1.42059471 1.43439689 1.42152792 1.42218165 1.40108252 1.39974565\n",
      " 1.39740274 1.37697312 1.35711177 1.3504535  1.34760786 1.42377981\n",
      " 1.41915899 1.37494292 1.36663394 1.3632608  1.38443276 1.37799257\n",
      " 1.36052883 1.3332836  1.32590306 1.32141414]\n",
      "\n",
      "Original Valuse_ [1.73151667 1.70859499 1.71146996 1.70750214 1.74923821 1.73276972\n",
      " 1.72223133 1.7118463  1.69926783 1.69403664 1.68190271 1.67697706\n",
      " 1.66552293 1.65719246 1.64822416 1.63877015 1.62764869 1.6221537\n",
      " 1.61400665 1.67605161 1.64930064 1.63238299 1.61641597 1.61090284\n",
      " 1.59546387 1.72670744 1.71656739 1.69582356 1.67777832 1.66065869\n",
      " 1.66641093 1.64683362 1.62576399 1.61215774 1.60573668 1.67364531\n",
      " 1.64043486 1.61326533 1.59209643 1.58660118 1.58007665 1.5641733\n",
      " 1.55561827 1.54020453 1.5321613  1.53162324 1.52225959 1.50652671\n",
      " 1.50142196 1.49635341 1.5334262  1.52384527 1.5011921  1.49241767\n",
      " 1.48332385 1.48073768 1.47350778 1.46801929 1.45809236 1.4478661\n",
      " 1.45278088 1.44253564 1.43927129 1.42864757 1.42490268 1.46981153\n",
      " 1.45258197 1.4428342  1.42837606 1.41545478 1.45457667 1.42831796\n",
      " 1.41970269 1.41556066 1.40568004 1.40844611 1.39685478 1.39356704\n",
      " 1.38936443 1.37856514 1.38490111 1.37032518 1.37334644 1.36794873\n",
      " 1.35671411 1.46043102 1.45009989 1.43814069 1.4283682  1.41478745\n",
      " 1.41388916 1.39893317 1.39533226 1.39004613 1.38602714 1.38821526\n",
      " 1.37618266 1.36471689 1.35898547 1.34623088 1.42684278 1.40644815\n",
      " 1.39349075 1.38824935 1.37018783 1.37969517 1.36865863 1.36273718\n",
      " 1.36340511 1.3518646  1.35479697 1.34105144]\n"
     ]
    }
   ],
   "source": [
    "print(\"Pred Values-\",pred)\n",
    "print(\"\\nOriginal Valuse_\",original)"
   ]
  },
  {
   "cell_type": "code",
   "execution_count": 145,
   "metadata": {},
   "outputs": [],
   "source": [
    "capacity_original_complete =np.append(capacity_original_half,original)\n",
    "pred_complete = np.append(capacity_original_half,pred)"
   ]
  },
  {
   "cell_type": "code",
   "execution_count": 146,
   "metadata": {},
   "outputs": [
    {
     "name": "stdout",
     "output_type": "stream",
     "text": [
      "(132,)\n",
      "(132,)\n"
     ]
    }
   ],
   "source": [
    "print(capacity_original_complete.shape)\n",
    "print(pred_complete.shape)"
   ]
  },
  {
   "cell_type": "code",
   "execution_count": 147,
   "metadata": {},
   "outputs": [
    {
     "data": {
      "image/png": "[encoded data removed]",
      "text/plain": [
       "<Figure size 640x480 with 1 Axes>"
      ]
     },
     "metadata": {},
     "output_type": "display_data"
    }
   ],
   "source": [
    "#第九步\n",
    "plt.plot(pred_complete,color = 'purple',label = 'Predicted Capacity')\n",
    "plt.plot(capacity_original_complete,color= 'red',label = 'Real Capaity')\n",
    "plt.title('RVM\\nB0018 Battery')\n",
    "plt.xlabel('cycle')\n",
    "plt.ylabel('Capacity')\n",
    "plt.legend()\n",
    "plt.show()"
   ]
  },
  {
   "cell_type": "code",
   "execution_count": 148,
   "metadata": {},
   "outputs": [
    {
     "name": "stdout",
     "output_type": "stream",
     "text": [
      "mean_absolute_error MAE: 0.01676014187058276\n",
      "mean_squared_error MSE: 0.00047233555695643897\n",
      "rmse: 0.021733282240757813\n",
      "r2 score: 0.969100879831273\n"
     ]
    }
   ],
   "source": [
    "#第十步\n",
    "print(\"mean_absolute_error MAE:\", mean_absolute_error(original, pred))\n",
    "print(\"mean_squared_error MSE:\", mean_squared_error(original, pred))\n",
    "print(\"rmse:\", sqrt(mean_squared_error(original, pred)))\n",
    "print(\"r2 score:\", r2_score(original, pred))"
   ]
  },
  {
   "cell_type": "markdown",
   "metadata": {},
   "source": [
    "# 从起点80开始预测"
   ]
  },
  {
   "cell_type": "code",
   "execution_count": 149,
   "metadata": {},
   "outputs": [],
   "source": [
    "df_cycle_past = df.iloc[59:79,:]"
   ]
  },
  {
   "cell_type": "code",
   "execution_count": 150,
   "metadata": {},
   "outputs": [
    {
     "data": {
      "text/html": [
       "<div>\n",
       "<style scoped>\n",
       "    .dataframe tbody tr th:only-of-type {\n",
       "        vertical-align: middle;\n",
       "    }\n",
       "\n",
       "    .dataframe tbody tr th {\n",
       "        vertical-align: top;\n",
       "    }\n",
       "\n",
       "    .dataframe thead th {\n",
       "        text-align: right;\n",
       "    }\n",
       "</style>\n",
       "<table border=\"1\" class=\"dataframe\">\n",
       "  <thead>\n",
       "    <tr style=\"text-align: right;\">\n",
       "      <th></th>\n",
       "      <th>循环次数</th>\n",
       "      <th>平均放电电压</th>\n",
       "      <th>平均放电温度</th>\n",
       "      <th>等压降放电时间（3.8V-3.5V）</th>\n",
       "      <th>容量</th>\n",
       "    </tr>\n",
       "  </thead>\n",
       "  <tbody>\n",
       "    <tr>\n",
       "      <th>59</th>\n",
       "      <td>60</td>\n",
       "      <td>3.507660</td>\n",
       "      <td>30.843513</td>\n",
       "      <td>1174.234</td>\n",
       "      <td>1.586601</td>\n",
       "    </tr>\n",
       "    <tr>\n",
       "      <th>60</th>\n",
       "      <td>61</td>\n",
       "      <td>3.507483</td>\n",
       "      <td>30.797157</td>\n",
       "      <td>1169.125</td>\n",
       "      <td>1.580077</td>\n",
       "    </tr>\n",
       "    <tr>\n",
       "      <th>61</th>\n",
       "      <td>62</td>\n",
       "      <td>3.502387</td>\n",
       "      <td>30.984435</td>\n",
       "      <td>1158.828</td>\n",
       "      <td>1.564173</td>\n",
       "    </tr>\n",
       "    <tr>\n",
       "      <th>62</th>\n",
       "      <td>63</td>\n",
       "      <td>3.503693</td>\n",
       "      <td>30.967899</td>\n",
       "      <td>1139.172</td>\n",
       "      <td>1.555618</td>\n",
       "    </tr>\n",
       "    <tr>\n",
       "      <th>63</th>\n",
       "      <td>64</td>\n",
       "      <td>3.498995</td>\n",
       "      <td>30.976616</td>\n",
       "      <td>1120.093</td>\n",
       "      <td>1.540205</td>\n",
       "    </tr>\n",
       "    <tr>\n",
       "      <th>64</th>\n",
       "      <td>65</td>\n",
       "      <td>3.495406</td>\n",
       "      <td>30.897690</td>\n",
       "      <td>1099.375</td>\n",
       "      <td>1.532161</td>\n",
       "    </tr>\n",
       "    <tr>\n",
       "      <th>65</th>\n",
       "      <td>66</td>\n",
       "      <td>3.494528</td>\n",
       "      <td>30.815688</td>\n",
       "      <td>1104.015</td>\n",
       "      <td>1.531623</td>\n",
       "    </tr>\n",
       "    <tr>\n",
       "      <th>66</th>\n",
       "      <td>67</td>\n",
       "      <td>3.496255</td>\n",
       "      <td>30.726188</td>\n",
       "      <td>1082.891</td>\n",
       "      <td>1.522260</td>\n",
       "    </tr>\n",
       "    <tr>\n",
       "      <th>67</th>\n",
       "      <td>68</td>\n",
       "      <td>3.487696</td>\n",
       "      <td>30.768187</td>\n",
       "      <td>1073.360</td>\n",
       "      <td>1.506527</td>\n",
       "    </tr>\n",
       "    <tr>\n",
       "      <th>68</th>\n",
       "      <td>69</td>\n",
       "      <td>3.486548</td>\n",
       "      <td>30.775415</td>\n",
       "      <td>1056.219</td>\n",
       "      <td>1.501422</td>\n",
       "    </tr>\n",
       "    <tr>\n",
       "      <th>69</th>\n",
       "      <td>70</td>\n",
       "      <td>3.482298</td>\n",
       "      <td>30.761822</td>\n",
       "      <td>1045.625</td>\n",
       "      <td>1.496353</td>\n",
       "    </tr>\n",
       "    <tr>\n",
       "      <th>70</th>\n",
       "      <td>71</td>\n",
       "      <td>3.491819</td>\n",
       "      <td>30.913722</td>\n",
       "      <td>1095.343</td>\n",
       "      <td>1.533426</td>\n",
       "    </tr>\n",
       "    <tr>\n",
       "      <th>71</th>\n",
       "      <td>72</td>\n",
       "      <td>3.493996</td>\n",
       "      <td>31.228216</td>\n",
       "      <td>1086.391</td>\n",
       "      <td>1.523845</td>\n",
       "    </tr>\n",
       "    <tr>\n",
       "      <th>72</th>\n",
       "      <td>73</td>\n",
       "      <td>3.484377</td>\n",
       "      <td>31.261680</td>\n",
       "      <td>1064.766</td>\n",
       "      <td>1.501192</td>\n",
       "    </tr>\n",
       "    <tr>\n",
       "      <th>73</th>\n",
       "      <td>74</td>\n",
       "      <td>3.485912</td>\n",
       "      <td>31.184086</td>\n",
       "      <td>1045.062</td>\n",
       "      <td>1.492418</td>\n",
       "    </tr>\n",
       "    <tr>\n",
       "      <th>74</th>\n",
       "      <td>75</td>\n",
       "      <td>3.484279</td>\n",
       "      <td>31.001432</td>\n",
       "      <td>1035.375</td>\n",
       "      <td>1.483324</td>\n",
       "    </tr>\n",
       "    <tr>\n",
       "      <th>75</th>\n",
       "      <td>76</td>\n",
       "      <td>3.482989</td>\n",
       "      <td>30.981374</td>\n",
       "      <td>1027.079</td>\n",
       "      <td>1.480738</td>\n",
       "    </tr>\n",
       "    <tr>\n",
       "      <th>76</th>\n",
       "      <td>77</td>\n",
       "      <td>3.483800</td>\n",
       "      <td>31.088688</td>\n",
       "      <td>1019.672</td>\n",
       "      <td>1.473508</td>\n",
       "    </tr>\n",
       "    <tr>\n",
       "      <th>77</th>\n",
       "      <td>78</td>\n",
       "      <td>3.478754</td>\n",
       "      <td>31.336420</td>\n",
       "      <td>1007.875</td>\n",
       "      <td>1.468019</td>\n",
       "    </tr>\n",
       "    <tr>\n",
       "      <th>78</th>\n",
       "      <td>79</td>\n",
       "      <td>3.475219</td>\n",
       "      <td>31.226000</td>\n",
       "      <td>997.907</td>\n",
       "      <td>1.458092</td>\n",
       "    </tr>\n",
       "  </tbody>\n",
       "</table>\n",
       "</div>"
      ],
      "text/plain": [
       "    循环次数    平均放电电压     平均放电温度  等压降放电时间（3.8V-3.5V）        容量\n",
       "59    60  3.507660  30.843513            1174.234  1.586601\n",
       "60    61  3.507483  30.797157            1169.125  1.580077\n",
       "61    62  3.502387  30.984435            1158.828  1.564173\n",
       "62    63  3.503693  30.967899            1139.172  1.555618\n",
       "63    64  3.498995  30.976616            1120.093  1.540205\n",
       "64    65  3.495406  30.897690            1099.375  1.532161\n",
       "65    66  3.494528  30.815688            1104.015  1.531623\n",
       "66    67  3.496255  30.726188            1082.891  1.522260\n",
       "67    68  3.487696  30.768187            1073.360  1.506527\n",
       "68    69  3.486548  30.775415            1056.219  1.501422\n",
       "69    70  3.482298  30.761822            1045.625  1.496353\n",
       "70    71  3.491819  30.913722            1095.343  1.533426\n",
       "71    72  3.493996  31.228216            1086.391  1.523845\n",
       "72    73  3.484377  31.261680            1064.766  1.501192\n",
       "73    74  3.485912  31.184086            1045.062  1.492418\n",
       "74    75  3.484279  31.001432            1035.375  1.483324\n",
       "75    76  3.482989  30.981374            1027.079  1.480738\n",
       "76    77  3.483800  31.088688            1019.672  1.473508\n",
       "77    78  3.478754  31.336420            1007.875  1.468019\n",
       "78    79  3.475219  31.226000             997.907  1.458092"
      ]
     },
     "execution_count": 150,
     "metadata": {},
     "output_type": "execute_result"
    }
   ],
   "source": [
    "df_cycle_past"
   ]
  },
  {
   "cell_type": "code",
   "execution_count": 151,
   "metadata": {},
   "outputs": [],
   "source": [
    "df_cycle_feature = pd.read_csv(\"B5_test.csv\")"
   ]
  },
  {
   "cell_type": "code",
   "execution_count": 152,
   "metadata": {},
   "outputs": [
    {
     "data": {
      "text/html": [
       "<div>\n",
       "<style scoped>\n",
       "    .dataframe tbody tr th:only-of-type {\n",
       "        vertical-align: middle;\n",
       "    }\n",
       "\n",
       "    .dataframe tbody tr th {\n",
       "        vertical-align: top;\n",
       "    }\n",
       "\n",
       "    .dataframe thead th {\n",
       "        text-align: right;\n",
       "    }\n",
       "</style>\n",
       "<table border=\"1\" class=\"dataframe\">\n",
       "  <thead>\n",
       "    <tr style=\"text-align: right;\">\n",
       "      <th></th>\n",
       "      <th>循环次数</th>\n",
       "      <th>平均放电电压</th>\n",
       "      <th>平均放电温度</th>\n",
       "      <th>等压降放电时间</th>\n",
       "      <th>容量</th>\n",
       "    </tr>\n",
       "  </thead>\n",
       "  <tbody>\n",
       "    <tr>\n",
       "      <th>0</th>\n",
       "      <td>81</td>\n",
       "      <td>3.514773</td>\n",
       "      <td>32.219976</td>\n",
       "      <td>1180.563</td>\n",
       "      <td>1.559766</td>\n",
       "    </tr>\n",
       "    <tr>\n",
       "      <th>1</th>\n",
       "      <td>82</td>\n",
       "      <td>3.513299</td>\n",
       "      <td>32.712023</td>\n",
       "      <td>1170.906</td>\n",
       "      <td>1.559482</td>\n",
       "    </tr>\n",
       "    <tr>\n",
       "      <th>2</th>\n",
       "      <td>83</td>\n",
       "      <td>3.514485</td>\n",
       "      <td>32.945022</td>\n",
       "      <td>1162.032</td>\n",
       "      <td>1.554689</td>\n",
       "    </tr>\n",
       "    <tr>\n",
       "      <th>3</th>\n",
       "      <td>84</td>\n",
       "      <td>3.510968</td>\n",
       "      <td>32.857550</td>\n",
       "      <td>1152.125</td>\n",
       "      <td>1.548874</td>\n",
       "    </tr>\n",
       "    <tr>\n",
       "      <th>4</th>\n",
       "      <td>85</td>\n",
       "      <td>3.510936</td>\n",
       "      <td>32.629663</td>\n",
       "      <td>1142.672</td>\n",
       "      <td>1.538237</td>\n",
       "    </tr>\n",
       "    <tr>\n",
       "      <th>...</th>\n",
       "      <td>...</td>\n",
       "      <td>...</td>\n",
       "      <td>...</td>\n",
       "      <td>...</td>\n",
       "      <td>...</td>\n",
       "    </tr>\n",
       "    <tr>\n",
       "      <th>83</th>\n",
       "      <td>164</td>\n",
       "      <td>3.466462</td>\n",
       "      <td>33.275688</td>\n",
       "      <td>805.656</td>\n",
       "      <td>1.293464</td>\n",
       "    </tr>\n",
       "    <tr>\n",
       "      <th>84</th>\n",
       "      <td>165</td>\n",
       "      <td>3.468509</td>\n",
       "      <td>33.320678</td>\n",
       "      <td>796.281</td>\n",
       "      <td>1.288003</td>\n",
       "    </tr>\n",
       "    <tr>\n",
       "      <th>85</th>\n",
       "      <td>166</td>\n",
       "      <td>3.466806</td>\n",
       "      <td>33.373150</td>\n",
       "      <td>795.937</td>\n",
       "      <td>1.287453</td>\n",
       "    </tr>\n",
       "    <tr>\n",
       "      <th>86</th>\n",
       "      <td>167</td>\n",
       "      <td>3.471071</td>\n",
       "      <td>33.713519</td>\n",
       "      <td>824.375</td>\n",
       "      <td>1.309015</td>\n",
       "    </tr>\n",
       "    <tr>\n",
       "      <th>87</th>\n",
       "      <td>168</td>\n",
       "      <td>3.475472</td>\n",
       "      <td>33.865318</td>\n",
       "      <td>843.109</td>\n",
       "      <td>1.325079</td>\n",
       "    </tr>\n",
       "  </tbody>\n",
       "</table>\n",
       "<p>88 rows × 5 columns</p>\n",
       "</div>"
      ],
      "text/plain": [
       "    循环次数    平均放电电压     平均放电温度   等压降放电时间        容量\n",
       "0     81  3.514773  32.219976  1180.563  1.559766\n",
       "1     82  3.513299  32.712023  1170.906  1.559482\n",
       "2     83  3.514485  32.945022  1162.032  1.554689\n",
       "3     84  3.510968  32.857550  1152.125  1.548874\n",
       "4     85  3.510936  32.629663  1142.672  1.538237\n",
       "..   ...       ...        ...       ...       ...\n",
       "83   164  3.466462  33.275688   805.656  1.293464\n",
       "84   165  3.468509  33.320678   796.281  1.288003\n",
       "85   166  3.466806  33.373150   795.937  1.287453\n",
       "86   167  3.471071  33.713519   824.375  1.309015\n",
       "87   168  3.475472  33.865318   843.109  1.325079\n",
       "\n",
       "[88 rows x 5 columns]"
      ]
     },
     "execution_count": 152,
     "metadata": {},
     "output_type": "execute_result"
    }
   ],
   "source": [
    "df_cycle_feature"
   ]
  },
  {
   "cell_type": "code",
   "execution_count": null,
   "metadata": {},
   "outputs": [],
   "source": []
  },
  {
   "cell_type": "code",
   "execution_count": null,
   "metadata": {},
   "outputs": [],
   "source": []
  },
  {
   "cell_type": "code",
   "execution_count": 153,
   "metadata": {},
   "outputs": [],
   "source": [
    "df_cycle_feature = pd.read_csv(\"B5_test.csv\")"
   ]
  },
  {
   "cell_type": "code",
   "execution_count": 154,
   "metadata": {},
   "outputs": [],
   "source": [
    "df_cycle_feature[\"容量\"]=0"
   ]
  },
  {
   "cell_type": "code",
   "execution_count": 155,
   "metadata": {},
   "outputs": [
    {
     "ename": "ValueError",
     "evalue": "The feature names should match those that were passed during fit.\nFeature names unseen at fit time:\n- 等压降放电时间\nFeature names seen at fit time, yet now missing:\n- 等压降放电时间（3.8V-3.5V）\n",
     "output_type": "error",
     "traceback": [
      "\u001b[1;31m---------------------------------------------------------------------------\u001b[0m",
      "\u001b[1;31mValueError\u001b[0m                                Traceback (most recent call last)",
      "Cell \u001b[1;32mIn[155], line 2\u001b[0m\n\u001b[0;32m      1\u001b[0m old_scaled_array \u001b[38;5;241m=\u001b[39m scaler\u001b[38;5;241m.\u001b[39mtransform(df_cycle_past)\n\u001b[1;32m----> 2\u001b[0m new_scaled_array \u001b[38;5;241m=\u001b[39m \u001b[43mscaler\u001b[49m\u001b[38;5;241;43m.\u001b[39;49m\u001b[43mtransform\u001b[49m\u001b[43m(\u001b[49m\u001b[43mdf_cycle_feature\u001b[49m\u001b[43m)\u001b[49m\n\u001b[0;32m      3\u001b[0m new_scaled_df \u001b[38;5;241m=\u001b[39m pd\u001b[38;5;241m.\u001b[39mDataFrame(new_scaled_array)\n\u001b[0;32m      4\u001b[0m new_scaled_df\u001b[38;5;241m.\u001b[39miloc[:,\u001b[38;5;241m4\u001b[39m] \u001b[38;5;241m=\u001b[39m np\u001b[38;5;241m.\u001b[39mnan\n",
      "File \u001b[1;32m~\\.conda\\envs\\pytorch\\lib\\site-packages\\sklearn\\utils\\_set_output.py:140\u001b[0m, in \u001b[0;36m_wrap_method_output.<locals>.wrapped\u001b[1;34m(self, X, *args, **kwargs)\u001b[0m\n\u001b[0;32m    138\u001b[0m \u001b[38;5;129m@wraps\u001b[39m(f)\n\u001b[0;32m    139\u001b[0m \u001b[38;5;28;01mdef\u001b[39;00m \u001b[38;5;21mwrapped\u001b[39m(\u001b[38;5;28mself\u001b[39m, X, \u001b[38;5;241m*\u001b[39margs, \u001b[38;5;241m*\u001b[39m\u001b[38;5;241m*\u001b[39mkwargs):\n\u001b[1;32m--> 140\u001b[0m     data_to_wrap \u001b[38;5;241m=\u001b[39m f(\u001b[38;5;28mself\u001b[39m, X, \u001b[38;5;241m*\u001b[39margs, \u001b[38;5;241m*\u001b[39m\u001b[38;5;241m*\u001b[39mkwargs)\n\u001b[0;32m    141\u001b[0m     \u001b[38;5;28;01mif\u001b[39;00m \u001b[38;5;28misinstance\u001b[39m(data_to_wrap, \u001b[38;5;28mtuple\u001b[39m):\n\u001b[0;32m    142\u001b[0m         \u001b[38;5;66;03m# only wrap the first output for cross decomposition\u001b[39;00m\n\u001b[0;32m    143\u001b[0m         \u001b[38;5;28;01mreturn\u001b[39;00m (\n\u001b[0;32m    144\u001b[0m             _wrap_data_with_container(method, data_to_wrap[\u001b[38;5;241m0\u001b[39m], X, \u001b[38;5;28mself\u001b[39m),\n\u001b[0;32m    145\u001b[0m             \u001b[38;5;241m*\u001b[39mdata_to_wrap[\u001b[38;5;241m1\u001b[39m:],\n\u001b[0;32m    146\u001b[0m         )\n",
      "File \u001b[1;32m~\\.conda\\envs\\pytorch\\lib\\site-packages\\sklearn\\preprocessing\\_data.py:508\u001b[0m, in \u001b[0;36mMinMaxScaler.transform\u001b[1;34m(self, X)\u001b[0m\n\u001b[0;32m    494\u001b[0m \u001b[38;5;250m\u001b[39m\u001b[38;5;124;03m\"\"\"Scale features of X according to feature_range.\u001b[39;00m\n\u001b[0;32m    495\u001b[0m \n\u001b[0;32m    496\u001b[0m \u001b[38;5;124;03mParameters\u001b[39;00m\n\u001b[1;32m   (...)\u001b[0m\n\u001b[0;32m    504\u001b[0m \u001b[38;5;124;03m    Transformed data.\u001b[39;00m\n\u001b[0;32m    505\u001b[0m \u001b[38;5;124;03m\"\"\"\u001b[39;00m\n\u001b[0;32m    506\u001b[0m check_is_fitted(\u001b[38;5;28mself\u001b[39m)\n\u001b[1;32m--> 508\u001b[0m X \u001b[38;5;241m=\u001b[39m \u001b[38;5;28;43mself\u001b[39;49m\u001b[38;5;241;43m.\u001b[39;49m\u001b[43m_validate_data\u001b[49m\u001b[43m(\u001b[49m\n\u001b[0;32m    509\u001b[0m \u001b[43m    \u001b[49m\u001b[43mX\u001b[49m\u001b[43m,\u001b[49m\n\u001b[0;32m    510\u001b[0m \u001b[43m    \u001b[49m\u001b[43mcopy\u001b[49m\u001b[38;5;241;43m=\u001b[39;49m\u001b[38;5;28;43mself\u001b[39;49m\u001b[38;5;241;43m.\u001b[39;49m\u001b[43mcopy\u001b[49m\u001b[43m,\u001b[49m\n\u001b[0;32m    511\u001b[0m \u001b[43m    \u001b[49m\u001b[43mdtype\u001b[49m\u001b[38;5;241;43m=\u001b[39;49m\u001b[43mFLOAT_DTYPES\u001b[49m\u001b[43m,\u001b[49m\n\u001b[0;32m    512\u001b[0m \u001b[43m    \u001b[49m\u001b[43mforce_all_finite\u001b[49m\u001b[38;5;241;43m=\u001b[39;49m\u001b[38;5;124;43m\"\u001b[39;49m\u001b[38;5;124;43mallow-nan\u001b[39;49m\u001b[38;5;124;43m\"\u001b[39;49m\u001b[43m,\u001b[49m\n\u001b[0;32m    513\u001b[0m \u001b[43m    \u001b[49m\u001b[43mreset\u001b[49m\u001b[38;5;241;43m=\u001b[39;49m\u001b[38;5;28;43;01mFalse\u001b[39;49;00m\u001b[43m,\u001b[49m\n\u001b[0;32m    514\u001b[0m \u001b[43m\u001b[49m\u001b[43m)\u001b[49m\n\u001b[0;32m    516\u001b[0m X \u001b[38;5;241m*\u001b[39m\u001b[38;5;241m=\u001b[39m \u001b[38;5;28mself\u001b[39m\u001b[38;5;241m.\u001b[39mscale_\n\u001b[0;32m    517\u001b[0m X \u001b[38;5;241m+\u001b[39m\u001b[38;5;241m=\u001b[39m \u001b[38;5;28mself\u001b[39m\u001b[38;5;241m.\u001b[39mmin_\n",
      "File \u001b[1;32m~\\.conda\\envs\\pytorch\\lib\\site-packages\\sklearn\\base.py:548\u001b[0m, in \u001b[0;36mBaseEstimator._validate_data\u001b[1;34m(self, X, y, reset, validate_separately, **check_params)\u001b[0m\n\u001b[0;32m    483\u001b[0m \u001b[38;5;28;01mdef\u001b[39;00m \u001b[38;5;21m_validate_data\u001b[39m(\n\u001b[0;32m    484\u001b[0m     \u001b[38;5;28mself\u001b[39m,\n\u001b[0;32m    485\u001b[0m     X\u001b[38;5;241m=\u001b[39m\u001b[38;5;124m\"\u001b[39m\u001b[38;5;124mno_validation\u001b[39m\u001b[38;5;124m\"\u001b[39m,\n\u001b[1;32m   (...)\u001b[0m\n\u001b[0;32m    489\u001b[0m     \u001b[38;5;241m*\u001b[39m\u001b[38;5;241m*\u001b[39mcheck_params,\n\u001b[0;32m    490\u001b[0m ):\n\u001b[0;32m    491\u001b[0m \u001b[38;5;250m    \u001b[39m\u001b[38;5;124;03m\"\"\"Validate input data and set or check the `n_features_in_` attribute.\u001b[39;00m\n\u001b[0;32m    492\u001b[0m \n\u001b[0;32m    493\u001b[0m \u001b[38;5;124;03m    Parameters\u001b[39;00m\n\u001b[1;32m   (...)\u001b[0m\n\u001b[0;32m    546\u001b[0m \u001b[38;5;124;03m        validated.\u001b[39;00m\n\u001b[0;32m    547\u001b[0m \u001b[38;5;124;03m    \"\"\"\u001b[39;00m\n\u001b[1;32m--> 548\u001b[0m     \u001b[38;5;28;43mself\u001b[39;49m\u001b[38;5;241;43m.\u001b[39;49m\u001b[43m_check_feature_names\u001b[49m\u001b[43m(\u001b[49m\u001b[43mX\u001b[49m\u001b[43m,\u001b[49m\u001b[43m \u001b[49m\u001b[43mreset\u001b[49m\u001b[38;5;241;43m=\u001b[39;49m\u001b[43mreset\u001b[49m\u001b[43m)\u001b[49m\n\u001b[0;32m    550\u001b[0m     \u001b[38;5;28;01mif\u001b[39;00m y \u001b[38;5;129;01mis\u001b[39;00m \u001b[38;5;28;01mNone\u001b[39;00m \u001b[38;5;129;01mand\u001b[39;00m \u001b[38;5;28mself\u001b[39m\u001b[38;5;241m.\u001b[39m_get_tags()[\u001b[38;5;124m\"\u001b[39m\u001b[38;5;124mrequires_y\u001b[39m\u001b[38;5;124m\"\u001b[39m]:\n\u001b[0;32m    551\u001b[0m         \u001b[38;5;28;01mraise\u001b[39;00m \u001b[38;5;167;01mValueError\u001b[39;00m(\n\u001b[0;32m    552\u001b[0m             \u001b[38;5;124mf\u001b[39m\u001b[38;5;124m\"\u001b[39m\u001b[38;5;124mThis \u001b[39m\u001b[38;5;132;01m{\u001b[39;00m\u001b[38;5;28mself\u001b[39m\u001b[38;5;241m.\u001b[39m\u001b[38;5;18m__class__\u001b[39m\u001b[38;5;241m.\u001b[39m\u001b[38;5;18m__name__\u001b[39m\u001b[38;5;132;01m}\u001b[39;00m\u001b[38;5;124m estimator \u001b[39m\u001b[38;5;124m\"\u001b[39m\n\u001b[0;32m    553\u001b[0m             \u001b[38;5;124m\"\u001b[39m\u001b[38;5;124mrequires y to be passed, but the target y is None.\u001b[39m\u001b[38;5;124m\"\u001b[39m\n\u001b[0;32m    554\u001b[0m         )\n",
      "File \u001b[1;32m~\\.conda\\envs\\pytorch\\lib\\site-packages\\sklearn\\base.py:481\u001b[0m, in \u001b[0;36mBaseEstimator._check_feature_names\u001b[1;34m(self, X, reset)\u001b[0m\n\u001b[0;32m    476\u001b[0m \u001b[38;5;28;01mif\u001b[39;00m \u001b[38;5;129;01mnot\u001b[39;00m missing_names \u001b[38;5;129;01mand\u001b[39;00m \u001b[38;5;129;01mnot\u001b[39;00m unexpected_names:\n\u001b[0;32m    477\u001b[0m     message \u001b[38;5;241m+\u001b[39m\u001b[38;5;241m=\u001b[39m (\n\u001b[0;32m    478\u001b[0m         \u001b[38;5;124m\"\u001b[39m\u001b[38;5;124mFeature names must be in the same order as they were in fit.\u001b[39m\u001b[38;5;130;01m\\n\u001b[39;00m\u001b[38;5;124m\"\u001b[39m\n\u001b[0;32m    479\u001b[0m     )\n\u001b[1;32m--> 481\u001b[0m \u001b[38;5;28;01mraise\u001b[39;00m \u001b[38;5;167;01mValueError\u001b[39;00m(message)\n",
      "\u001b[1;31mValueError\u001b[0m: The feature names should match those that were passed during fit.\nFeature names unseen at fit time:\n- 等压降放电时间\nFeature names seen at fit time, yet now missing:\n- 等压降放电时间（3.8V-3.5V）\n"
     ]
    }
   ],
   "source": [
    "\n",
    "old_scaled_array = scaler.transform(df_cycle_past)\n",
    "new_scaled_array = scaler.transform(df_cycle_feature)\n",
    "new_scaled_df = pd.DataFrame(new_scaled_array)\n",
    "new_scaled_df.iloc[:,4] = np.nan\n",
    "full_df = pd.concat([pd.DataFrame(old_scaled_array),new_scaled_df]).reset_index().drop([\"index\"],axis=1)\n",
    "                     "
   ]
  },
  {
   "cell_type": "code",
   "execution_count": null,
   "metadata": {},
   "outputs": [],
   "source": [
    "full_df_scaled_array = full_df.values\n",
    "all_data=[]\n",
    "time_step=20\n",
    "for i in range (time_step,len(full_df_scaled_array)):\n",
    "    data_x=[]\n",
    "    data_x.append(full_df_scaled_array[i-time_step:i,0:full_df_scaled_array.shape[1]])\n",
    "    data_x=np.array(data_x)\n",
    "    data_x_2D=(data_x.reshape(data_x.shape[0], data_x.shape[1] * data_x.shape[2]))\n",
    "    prediction = model.predict(data_x_2D)\n",
    "    print(prediction)\n",
    "    all_data.append(prediction)\n",
    "    full_df.iloc[i,4] = prediction"
   ]
  },
  {
   "cell_type": "code",
   "execution_count": null,
   "metadata": {},
   "outputs": [],
   "source": [
    "prediction.shape"
   ]
  },
  {
   "cell_type": "code",
   "execution_count": null,
   "metadata": {},
   "outputs": [],
   "source": [
    "prediction_2 = prediction.reshape(-1,1)"
   ]
  },
  {
   "cell_type": "code",
   "execution_count": null,
   "metadata": {},
   "outputs": [],
   "source": [
    "new_array = np.array(all_data)\n",
    "new_array = new_array.reshape(-1,1)\n",
    "prediction_copy_array =np.repeat(new_array,5,axis=-1)\n",
    "y_pred_future_cycle = scaler.inverse_transform(np.reshape(prediction_copy_array,(len(new_array),5)))[:,4]\n",
    "print(y_pred_future_cycle)"
   ]
  },
  {
   "cell_type": "code",
   "execution_count": null,
   "metadata": {},
   "outputs": [],
   "source": [
    "capacity_original_half = np.array(df)[:80,4]\n",
    "capacity_original_complete = np.array(df)[:,4]\n",
    "len(capacity_original_half)"
   ]
  },
  {
   "cell_type": "code",
   "execution_count": null,
   "metadata": {},
   "outputs": [],
   "source": [
    "pred_complete = np.append(capacity_original_half,y_pred_future_cycle)"
   ]
  },
  {
   "cell_type": "code",
   "execution_count": null,
   "metadata": {},
   "outputs": [],
   "source": [
    "len(pred_complete)"
   ]
  },
  {
   "cell_type": "code",
   "execution_count": null,
   "metadata": {},
   "outputs": [],
   "source": [
    "len(capacity_original_complete)"
   ]
  },
  {
   "cell_type": "code",
   "execution_count": null,
   "metadata": {},
   "outputs": [],
   "source": []
  },
  {
   "cell_type": "code",
   "execution_count": null,
   "metadata": {},
   "outputs": [],
   "source": [
    "plt.plot(pred_complete,color = 'purple',label = 'Predicted Capacity')\n",
    "plt.plot(capacity_original_complete,color = 'red',label = 'Real Capacity')\n",
    "plt.title('RVM\\nB0005 Battery')\n",
    "plt.xlabel('Cycle')\n",
    "plt.ylabel('Capacity')\n",
    "plt.legend()\n",
    "plt.show()"
   ]
  },
  {
   "cell_type": "code",
   "execution_count": null,
   "metadata": {},
   "outputs": [],
   "source": [
    "print(\"mean_absolute_error MAE:\", mean_absolute_error(capacity_original_complete, pred_complete))\n",
    "print(\"mean_squared_error MSE:\", mean_squared_error(capacity_original_complete, pred_complete))\n",
    "print(\"rmse:\", sqrt(mean_squared_error(capacity_original_complete, pred_complete)))\n",
    "print(\"r2 score:\", r2_score(capacity_original_complete, pred_complete))"
   ]
  },
  {
   "cell_type": "code",
   "execution_count": null,
   "metadata": {},
   "outputs": [],
   "source": []
  },
  {
   "cell_type": "code",
   "execution_count": null,
   "metadata": {},
   "outputs": [],
   "source": []
  },
  {
   "cell_type": "code",
   "execution_count": null,
   "metadata": {},
   "outputs": [],
   "source": []
  }
 ],
 "metadata": {
  "kernelspec": {
   "display_name": "Python 3 (ipykernel)",
   "language": "python",
   "name": "python3"
  },
  "language_info": {
   "codemirror_mode": {
    "name": "ipython",
    "version": 3
   },
   "file_extension": ".py",
   "mimetype": "text/x-python",
   "name": "python",
   "nbconvert_exporter": "python",
   "pygments_lexer": "ipython3",
   "version": "3.10.9"
  }
 },
 "nbformat": 4,
 "nbformat_minor": 2
}
