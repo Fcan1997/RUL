{
 "cells": [
  {
   "cell_type": "markdown",
   "metadata": {},
   "source": [
    "定义rvm的类，回归和分类都有"
   ]
  },
  {
   "cell_type": "code",
   "execution_count": 2,
   "metadata": {},
   "outputs": [],
   "source": [
    "\"\"\"Relevance Vector Machine classes for regression and classification.\"\"\"\n",
    "import numpy as np\n",
    " \n",
    "from scipy.optimize import minimize\n",
    "from scipy.special import expit\n",
    " \n",
    "from sklearn.base import BaseEstimator, RegressorMixin, ClassifierMixin\n",
    "from sklearn.metrics.pairwise import (\n",
    "    linear_kernel,\n",
    "    rbf_kernel,\n",
    "    polynomial_kernel\n",
    ")\n",
    "from sklearn.multiclass import OneVsOneClassifier\n",
    "from sklearn.utils.validation import check_X_y\n",
    " \n",
    " \n",
    "class BaseRVM(BaseEstimator):\n",
    " \n",
    "    \"\"\"Base Relevance Vector Machine class.\n",
    "    Implementation of Mike Tipping's Relevance Vector Machine using the\n",
    "    scikit-learn API. Add a posterior over weights method and a predict\n",
    "    in subclass to use for classification or regression.\n",
    "    \"\"\"\n",
    " \n",
    "    def __init__(\n",
    "        self,\n",
    "        kernel='rbf',\n",
    "        degree=3,\n",
    "        coef1=None,\n",
    "        coef0=0.0,\n",
    "        n_iter=3000,\n",
    "        tol=1e-3,\n",
    "        alpha=1e-6,\n",
    "        threshold_alpha=1e9,\n",
    "        beta=1.e-6,\n",
    "        beta_fixed=False,\n",
    "        bias_used=True,\n",
    "        verbose=False\n",
    "    ):\n",
    "        \"\"\"Copy params to object properties, no validation.\"\"\"\n",
    "        self.kernel = kernel\n",
    "        self.degree = degree\n",
    "        self.coef1 = coef1\n",
    "        self.coef0 = coef0\n",
    "        self.n_iter = n_iter\n",
    "        self.tol = tol\n",
    "        self.alpha = alpha\n",
    "        self.threshold_alpha = threshold_alpha\n",
    "        self.beta = beta\n",
    "        self.beta_fixed = beta_fixed\n",
    "        self.bias_used = bias_used\n",
    "        self.verbose = verbose\n",
    " \n",
    "    def get_params(self, deep=True):\n",
    "        \"\"\"Return parameters as a dictionary.\"\"\"\n",
    "        params = {\n",
    "            'kernel': self.kernel,\n",
    "            'degree': self.degree,\n",
    "            'coef1': self.coef1,\n",
    "            'coef0': self.coef0,\n",
    "            'n_iter': self.n_iter,\n",
    "            'tol': self.tol,\n",
    "            'alpha': self.alpha,\n",
    "            'threshold_alpha': self.threshold_alpha,\n",
    "            'beta': self.beta,\n",
    "            'beta_fixed': self.beta_fixed,\n",
    "            'bias_used': self.bias_used,\n",
    "            'verbose': self.verbose\n",
    "        }\n",
    "        return params\n",
    " \n",
    "    def set_params(self, **parameters):\n",
    "        \"\"\"Set parameters using kwargs.\"\"\"\n",
    "        for parameter, value in parameters.items():\n",
    "            setattr(self, parameter, value)\n",
    "        return self\n",
    " \n",
    "    def _apply_kernel(self, x, y):\n",
    "        \"\"\"Apply the selected kernel function to the data.\"\"\"\n",
    "        if self.kernel == 'linear':\n",
    "            phi = linear_kernel(x, y)\n",
    "        elif self.kernel == 'rbf':\n",
    "            phi = rbf_kernel(x, y, self.coef1)\n",
    "        elif self.kernel == 'poly':\n",
    "            phi = polynomial_kernel(x, y, self.degree, self.coef1, self.coef0)\n",
    "        elif callable(self.kernel):\n",
    "            phi = self.kernel(x, y)\n",
    "            if len(phi.shape) != 2:\n",
    "                raise ValueError(\n",
    "                    \"Custom kernel function did not return 2D matrix\"\n",
    "                )\n",
    "            if phi.shape[0] != x.shape[0]:\n",
    "                raise ValueError(\n",
    "                    \"Custom kernel function did not return matrix with rows\"\n",
    "                    \" equal to number of data points.\"\"\"\n",
    "                )\n",
    "        else:\n",
    "            raise ValueError(\"Kernel selection is invalid.\")\n",
    " \n",
    "        if self.bias_used:\n",
    "            phi = np.append(phi, np.ones((phi.shape[0], 1)), axis=1)\n",
    " \n",
    "        return phi\n",
    " \n",
    "    def _prune(self):\n",
    "        \"\"\"Remove basis functions based on alpha values.\"\"\"\n",
    "        keep_alpha = self.alpha_ < self.threshold_alpha\n",
    " \n",
    "        if not np.any(keep_alpha):\n",
    "            keep_alpha[0] = True\n",
    "            if self.bias_used:\n",
    "                keep_alpha[-1] = True\n",
    " \n",
    "        if self.bias_used:\n",
    "            if not keep_alpha[-1]:\n",
    "                self.bias_used = False\n",
    "            self.relevance_ = self.relevance_[keep_alpha[:-1]]\n",
    "        else:\n",
    "            self.relevance_ = self.relevance_[keep_alpha]\n",
    " \n",
    "        self.alpha_ = self.alpha_[keep_alpha]\n",
    "        self.alpha_old = self.alpha_old[keep_alpha]\n",
    "        self.gamma = self.gamma[keep_alpha]\n",
    "        self.phi = self.phi[:, keep_alpha]\n",
    "        self.sigma_ = self.sigma_[np.ix_(keep_alpha, keep_alpha)]\n",
    "        self.m_ = self.m_[keep_alpha]\n",
    " \n",
    "    def fit(self, X, y):\n",
    "        \"\"\"Fit the RVR to the training data.\"\"\"\n",
    "        X, y = check_X_y(X, y)\n",
    " \n",
    "        n_samples, n_features = X.shape\n",
    " \n",
    "        self.phi = self._apply_kernel(X, X)\n",
    " \n",
    "        n_basis_functions = self.phi.shape[1]\n",
    " \n",
    "        self.relevance_ = X\n",
    "        self.y = y\n",
    " \n",
    "        self.alpha_ = self.alpha * np.ones(n_basis_functions)\n",
    "        self.beta_ = self.beta\n",
    " \n",
    "        self.m_ = np.zeros(n_basis_functions)\n",
    " \n",
    "        self.alpha_old = self.alpha_\n",
    " \n",
    "        for i in range(self.n_iter):\n",
    "            self._posterior()\n",
    " \n",
    "            self.gamma = 1 - self.alpha_*np.diag(self.sigma_)\n",
    "            self.alpha_ = self.gamma/(self.m_ ** 2)\n",
    " \n",
    "            if not self.beta_fixed:\n",
    "                self.beta_ = (n_samples - np.sum(self.gamma))/(\n",
    "                    np.sum((y - np.dot(self.phi, self.m_)) ** 2))\n",
    " \n",
    "            self._prune()\n",
    " \n",
    "            if self.verbose:\n",
    "                print(\"Iteration: {}\".format(i))\n",
    "                print(\"Alpha: {}\".format(self.alpha_))\n",
    "                print(\"Beta: {}\".format(self.beta_))\n",
    "                print(\"Gamma: {}\".format(self.gamma))\n",
    "                print(\"m: {}\".format(self.m_))\n",
    "                print(\"Relevance Vectors: {}\".format(self.relevance_.shape[0]))\n",
    "                print()\n",
    " \n",
    "            delta = np.amax(np.absolute(self.alpha_ - self.alpha_old))\n",
    " \n",
    "            if delta < self.tol and i > 1:\n",
    "                break\n",
    " \n",
    "            self.alpha_old = self.alpha_\n",
    " \n",
    "        if self.bias_used:\n",
    "            self.bias = self.m_[-1]\n",
    "        else:\n",
    "            self.bias = None\n",
    " \n",
    "        return self\n",
    " \n",
    " \n",
    "class RVR(BaseRVM, RegressorMixin):\n",
    " \n",
    "    \"\"\"Relevance Vector Machine Regression.\n",
    "    Implementation of Mike Tipping's Relevance Vector Machine for regression\n",
    "    using the scikit-learn API.\n",
    "    \"\"\"\n",
    " \n",
    "    def _posterior(self):\n",
    "        \"\"\"Compute the posterior distriubtion over weights.\"\"\"\n",
    "        i_s = np.diag(self.alpha_) + self.beta_ * np.dot(self.phi.T, self.phi)\n",
    "        self.sigma_ = np.linalg.inv(i_s)\n",
    "        self.m_ = self.beta_ * np.dot(self.sigma_, np.dot(self.phi.T, self.y))\n",
    " \n",
    "    def predict(self, X, eval_MSE=False):\n",
    "        \"\"\"Evaluate the RVR model at x.\"\"\"\n",
    "        phi = self._apply_kernel(X, self.relevance_)\n",
    " \n",
    "        y = np.dot(phi, self.m_)\n",
    " \n",
    "        if eval_MSE:\n",
    "            MSE = (1/self.beta_) + np.dot(phi, np.dot(self.sigma_, phi.T))\n",
    "            return y, MSE[:, 0]\n",
    "        else:\n",
    "            return y\n",
    " \n",
    " \n",
    "class RVC(BaseRVM, ClassifierMixin):\n",
    " \n",
    "    \"\"\"Relevance Vector Machine Classification.\n",
    "    Implementation of Mike Tipping's Relevance Vector Machine for\n",
    "    classification using the scikit-learn API.\n",
    "    \"\"\"\n",
    " \n",
    "    def __init__(self, n_iter_posterior=50, **kwargs):\n",
    "        \"\"\"Copy params to object properties, no validation.\"\"\"\n",
    "        self.n_iter_posterior = n_iter_posterior\n",
    "        super(RVC, self).__init__(**kwargs)\n",
    " \n",
    "    def get_params(self, deep=True):\n",
    "        \"\"\"Return parameters as a dictionary.\"\"\"\n",
    "        params = super(RVC, self).get_params(deep=deep)\n",
    "        params['n_iter_posterior'] = self.n_iter_posterior\n",
    "        return params\n",
    " \n",
    "    def _classify(self, m, phi):\n",
    "        return expit(np.dot(phi, m))\n",
    " \n",
    "    def _log_posterior(self, m, alpha, phi, t):\n",
    " \n",
    "        y = self._classify(m, phi)\n",
    " \n",
    "        log_p = -1 * (np.sum(np.log(y[t == 1]), 0) +\n",
    "                      np.sum(np.log(1-y[t == 0]), 0))\n",
    "        log_p = log_p + 0.5*np.dot(m.T, np.dot(np.diag(alpha), m))\n",
    " \n",
    "        jacobian = np.dot(np.diag(alpha), m) - np.dot(phi.T, (t-y))\n",
    " \n",
    "        return log_p, jacobian\n",
    " \n",
    "    def _hessian(self, m, alpha, phi, t):\n",
    "        y = self._classify(m, phi)\n",
    "        B = np.diag(y*(1-y))\n",
    "        return np.diag(alpha) + np.dot(phi.T, np.dot(B, phi))\n",
    " \n",
    "    def _posterior(self):\n",
    "        result = minimize(\n",
    "            fun=self._log_posterior,\n",
    "            hess=self._hessian,\n",
    "            x0=self.m_,\n",
    "            args=(self.alpha_, self.phi, self.t),\n",
    "            method='Newton-CG',\n",
    "            jac=True,\n",
    "            options={\n",
    "                'maxiter': self.n_iter_posterior\n",
    "            }\n",
    "        )\n",
    " \n",
    "        self.m_ = result.x\n",
    "        self.sigma_ = np.linalg.inv(\n",
    "            self._hessian(self.m_, self.alpha_, self.phi, self.t)\n",
    "        )\n",
    " \n",
    "    def fit(self, X, y):\n",
    "        \"\"\"Check target values and fit model.\"\"\"\n",
    "        self.classes_ = np.unique(y)\n",
    "        n_classes = len(self.classes_)\n",
    " \n",
    "        if n_classes < 2:\n",
    "            raise ValueError(\"Need 2 or more classes.\")\n",
    "        elif n_classes == 2:\n",
    "            self.t = np.zeros(y.shape)\n",
    "            self.t[y == self.classes_[1]] = 1\n",
    "            return super(RVC, self).fit(X, self.t)\n",
    "        else:\n",
    "            self.multi_ = None\n",
    "            self.multi_ = OneVsOneClassifier(self)\n",
    "            self.multi_.fit(X, y)\n",
    "            return self\n",
    " \n",
    "    def predict_proba(self, X):\n",
    "        \"\"\"Return an array of class probabilities.\"\"\"\n",
    "        phi = self._apply_kernel(X, self.relevance_)\n",
    "        y = self._classify(self.m_, phi)\n",
    "        return np.column_stack((1-y, y))\n",
    " \n",
    "    def predict(self, X):\n",
    "        \"\"\"Return an array of classes for each input.\"\"\"\n",
    "        if len(self.classes_) == 2:\n",
    "            y = self.predict_proba(X)\n",
    "            res = np.empty(y.shape[0], dtype=self.classes_.dtype)\n",
    "            res[y[:, 1] <= 0.5] = self.classes_[0]\n",
    "            res[y[:, 1] >= 0.5] = self.classes_[1]\n",
    "            return res\n",
    "        else:\n",
    "            return self.multi_.predict(X)"
   ]
  },
  {
   "cell_type": "markdown",
   "metadata": {},
   "source": [
    "代码测试"
   ]
  },
  {
   "cell_type": "markdown",
   "metadata": {},
   "source": [
    "测试回归和分类问题，并和支持向量机作对比"
   ]
  },
  {
   "cell_type": "code",
   "execution_count": 14,
   "metadata": {},
   "outputs": [],
   "source": [
    "import numpy as np\n",
    "import pandas as pd\n",
    "import matplotlib.pyplot as plt\n",
    "import seaborn as sns\n",
    "from sklearn.preprocessing import StandardScaler\n",
    "from sklearn.model_selection import train_test_split\n",
    "from sklearn.model_selection import KFold, StratifiedKFold\n",
    "from sklearn.model_selection import GridSearchCV\n",
    "#from sklearn.metrics import plot_confusion_matrix #矩阵可视化\n",
    " \n",
    "from sklearn.svm import SVC\n",
    "from sklearn.svm import SVR\n",
    "from sklearn.datasets import load_boston\n",
    "from sklearn.datasets import load_breast_cancer"
   ]
  },
  {
   "cell_type": "markdown",
   "metadata": {},
   "source": [
    "分类测试\n",
    "\n",
    "分类使用鸢尾花数据集"
   ]
  },
  {
   "cell_type": "code",
   "execution_count": 15,
   "metadata": {},
   "outputs": [],
   "source": [
    "iris = load_breast_cancer() #加载数据\n",
    "X = iris.data\n",
    "y = iris.target\n",
    " \n",
    "X_train, X_test, y_train, y_test =  train_test_split(X, y, test_size=0.2, stratify=y, random_state=0)\n",
    " \n",
    "scaler = StandardScaler()\n",
    "scaler.fit(X_train)\n",
    "X_train_s = scaler.transform(X_train)\n",
    "X_test_s = scaler.transform(X_test)"
   ]
  },
  {
   "cell_type": "markdown",
   "metadata": {},
   "source": [
    "支持向量机，不同核函数的效果"
   ]
  },
  {
   "cell_type": "code",
   "execution_count": 16,
   "metadata": {},
   "outputs": [
    {
     "name": "stdout",
     "output_type": "stream",
     "text": [
      "0.9824561403508771\n",
      "0.7719298245614035\n",
      "0.9210526315789473\n",
      "0.9649122807017544\n",
      "0.9649122807017544\n"
     ]
    }
   ],
   "source": [
    "#线性核函数\n",
    "model = SVC(kernel=\"linear\", random_state=123)\n",
    "model.fit(X_train_s, y_train)\n",
    "print(model.score(X_test_s, y_test))\n",
    "#二次多项式核\n",
    "model = SVC(kernel=\"poly\", degree=2, random_state=123)\n",
    "model.fit(X_train_s, y_train)\n",
    "print(model.score(X_test_s, y_test))\n",
    "#三次多项式\n",
    "model = SVC(kernel=\"poly\", degree=3, random_state=123)\n",
    "model.fit(X_train_s, y_train)\n",
    "print(model.score(X_test_s, y_test))\n",
    "#径向核\n",
    "model = SVC(kernel=\"rbf\", random_state=123)\n",
    "model.fit(X_train_s, y_train)\n",
    "print(model.score(X_test_s, y_test))\n",
    "#S核\n",
    "model = SVC(kernel=\"sigmoid\",random_state=123)\n",
    "model.fit(X_train_s, y_train)\n",
    "print(model.score(X_test_s, y_test))"
   ]
  },
  {
   "cell_type": "markdown",
   "metadata": {},
   "source": [
    "相关向量机（RVM）的效果"
   ]
  },
  {
   "cell_type": "code",
   "execution_count": 18,
   "metadata": {},
   "outputs": [
    {
     "name": "stdout",
     "output_type": "stream",
     "text": [
      "0.9649122807017544\n",
      "0.956140350877193\n"
     ]
    },
    {
     "name": "stderr",
     "output_type": "stream",
     "text": [
      "C:\\ProgramData\\Anaconda3\\lib\\site-packages\\ipykernel_launcher.py:236: RuntimeWarning: divide by zero encountered in log\n",
      "C:\\ProgramData\\Anaconda3\\lib\\site-packages\\ipykernel_launcher.py:236: RuntimeWarning: divide by zero encountered in log\n"
     ]
    },
    {
     "name": "stdout",
     "output_type": "stream",
     "text": [
      "0.9473684210526315\n"
     ]
    }
   ],
   "source": [
    "model = RVC(kernel=\"linear\")\n",
    "model.fit(X_train_s, y_train)\n",
    "print(model.score(X_test_s, y_test))\n",
    " \n",
    "model = RVC(kernel=\"rbf\")\n",
    "model.fit(X_train_s, y_train)\n",
    "print(model.score(X_test_s, y_test))\n",
    " \n",
    "model = RVC(kernel=\"poly\")\n",
    "model.fit(X_train_s, y_train)\n",
    "print(model.score(X_test_s, y_test))"
   ]
  },
  {
   "cell_type": "markdown",
   "metadata": {},
   "source": [
    "回归测试"
   ]
  },
  {
   "cell_type": "code",
   "execution_count": 19,
   "metadata": {},
   "outputs": [],
   "source": [
    "# Support Vector Regression with Boston Housing Data\n",
    "X, y = load_boston(return_X_y=True)\n",
    "X_train, X_test, y_train, y_test = train_test_split(X, y, test_size=0.2, random_state=1)\n",
    " \n",
    "scaler = StandardScaler()\n",
    "scaler.fit(X_train)\n",
    "X_train_s = scaler.transform(X_train)\n",
    "X_test_s = scaler.transform(X_test)"
   ]
  },
  {
   "cell_type": "markdown",
   "metadata": {},
   "source": [
    "支持向量机不同核函数效果"
   ]
  },
  {
   "cell_type": "code",
   "execution_count": 21,
   "metadata": {},
   "outputs": [
    {
     "name": "stdout",
     "output_type": "stream",
     "text": [
      "0.7621581456480089\n",
      "0.4759966424636959\n",
      "0.6620498346854784\n",
      "0.6471361547244447\n",
      "0.6352431807543495\n"
     ]
    }
   ],
   "source": [
    " #线性核函数\n",
    "model = SVR(kernel=\"linear\")\n",
    "model.fit(X_train_s, y_train)\n",
    "print(model.score(X_test_s, y_test))\n",
    "#二次多项式核\n",
    "model = SVR(kernel=\"poly\", degree=2)\n",
    "model.fit(X_train_s, y_train)\n",
    "print(model.score(X_test_s, y_test))\n",
    "#三次多项式\n",
    "model = SVR(kernel=\"poly\", degree=3)\n",
    "model.fit(X_train_s, y_train)\n",
    "print(model.score(X_test_s, y_test))\n",
    "#径向核\n",
    "model = SVR(kernel=\"rbf\")\n",
    "model.fit(X_train_s, y_train)\n",
    "print(model.score(X_test_s, y_test))\n",
    "#S核\n",
    "model = SVR(kernel=\"sigmoid\")\n",
    "model.fit(X_train_s, y_train)\n",
    "print(model.score(X_test_s, y_test))"
   ]
  },
  {
   "cell_type": "markdown",
   "metadata": {},
   "source": [
    "相关向量机（RVM）效果"
   ]
  },
  {
   "cell_type": "code",
   "execution_count": 22,
   "metadata": {},
   "outputs": [
    {
     "name": "stdout",
     "output_type": "stream",
     "text": [
      "0.7651187959253563\n",
      "0.9231470349980935\n",
      "0.8250885733161272\n"
     ]
    }
   ],
   "source": [
    "model = RVR(kernel=\"linear\")\n",
    "model.fit(X_train_s, y_train)\n",
    "print(model.score(X_test_s, y_test))\n",
    " \n",
    "model = RVR(kernel=\"rbf\")\n",
    "model.fit(X_train_s, y_train)\n",
    "print(model.score(X_test_s, y_test))\n",
    " \n",
    "model = RVR(kernel=\"poly\")\n",
    "model.fit(X_train_s, y_train)\n",
    "print(model.score(X_test_s, y_test))"
   ]
  },
  {
   "cell_type": "markdown",
   "metadata": {},
   "source": [
    "学习总结RVM与SVM的区别： \n",
    "1. SVM 基于结构风险最小化原则构建学习机，RVM基于贝叶斯框架构建学习机 \n",
    "2. 与SVM相比，RVM不仅获得二值输出，而且获得概率输出 \n",
    "3. 在核函数的选择上，不受梅西定理的限制，可以构建任意的核函数 \n",
    "4. 不需对惩罚因子做出设置。在SVM中惩罚因子是平衡经验风险和置信区间的一个常数，实验结果对该数据十分敏感，设置不当会引起过学习等问题。但是在RVM中参数自动赋值 \n",
    "5. 与SVM相比，RVM更稀疏，从而测试时间更短，更适用于在线检测。众所周知，SVM的支持向量的个数随着训练样本的增大成线性增长，当训练样本很大的时候，显然是不合适的。虽然RVM的相关向量也随着训练样本的增加而增加，但是增长速度相对SVM却慢了很多。 \n",
    "6. 学习机有一个很重要的能力是泛化能力，也就是对于没有训练过的样本的测试能力。文章表明，RVM的泛化能力好于SVM。 \n",
    "7. 无论是在回归问题上还是分类问题上，RVM的准确率都不亚于SVM。 \n",
    "8. 但是RVM训练时间长 "
   ]
  },
  {
   "cell_type": "markdown",
   "metadata": {},
   "source": [
    "导入包和定义RVM类"
   ]
  },
  {
   "cell_type": "code",
   "execution_count": 24,
   "metadata": {},
   "outputs": [],
   "source": [
    "import os\n",
    "import math\n",
    "import time\n",
    "import datetime\n",
    "import random as rn\n",
    "import numpy as np\n",
    "import pandas as pd\n",
    "import matplotlib.pyplot as plt\n",
    "%matplotlib inline\n",
    "plt.rcParams ['font.sans-serif'] ='SimHei'               #显示中文\n",
    "plt.rcParams ['axes.unicode_minus']=False               #显示负号\n",
    " \n",
    "from sklearn.model_selection import train_test_split\n",
    "from sklearn.preprocessing import MinMaxScaler,StandardScaler\n",
    "from sklearn.metrics import mean_absolute_error\n",
    "from sklearn.metrics import mean_squared_error,r2_score\n",
    " \n",
    "import tensorflow as tf\n",
    "import keras\n",
    "from keras.models import Model, Sequential\n",
    "from keras.layers import GRU, Dense,Conv1D, MaxPooling1D,GlobalMaxPooling1D,Embedding,Dropout,Flatten,SimpleRNN,LSTM\n",
    "from keras.callbacks import EarlyStopping\n",
    "#from tensorflow.keras import regularizers\n",
    "#from keras.utils.np_utils import to_categorical\n",
    "from tensorflow.keras  import optimizers"
   ]
  },
  {
   "cell_type": "code",
   "execution_count": 26,
   "metadata": {},
   "outputs": [],
   "source": [
    "\"\"\"Relevance Vector Machine classes for regression and classification.\"\"\"\n",
    "from scipy.optimize import minimize\n",
    "from scipy.special import expit\n",
    " \n",
    "from sklearn.base import BaseEstimator, RegressorMixin, ClassifierMixin\n",
    "from sklearn.metrics.pairwise import (\n",
    "    linear_kernel,\n",
    "    rbf_kernel,\n",
    "    polynomial_kernel\n",
    ")\n",
    "from sklearn.multiclass import OneVsOneClassifier\n",
    "from sklearn.utils.validation import check_X_y\n",
    " \n",
    "class BaseRVM(BaseEstimator):\n",
    " \n",
    "    \"\"\"Base Relevance Vector Machine class.\n",
    "    Implementation of Mike Tipping's Relevance Vector Machine using the\n",
    "    scikit-learn API. Add a posterior over weights method and a predict\n",
    "    in subclass to use for classification or regression.\n",
    "    \"\"\"\n",
    " \n",
    "    def __init__(\n",
    "        self,\n",
    "        kernel='rbf',\n",
    "        degree=3,\n",
    "        coef1=None,\n",
    "        coef0=0.0,\n",
    "        n_iter=3000,\n",
    "        tol=1e-3,\n",
    "        alpha=1e-6,\n",
    "        threshold_alpha=1e9,\n",
    "        beta=1.e-6,\n",
    "        beta_fixed=False,\n",
    "        bias_used=True,\n",
    "        verbose=False\n",
    "    ):\n",
    "        \"\"\"Copy params to object properties, no validation.\"\"\"\n",
    "        self.kernel = kernel\n",
    "        self.degree = degree\n",
    "        self.coef1 = coef1\n",
    "        self.coef0 = coef0\n",
    "        self.n_iter = n_iter\n",
    "        self.tol = tol\n",
    "        self.alpha = alpha\n",
    "        self.threshold_alpha = threshold_alpha\n",
    "        self.beta = beta\n",
    "        self.beta_fixed = beta_fixed\n",
    "        self.bias_used = bias_used\n",
    "        self.verbose = verbose\n",
    " \n",
    "    def get_params(self, deep=True):\n",
    "        \"\"\"Return parameters as a dictionary.\"\"\"\n",
    "        params = {\n",
    "            'kernel': self.kernel,\n",
    "            'degree': self.degree,\n",
    "            'coef1': self.coef1,\n",
    "            'coef0': self.coef0,\n",
    "            'n_iter': self.n_iter,\n",
    "            'tol': self.tol,\n",
    "            'alpha': self.alpha,\n",
    "            'threshold_alpha': self.threshold_alpha,\n",
    "            'beta': self.beta,\n",
    "            'beta_fixed': self.beta_fixed,\n",
    "            'bias_used': self.bias_used,\n",
    "            'verbose': self.verbose\n",
    "        }\n",
    "        return params\n",
    " \n",
    "    def set_params(self, **parameters):\n",
    "        \"\"\"Set parameters using kwargs.\"\"\"\n",
    "        for parameter, value in parameters.items():\n",
    "            setattr(self, parameter, value)\n",
    "        return self\n",
    " \n",
    "    def _apply_kernel(self, x, y):\n",
    "        \"\"\"Apply the selected kernel function to the data.\"\"\"\n",
    "        if self.kernel == 'linear':\n",
    "            phi = linear_kernel(x, y)\n",
    "        elif self.kernel == 'rbf':\n",
    "            phi = rbf_kernel(x, y, self.coef1)\n",
    "        elif self.kernel == 'poly':\n",
    "            phi = polynomial_kernel(x, y, self.degree, self.coef1, self.coef0)\n",
    "        elif callable(self.kernel):\n",
    "            phi = self.kernel(x, y)\n",
    "            if len(phi.shape) != 2:\n",
    "                raise ValueError(\n",
    "                    \"Custom kernel function did not return 2D matrix\"\n",
    "                )\n",
    "            if phi.shape[0] != x.shape[0]:\n",
    "                raise ValueError(\n",
    "                    \"Custom kernel function did not return matrix with rows\"\n",
    "                    \" equal to number of data points.\"\"\"\n",
    "                )\n",
    "        else:\n",
    "            raise ValueError(\"Kernel selection is invalid.\")\n",
    " \n",
    "        if self.bias_used:\n",
    "            phi = np.append(phi, np.ones((phi.shape[0], 1)), axis=1)\n",
    " \n",
    "        return phi\n",
    " \n",
    "    def _prune(self):\n",
    "        \"\"\"Remove basis functions based on alpha values.\"\"\"\n",
    "        keep_alpha = self.alpha_ < self.threshold_alpha\n",
    " \n",
    "        if not np.any(keep_alpha):\n",
    "            keep_alpha[0] = True\n",
    "            if self.bias_used:\n",
    "                keep_alpha[-1] = True\n",
    " \n",
    "        if self.bias_used:\n",
    "            if not keep_alpha[-1]:\n",
    "                self.bias_used = False\n",
    "            self.relevance_ = self.relevance_[keep_alpha[:-1]]\n",
    "        else:\n",
    "            self.relevance_ = self.relevance_[keep_alpha]\n",
    " \n",
    "        self.alpha_ = self.alpha_[keep_alpha]\n",
    "        self.alpha_old = self.alpha_old[keep_alpha]\n",
    "        self.gamma = self.gamma[keep_alpha]\n",
    "        self.phi = self.phi[:, keep_alpha]\n",
    "        self.sigma_ = self.sigma_[np.ix_(keep_alpha, keep_alpha)]\n",
    "        self.m_ = self.m_[keep_alpha]\n",
    " \n",
    "    def fit(self, X, y):\n",
    "        \"\"\"Fit the RVR to the training data.\"\"\"\n",
    "        X, y = check_X_y(X, y)\n",
    " \n",
    "        n_samples, n_features = X.shape\n",
    " \n",
    "        self.phi = self._apply_kernel(X, X)\n",
    " \n",
    "        n_basis_functions = self.phi.shape[1]\n",
    " \n",
    "        self.relevance_ = X\n",
    "        self.y = y\n",
    " \n",
    "        self.alpha_ = self.alpha * np.ones(n_basis_functions)\n",
    "        self.beta_ = self.beta\n",
    " \n",
    "        self.m_ = np.zeros(n_basis_functions)\n",
    " \n",
    "        self.alpha_old = self.alpha_\n",
    " \n",
    "        for i in range(self.n_iter):\n",
    "            self._posterior()\n",
    " \n",
    "            self.gamma = 1 - self.alpha_*np.diag(self.sigma_)\n",
    "            self.alpha_ = self.gamma/(self.m_ ** 2)\n",
    " \n",
    "            if not self.beta_fixed:\n",
    "                self.beta_ = (n_samples - np.sum(self.gamma))/(\n",
    "                    np.sum((y - np.dot(self.phi, self.m_)) ** 2))\n",
    " \n",
    "            self._prune()\n",
    " \n",
    "            if self.verbose:\n",
    "                print(\"Iteration: {}\".format(i))\n",
    "                print(\"Alpha: {}\".format(self.alpha_))\n",
    "                print(\"Beta: {}\".format(self.beta_))\n",
    "                print(\"Gamma: {}\".format(self.gamma))\n",
    "                print(\"m: {}\".format(self.m_))\n",
    "                print(\"Relevance Vectors: {}\".format(self.relevance_.shape[0]))\n",
    "                print()\n",
    " \n",
    "            delta = np.amax(np.absolute(self.alpha_ - self.alpha_old))\n",
    " \n",
    "            if delta < self.tol and i > 1:\n",
    "                break\n",
    " \n",
    "            self.alpha_old = self.alpha_\n",
    " \n",
    "        if self.bias_used:\n",
    "            self.bias = self.m_[-1]\n",
    "        else:\n",
    "            self.bias = None\n",
    " \n",
    "        return self\n",
    " \n",
    "class RVR(BaseRVM, RegressorMixin):\n",
    " \n",
    "    \"\"\"Relevance Vector Machine Regression.\n",
    "    Implementation of Mike Tipping's Relevance Vector Machine for regression\n",
    "    using the scikit-learn API.\n",
    "    \"\"\"\n",
    " \n",
    "    def _posterior(self):\n",
    "        \"\"\"Compute the posterior distriubtion over weights.\"\"\"\n",
    "        i_s = np.diag(self.alpha_) + self.beta_ * np.dot(self.phi.T, self.phi)\n",
    "        self.sigma_ = np.linalg.inv(i_s)\n",
    "        self.m_ = self.beta_ * np.dot(self.sigma_, np.dot(self.phi.T, self.y))\n",
    " \n",
    "    def predict(self, X, eval_MSE=False):\n",
    "        \"\"\"Evaluate the RVR model at x.\"\"\"\n",
    "        phi = self._apply_kernel(X, self.relevance_)\n",
    " \n",
    "        y = np.dot(phi, self.m_)\n",
    " \n",
    "        if eval_MSE:\n",
    "            MSE = (1/self.beta_) + np.dot(phi, np.dot(self.sigma_, phi.T))\n",
    "            return y, MSE[:, 0]\n",
    "        else:\n",
    "            return y"
   ]
  },
  {
   "cell_type": "code",
   "execution_count": 23,
   "metadata": {},
   "outputs": [
    {
     "data": {
      "text/html": [
       "<div>\n",
       "<style scoped>\n",
       "    .dataframe tbody tr th:only-of-type {\n",
       "        vertical-align: middle;\n",
       "    }\n",
       "\n",
       "    .dataframe tbody tr th {\n",
       "        vertical-align: top;\n",
       "    }\n",
       "\n",
       "    .dataframe thead th {\n",
       "        text-align: right;\n",
       "    }\n",
       "</style>\n",
       "<table border=\"1\" class=\"dataframe\">\n",
       "  <thead>\n",
       "    <tr style=\"text-align: right;\">\n",
       "      <th></th>\n",
       "      <th>循环次数</th>\n",
       "      <th>平均放电电压</th>\n",
       "      <th>平均放电温度</th>\n",
       "      <th>等压降放电时间</th>\n",
       "      <th>容量</th>\n",
       "    </tr>\n",
       "  </thead>\n",
       "  <tbody>\n",
       "    <tr>\n",
       "      <th>0</th>\n",
       "      <td>1</td>\n",
       "      <td>3.529829</td>\n",
       "      <td>32.572328</td>\n",
       "      <td>1622.625</td>\n",
       "      <td>1.856487</td>\n",
       "    </tr>\n",
       "    <tr>\n",
       "      <th>1</th>\n",
       "      <td>2</td>\n",
       "      <td>3.537320</td>\n",
       "      <td>32.725235</td>\n",
       "      <td>1661.078</td>\n",
       "      <td>1.846327</td>\n",
       "    </tr>\n",
       "    <tr>\n",
       "      <th>2</th>\n",
       "      <td>3</td>\n",
       "      <td>3.543737</td>\n",
       "      <td>32.642862</td>\n",
       "      <td>1661.922</td>\n",
       "      <td>1.835349</td>\n",
       "    </tr>\n",
       "    <tr>\n",
       "      <th>3</th>\n",
       "      <td>4</td>\n",
       "      <td>3.543666</td>\n",
       "      <td>32.514876</td>\n",
       "      <td>1662.906</td>\n",
       "      <td>1.835263</td>\n",
       "    </tr>\n",
       "    <tr>\n",
       "      <th>4</th>\n",
       "      <td>5</td>\n",
       "      <td>3.542343</td>\n",
       "      <td>32.382349</td>\n",
       "      <td>1661.938</td>\n",
       "      <td>1.834646</td>\n",
       "    </tr>\n",
       "  </tbody>\n",
       "</table>\n",
       "</div>"
      ],
      "text/plain": [
       "   循环次数    平均放电电压     平均放电温度   等压降放电时间        容量\n",
       "0     1  3.529829  32.572328  1622.625  1.856487\n",
       "1     2  3.537320  32.725235  1661.078  1.846327\n",
       "2     3  3.543737  32.642862  1661.922  1.835349\n",
       "3     4  3.543666  32.514876  1662.906  1.835263\n",
       "4     5  3.542343  32.382349  1661.938  1.834646"
      ]
     },
     "execution_count": 23,
     "metadata": {},
     "output_type": "execute_result"
    }
   ],
   "source": [
    "df = pd.read_csv(\"B0005.csv\")\n",
    "df.head()  #前面五行"
   ]
  },
  {
   "cell_type": "code",
   "execution_count": 35,
   "metadata": {},
   "outputs": [],
   "source": [
    "#capacity_original_half = np.array(df)[:20,4]#1到20行的第四列的容量数据  切片"
   ]
  },
  {
   "cell_type": "markdown",
   "metadata": {},
   "source": [
    "df_for_training=df[:120]\n",
    "df_for_testing=df[:]\n",
    "print(df_for_training.shape)\n",
    "print(df_for_testing.shape)"
   ]
  },
  {
   "cell_type": "markdown",
   "metadata": {},
   "source": [
    "scaler = MinMaxScaler(feature_range=(0,1))\n",
    "df_for_training_scaled = scaler.fit_transform(df_for_training)\n",
    "df_for_testing_scaled = scaler.transform(df_for_testing)\n",
    "df_for_training_scaled"
   ]
  },
  {
   "cell_type": "markdown",
   "metadata": {},
   "source": [
    "def createXY(dataset,n_past):\n",
    "    dataX = []\n",
    "    dataY = []\n",
    "    for i in range(n_past,len(dataset)):\n",
    "    \n",
    "        dataX.append(dataset[i-n_past:i,0:dataset.shape[1]])  \n",
    "        dataY.append(dataset[i,4])\n",
    "    return np.array(dataX),np.array(dataY)\n",
    "\n",
    "trainX, trainY = createXY(df_for_training_scaled,20) \n",
    "testX, testY = createXY(df_for_testing_scaled,20) "
   ]
  },
  {
   "cell_type": "markdown",
   "metadata": {},
   "source": [
    "训练集合测试集拆分"
   ]
  },
  {
   "cell_type": "code",
   "execution_count": null,
   "metadata": {},
   "outputs": [],
   "source": [
    "test_split=round(len(df)*0.30)\n",
    "df_for_training=df[:120]\n",
    "df_for_testing=df[0:]"
   ]
  },
  {
   "cell_type": "code",
   "execution_count": 79,
   "metadata": {},
   "outputs": [
    {
     "data": {
      "text/plain": [
       "(168, 5)"
      ]
     },
     "execution_count": 79,
     "metadata": {},
     "output_type": "execute_result"
    }
   ],
   "source": [
    "df_for_testing.shape"
   ]
  },
  {
   "cell_type": "code",
   "execution_count": 80,
   "metadata": {},
   "outputs": [
    {
     "data": {
      "text/plain": [
       "(120, 5)"
      ]
     },
     "execution_count": 80,
     "metadata": {},
     "output_type": "execute_result"
    }
   ],
   "source": [
    "df_for_training.shape"
   ]
  },
  {
   "cell_type": "code",
   "execution_count": 81,
   "metadata": {},
   "outputs": [],
   "source": [
    "df_for_training_1 =df.iloc[:,:-1]"
   ]
  },
  {
   "cell_type": "code",
   "execution_count": 86,
   "metadata": {},
   "outputs": [
    {
     "data": {
      "text/plain": [
       "(168, 4)"
      ]
     },
     "execution_count": 86,
     "metadata": {},
     "output_type": "execute_result"
    }
   ],
   "source": [
    "df_for_training_1.shape"
   ]
  },
  {
   "cell_type": "code",
   "execution_count": 154,
   "metadata": {},
   "outputs": [
    {
     "data": {
      "text/plain": [
       "(168, 4)"
      ]
     },
     "execution_count": 154,
     "metadata": {},
     "output_type": "execute_result"
    }
   ],
   "source": [
    "df_for_training_1.shape"
   ]
  },
  {
   "cell_type": "code",
   "execution_count": 117,
   "metadata": {},
   "outputs": [],
   "source": [
    "df_for_testing_1=df.iloc[:,-1]"
   ]
  },
  {
   "cell_type": "code",
   "execution_count": 121,
   "metadata": {},
   "outputs": [
    {
     "data": {
      "text/plain": [
       "0      1.856487\n",
       "1      1.846327\n",
       "2      1.835349\n",
       "3      1.835263\n",
       "4      1.834646\n",
       "5      1.835662\n",
       "6      1.835146\n",
       "7      1.825757\n",
       "8      1.824774\n",
       "9      1.824613\n",
       "10     1.824620\n",
       "11     1.814202\n",
       "12     1.813752\n",
       "13     1.813440\n",
       "14     1.802598\n",
       "15     1.802107\n",
       "16     1.802580\n",
       "17     1.803068\n",
       "18     1.802778\n",
       "19     1.847026\n",
       "20     1.847417\n",
       "21     1.836177\n",
       "22     1.825781\n",
       "23     1.825114\n",
       "24     1.825582\n",
       "25     1.814031\n",
       "26     1.814769\n",
       "27     1.813969\n",
       "28     1.802766\n",
       "29     1.804077\n",
       "         ...   \n",
       "138    1.354704\n",
       "139    1.349315\n",
       "140    1.344189\n",
       "141    1.338991\n",
       "142    1.338915\n",
       "143    1.334007\n",
       "144    1.328644\n",
       "145    1.323171\n",
       "146    1.318169\n",
       "147    1.318466\n",
       "148    1.318293\n",
       "149    1.323872\n",
       "150    1.360122\n",
       "151    1.339531\n",
       "152    1.329029\n",
       "153    1.323674\n",
       "154    1.318634\n",
       "155    1.313475\n",
       "156    1.313202\n",
       "157    1.307796\n",
       "158    1.303033\n",
       "159    1.303357\n",
       "160    1.303410\n",
       "161    1.297887\n",
       "162    1.298074\n",
       "163    1.293464\n",
       "164    1.288003\n",
       "165    1.287453\n",
       "166    1.309015\n",
       "167    1.325079\n",
       "Name: 容量, Length: 168, dtype: float64"
      ]
     },
     "execution_count": 121,
     "metadata": {},
     "output_type": "execute_result"
    }
   ],
   "source": [
    "df_for_testing_1"
   ]
  },
  {
   "cell_type": "code",
   "execution_count": null,
   "metadata": {},
   "outputs": [],
   "source": []
  },
  {
   "cell_type": "code",
   "execution_count": null,
   "metadata": {},
   "outputs": [],
   "source": []
  },
  {
   "cell_type": "code",
   "execution_count": null,
   "metadata": {},
   "outputs": [],
   "source": []
  },
  {
   "cell_type": "code",
   "execution_count": null,
   "metadata": {},
   "outputs": [],
   "source": []
  },
  {
   "cell_type": "code",
   "execution_count": null,
   "metadata": {},
   "outputs": [],
   "source": []
  },
  {
   "cell_type": "code",
   "execution_count": null,
   "metadata": {},
   "outputs": [],
   "source": []
  },
  {
   "cell_type": "code",
   "execution_count": null,
   "metadata": {},
   "outputs": [],
   "source": []
  },
  {
   "cell_type": "code",
   "execution_count": null,
   "metadata": {},
   "outputs": [],
   "source": []
  },
  {
   "cell_type": "code",
   "execution_count": 118,
   "metadata": {},
   "outputs": [],
   "source": [
    "scaler_s=StandardScaler()\n",
    "scaler_s.fit(df_for_training_1)\n",
    "#scaler_s.fit(df_for_testing_1)\n",
    "#df_for_testing_1_s = scaler_s.transform(df_for_trainging_1)\n",
    "df_for_training_1_s = scaler_s.transform(df_for_training_1)"
   ]
  },
  {
   "cell_type": "code",
   "execution_count": 119,
   "metadata": {},
   "outputs": [
    {
     "data": {
      "text/plain": [
       "array([[-1.72177148,  0.39968477, -0.28679889,  1.33915253],\n",
       "       [-1.70115147,  0.62927986, -0.06876642,  1.46712657],\n",
       "       [-1.68053145,  0.82593311, -0.18622368,  1.46993546],\n",
       "       [-1.65991143,  0.82376875, -0.36872002,  1.47321027],\n",
       "       [-1.63929141,  0.78322648, -0.55769281,  1.46998871],\n",
       "       [-1.61867139,  0.75231784, -0.48378316,  1.47118015],\n",
       "       [-1.59805138,  0.74282674, -0.41785706,  1.47092389],\n",
       "       [-1.57743136,  1.14456278, -0.51760631,  1.47888129],\n",
       "       [-1.55681134,  1.10785623, -0.60932259,  1.47295068],\n",
       "       [-1.53619132,  1.05484   , -0.70820023,  1.47492423],\n",
       "       [-1.51557131,  0.99619855, -0.8788879 ,  1.47575957],\n",
       "       [-1.49495129,  1.31698373, -0.58375527,  1.41470957],\n",
       "       [-1.47433127,  1.26558002, -0.64917032,  1.41663652],\n",
       "       [-1.45371125,  1.19234073, -0.87889248,  1.35256796],\n",
       "       [-1.43309123,  1.40854634, -1.04004974,  1.35257129],\n",
       "       [-1.41247122,  1.3688687 , -1.20043135,  1.34757919],\n",
       "       [-1.3918512 ,  1.33484593, -1.18608425,  1.28944124],\n",
       "       [-1.37123118,  1.29735956, -1.15278445,  1.28928149],\n",
       "       [-1.35061116,  1.2595977 , -1.15102626,  1.28777721],\n",
       "       [-1.32999115,  1.08033241, -0.57325752,  1.54091641],\n",
       "       [-1.30937113,  1.09655479, -0.10439337,  1.60576373],\n",
       "       [-1.28875111,  1.22610805, -0.64279837,  1.54382846],\n",
       "       [-1.26813109,  1.36757623, -1.12006049,  1.47888129],\n",
       "       [-1.24751107,  1.22049209, -1.25338575,  1.41367121],\n",
       "       [-1.22689106,  1.28373098, -1.41602512,  1.41564475],\n",
       "       [-1.20627104,  1.45011565, -1.5467097 ,  1.35225845],\n",
       "       [-1.18565102,  1.31173818, -1.67789263,  1.41564475],\n",
       "       [-1.165031  ,  1.22730922, -1.72232625,  1.34752594],\n",
       "       [-1.14441099,  1.39917637, -1.68573704,  1.34726635],\n",
       "       [-1.12379097,  1.29802789, -1.66828566,  1.29136486],\n",
       "       [-1.10317095,  1.242109  , -1.22328851,  1.33332842],\n",
       "       [-1.08255093,  1.38169799, -0.98720803,  1.36442252],\n",
       "       [-1.06193091,  1.3782609 , -1.31707264,  1.30150547],\n",
       "       [-1.0413109 ,  1.31611162, -1.86476949,  1.237803  ],\n",
       "       [-1.02069088,  1.25061744, -1.94510761,  1.17815744],\n",
       "       [-1.00007086,  1.31589779, -1.24227651,  1.20956771],\n",
       "       [-0.97945084,  1.29560857, -1.6033511 ,  1.11377937],\n",
       "       [-0.95883083,  1.23289618, -1.83189385,  1.08330762],\n",
       "       [-0.93821081,  1.20937922, -2.05825869,  1.05236661],\n",
       "       [-0.91759079,  1.11827807, -1.71667293,  1.02132243],\n",
       "       [-0.89697077,  1.2099382 , -0.94400547,  1.02080325],\n",
       "       [-0.87635076,  1.21125942, -0.71550305,  0.98991549],\n",
       "       [-0.85573074,  1.29220915, -1.32776838,  0.90640106],\n",
       "       [-0.83511072,  1.12337071, -1.44537239,  0.96001284],\n",
       "       [-0.8144907 ,  1.0489073 , -1.93118682,  0.864331  ],\n",
       "       [-0.79387068,  1.05826873, -2.05593308,  0.83338999],\n",
       "       [-0.77325067,  0.98733714, -2.01641424,  0.80162029],\n",
       "       [-0.75263065,  1.31715575, -0.65959461,  1.14596841],\n",
       "       [-0.73201063,  1.3962449 , -0.48139586,  1.11409221],\n",
       "       [-0.71139061,  1.27338562, -0.15183161,  0.98928981],\n",
       "       [-0.6907706 ,  1.14088023, -0.6975963 ,  0.89615727],\n",
       "       [-0.67015058,  1.09070882, -1.09234972,  0.83521044],\n",
       "       [-0.64953056,  1.00620012, -1.0118156 ,  0.8324548 ],\n",
       "       [-0.62891054,  0.99891733, -0.47898721,  0.7708357 ],\n",
       "       [-0.60829052,  0.93243774, -0.86319533,  0.70941961],\n",
       "       [-0.58767051,  0.9169099 , -1.02086198,  0.6784786 ],\n",
       "       [-0.56705049,  0.85329913, -1.13722448,  0.64478528],\n",
       "       [-0.54643047,  0.82263644, -0.79361843,  0.64743442],\n",
       "       [-0.52581045,  0.84916051, -0.30961091,  0.5837852 ],\n",
       "       [-0.50519044,  0.73961289, -0.53183837,  0.55206542],\n",
       "       [-0.48457042,  0.7480558 , -0.68407219,  0.5225821 ],\n",
       "       [-0.4639504 ,  0.73197735, -0.90886354,  0.45856679],\n",
       "       [-0.44333038,  0.63800678, -0.55721302,  0.4590893 ],\n",
       "       [-0.42271036,  0.66306443, -0.66228293,  0.39673802],\n",
       "       [-0.40209035,  0.68953735, -0.29529566,  0.39933724],\n",
       "       [-0.38147033,  0.51803043, -0.43922713,  0.33626377],\n",
       "       [-0.36085031,  0.53879616, -0.60801699,  0.30339581],\n",
       "       [-0.34023029,  0.44459954, -0.57310706,  0.27297731],\n",
       "       [-0.31961028,  0.43293151, -0.45339507,  0.2408382 ],\n",
       "       [-0.29899026,  0.36578917, -0.3896874 ,  0.20984727],\n",
       "       [-0.27837024,  0.29015851, -0.38850242,  0.17713573],\n",
       "       [-0.25775022,  0.36461337, -0.42858521,  0.14697681],\n",
       "       [-0.2371302 ,  0.26876659, -0.38308598,  0.11666148],\n",
       "       [-0.21651019,  0.18061269, -0.37256015,  0.05514222],\n",
       "       [-0.19589017,  0.24169007, -0.45134925,  0.022018  ],\n",
       "       [-0.17527015,  0.13877905, -0.46542165, -0.0087666 ],\n",
       "       [-0.15465013,  0.03820259, -0.63391146, -0.07210298],\n",
       "       [-0.13403012,  0.21137155,  0.10184355,  0.02274684],\n",
       "       [-0.1134101 ,  0.07230639, -0.65042497, -0.1015863 ],\n",
       "       [-0.09279008, -0.01696967, -1.01197163, -0.13138245],\n",
       "       [-0.07217006, -0.0617308 , -0.78922245, -0.13205805],\n",
       "       [-0.05155004, -0.10690043, -0.08760659, -0.16419716],\n",
       "       [-0.03093003, -0.07056671,  0.24463091, -0.1937304 ],\n",
       "       [-0.01031001, -0.17835719,  0.11990254, -0.22670153],\n",
       "       [ 0.01031001, -0.17933362, -0.20504377, -0.25816172],\n",
       "       [ 0.03093003, -0.226616  , -0.56124335, -0.28858355],\n",
       "       [ 0.05155004, -0.30981979, -0.13019012, -0.31983407],\n",
       "       [ 0.07217006, -0.17771889,  0.31428981, -0.32014691],\n",
       "       [ 0.09279008, -0.19865422,  0.38775696, -0.3517136 ],\n",
       "       [ 0.1134101 ,  0.16654441,  0.1181145 , -0.22633544],\n",
       "       [ 0.13403012, -0.01342786,  0.80712595, -0.133985  ],\n",
       "       [ 0.15465013, -0.10259555,  0.824326  , -0.22664828],\n",
       "       [ 0.17527015, -0.05056331,  0.53332754, -0.25784888],\n",
       "       [ 0.19589017, -0.2599971 ,  0.33339937, -0.31988732],\n",
       "       [ 0.21651019, -0.2328157 ,  0.20882047, -0.38254811],\n",
       "       [ 0.2371302 , -0.30578912,  0.32164617, -0.38197568],\n",
       "       [ 0.25775022, -0.32782016,  0.37681413, -0.41395505],\n",
       "       [ 0.27837024, -0.40061227,  0.43339477, -0.41255393],\n",
       "       [ 0.29899026, -0.30768197,  0.40099336, -0.47692867],\n",
       "       [ 0.31961028, -0.33424401,  0.48800806, -0.5069345 ],\n",
       "       [ 0.34023029, -0.38674237,  0.50756859, -0.50657174],\n",
       "       [ 0.36085031, -0.42080534,  0.50936498, -0.56845043],\n",
       "       [ 0.38147033, -0.56866168,  0.60919438, -0.50667491],\n",
       "       [ 0.40209035, -0.31264869,  1.44518401, -0.47417304],\n",
       "       [ 0.42271036, -0.46983387,  1.2831856 , -0.53839468],\n",
       "       [ 0.44333038, -0.46366617,  1.08705539, -0.56980495],\n",
       "       [ 0.4639504 , -0.61812218,  0.78316694, -0.63194323],\n",
       "       [ 0.48457042, -0.54009556,  0.81671943, -0.63324451],\n",
       "       [ 0.50519044, -0.63460641,  1.24914034, -0.66132671],\n",
       "       [ 0.52581045, -0.64010225,  1.45334004, -0.66148313],\n",
       "       [ 0.54643047, -0.58844493,  1.07086916, -0.72513235],\n",
       "       [ 0.56705049, -0.64630811,  0.87973371, -0.75721489],\n",
       "       [ 0.58767051, -0.73284404,  1.28366619, -0.75752772],\n",
       "       [ 0.60829052, -0.65207593,  1.62175551, -0.7562797 ],\n",
       "       [ 0.62891054, -0.6912253 ,  1.44246447, -0.78659503],\n",
       "       [ 0.64953056, -0.78426966,  1.19464056, -0.81837139],\n",
       "       [ 0.67015058, -0.85439151,  0.97322135, -0.84884314],\n",
       "       [ 0.6907706 , -0.90137768,  1.35434209, -0.81852448],\n",
       "       [ 0.71139061, -0.75984875,  1.82034364, -0.84837388],\n",
       "       [ 0.73201063, -0.77236415,  1.59115719, -0.75508492],\n",
       "       [ 0.75263065, -0.65006964,  1.84540006, -0.72497593],\n",
       "       [ 0.77325067, -0.70147691,  1.3948574 , -0.81847456],\n",
       "       [ 0.79387068, -0.7721879 ,  0.98582243, -0.84883981],\n",
       "       [ 0.8144907 , -0.86470374,  0.89639475, -0.91327113],\n",
       "       [ 0.83511072, -0.91591018,  0.90863187, -0.91113784],\n",
       "       [ 0.85573074, -0.95739456,  0.87891661, -0.94265128],\n",
       "       [ 0.87635076, -1.00818575,  0.85067475, -0.9432237 ],\n",
       "       [ 0.89697077, -1.02940349,  0.7111013 , -1.00682301],\n",
       "       [ 0.91759079, -1.01627088,  0.64021104, -1.00676643],\n",
       "       [ 0.93821081, -1.12215833,  0.69672467, -1.03599349],\n",
       "       [ 0.95883083, -1.17488118,  0.76795256, -1.0368255 ],\n",
       "       [ 0.97945084, -1.1710163 ,  0.68360904, -1.06823577],\n",
       "       [ 1.00007086, -1.05022494,  1.38540792, -0.97514982],\n",
       "       [ 1.02069088, -0.86134985,  1.58983514, -0.97426788],\n",
       "       [ 1.0413109 , -0.94814766,  1.37160742, -1.00733886],\n",
       "       [ 1.06193091, -1.16439885,  1.16618282, -1.06859853],\n",
       "       [ 1.08255093, -1.08813464,  0.7845459 , -1.06854528],\n",
       "       [ 1.10317095, -1.11665406,  1.3097025 , -1.09870752],\n",
       "       [ 1.12379097, -1.18528195,  1.58872282, -1.09860435],\n",
       "       [ 1.14441099, -1.23205227,  1.28277996, -1.12964853],\n",
       "       [ 1.165031  , -1.33042438,  0.91048453, -1.16162457],\n",
       "       [ 1.18565102, -1.35311245,  0.74975125, -1.19360726],\n",
       "       [ 1.20627104, -1.32851062,  1.1782985 , -1.16193741],\n",
       "       [ 1.22689106, -1.26604053,  1.20653824, -1.19246574],\n",
       "       [ 1.24751107, -1.36378265,  0.88557661, -1.22387268],\n",
       "       [ 1.26813109, -1.39181957,  0.56164438, -1.25554253],\n",
       "       [ 1.28875111, -1.35374452,  0.47933567, -1.25491686],\n",
       "       [ 1.30937113, -1.31700816,  0.98609978, -1.2552297 ],\n",
       "       [ 1.32999115, -1.42954723,  0.95416157, -1.28627388],\n",
       "       [ 1.35061116, -1.50981315,  0.37710694, -1.25486361],\n",
       "       [ 1.37123118, -1.22696873,  1.02878004, -1.1304273 ],\n",
       "       [ 1.3918512 , -1.25323067,  1.02366624, -1.19386685],\n",
       "       [ 1.41247122, -1.25578983,  0.79330345, -1.22407902],\n",
       "       [ 1.43309123, -1.29124111,  0.71233874, -1.22382276],\n",
       "       [ 1.45371125, -1.36337506,  0.65081258, -1.28549511],\n",
       "       [ 1.47433127, -1.34410399,  0.62048226, -1.2850791 ],\n",
       "       [ 1.49495129, -1.44558959,  0.65970448, -1.28643029],\n",
       "       [ 1.51557131, -1.43335299,  0.5891015 , -1.31747447],\n",
       "       [ 1.53619132, -1.41054442,  0.57121657, -1.3485719 ],\n",
       "       [ 1.55681134, -1.49179804,  0.6851848 , -1.34825907],\n",
       "       [ 1.57743136, -1.59136863,  0.77904534, -1.34945384],\n",
       "       [ 1.59805138, -1.4993782 ,  0.80449595, -1.37966933],\n",
       "       [ 1.61867139, -1.61714854,  0.7376341 , -1.38060452],\n",
       "       [ 1.63929141, -1.54233838,  0.71613271, -1.3797725 ],\n",
       "       [ 1.65991143, -1.47961257,  0.7802841 , -1.4109731 ],\n",
       "       [ 1.68053145, -1.53180092,  0.85510419, -1.41211796],\n",
       "       [ 1.70115147, -1.40110404,  1.3404415 , -1.31747447],\n",
       "       [ 1.72177148, -1.26620928,  1.55689356, -1.25512653]])"
      ]
     },
     "execution_count": 119,
     "metadata": {},
     "output_type": "execute_result"
    }
   ],
   "source": [
    "df_for_training_1_s"
   ]
  },
  {
   "cell_type": "code",
   "execution_count": 126,
   "metadata": {},
   "outputs": [
    {
     "name": "stdout",
     "output_type": "stream",
     "text": [
      "0.9966711789757259\n",
      "0.9980897747654969\n",
      "0.9398968240706602\n"
     ]
    }
   ],
   "source": [
    "#构建RVM模型\n",
    "rvm_model_linear = RVR(kernel=\"linear\")\n",
    "rvm_model_linear.fit(df_for_training_1_s, df_for_testing_1)\n",
    "print(rvm_model_linear.score(df_for_training_1_s, df_for_testing_1))\n",
    " \n",
    "rvm_model_rbf = RVR(kernel=\"rbf\")\n",
    "rvm_model_rbf.fit(df_for_training_1_s, y)\n",
    "print(rvm_model_rbf.score(X_s, df_for_testing_1))\n",
    " \n",
    "rvm_model_poly = RVR(kernel=\"poly\")\n",
    "rvm_model_poly.fit(df_for_training_1_s, df_for_testing_1)\n",
    "print(rvm_model_poly.score(df_for_training_1_s, df_for_testing_1))"
   ]
  },
  {
   "cell_type": "markdown",
   "metadata": {},
   "source": [
    "可以看出rbf核表现效果最好，将使用RBF的rvm"
   ]
  },
  {
   "cell_type": "markdown",
   "metadata": {},
   "source": [
    "定义一些函数，固定随机数种子，回归问题评价指标函数"
   ]
  },
  {
   "cell_type": "code",
   "execution_count": 96,
   "metadata": {},
   "outputs": [],
   "source": [
    "def set_my_seed():\n",
    "    os.environ['PYTHONHASHSEED'] = '0'\n",
    "    np.random.seed(1)\n",
    "    rn.seed(12345)\n",
    "    tf.random.set_seed(123)\n",
    "    \n",
    "def evaluation(y_test, y_predict):\n",
    "    mae = mean_absolute_error(y_test, y_predict)\n",
    "    mse = mean_squared_error(y_test, y_predict)\n",
    "    rmse = np.sqrt(mean_squared_error(y_test, y_predict))\n",
    "    mape=(abs(y_predict -y_test)/ y_test).mean()\n",
    "    r_2=r2_score(y_test, y_predict)\n",
    "    return mae, rmse, mape,r_2  #mse"
   ]
  },
  {
   "cell_type": "markdown",
   "metadata": {},
   "source": [
    "##定义构建训练集和测试集的数据函数"
   ]
  },
  {
   "cell_type": "code",
   "execution_count": 160,
   "metadata": {},
   "outputs": [],
   "source": [
    "def build_sequences(text, window_size=20):\n",
    "    #text:list of capacity\n",
    "    x, y = [],[]\n",
    "    for i in range(len(text) - window_size):\n",
    "        sequence = text[i:i+window_size]\n",
    "        target = text[i+window_size]\n",
    "        x.append(sequence)\n",
    "        y.append(target)\n",
    "    return np.array(x), np.array(y)\n",
    " \n",
    "def get_traintest(data,train_size=len(df),window_size=20):\n",
    "    train=data[:train_size]\n",
    "    test=data[train_size-window_size:]\n",
    "    X_train,y_train=build_sequences(train,window_size=window_size)\n",
    "    X_test,y_test=build_sequences(test,window_size=window_size)\n",
    "    return X_train,y_train,X_test,y_test"
   ]
  },
  {
   "cell_type": "code",
   "execution_count": 161,
   "metadata": {},
   "outputs": [
    {
     "data": {
      "text/plain": [
       "(404, 13)"
      ]
     },
     "execution_count": 161,
     "metadata": {},
     "output_type": "execute_result"
    }
   ],
   "source": [
    "X_train.shape"
   ]
  },
  {
   "cell_type": "code",
   "execution_count": 164,
   "metadata": {},
   "outputs": [
    {
     "data": {
      "text/plain": [
       "(404,)"
      ]
     },
     "execution_count": 164,
     "metadata": {},
     "output_type": "execute_result"
    }
   ],
   "source": [
    "y_train.shape"
   ]
  },
  {
   "cell_type": "code",
   "execution_count": null,
   "metadata": {},
   "outputs": [],
   "source": []
  },
  {
   "cell_type": "code",
   "execution_count": null,
   "metadata": {},
   "outputs": [],
   "source": []
  },
  {
   "cell_type": "code",
   "execution_count": null,
   "metadata": {},
   "outputs": [],
   "source": []
  },
  {
   "cell_type": "code",
   "execution_count": null,
   "metadata": {},
   "outputs": [],
   "source": []
  },
  {
   "cell_type": "code",
   "execution_count": null,
   "metadata": {},
   "outputs": [],
   "source": []
  },
  {
   "cell_type": "code",
   "execution_count": null,
   "metadata": {},
   "outputs": [],
   "source": []
  },
  {
   "cell_type": "code",
   "execution_count": null,
   "metadata": {},
   "outputs": [],
   "source": []
  },
  {
   "cell_type": "code",
   "execution_count": null,
   "metadata": {},
   "outputs": [],
   "source": []
  },
  {
   "cell_type": "code",
   "execution_count": null,
   "metadata": {},
   "outputs": [],
   "source": []
  },
  {
   "cell_type": "code",
   "execution_count": 137,
   "metadata": {},
   "outputs": [
    {
     "data": {
      "text/plain": [
       "(102, 13)"
      ]
     },
     "execution_count": 137,
     "metadata": {},
     "output_type": "execute_result"
    }
   ],
   "source": [
    "X_test.shape"
   ]
  },
  {
   "cell_type": "code",
   "execution_count": 138,
   "metadata": {},
   "outputs": [
    {
     "data": {
      "text/plain": [
       "(102,)"
      ]
     },
     "execution_count": 138,
     "metadata": {},
     "output_type": "execute_result"
    }
   ],
   "source": [
    "y_test.shape"
   ]
  },
  {
   "cell_type": "code",
   "execution_count": null,
   "metadata": {},
   "outputs": [],
   "source": []
  },
  {
   "cell_type": "code",
   "execution_count": null,
   "metadata": {},
   "outputs": [],
   "source": []
  },
  {
   "cell_type": "code",
   "execution_count": null,
   "metadata": {},
   "outputs": [],
   "source": []
  },
  {
   "cell_type": "code",
   "execution_count": null,
   "metadata": {},
   "outputs": [],
   "source": []
  },
  {
   "cell_type": "markdown",
   "metadata": {},
   "source": [
    "# n_past是在预测下一个目标值时将在过去查看的步骤数\n",
    "def createXY(dataset,n_past):\n",
    "    dataX = []\n",
    "    dataY = []\n",
    "    for i in range(n_past,len(dataset)):\n",
    "        dataX.append(dataset[i - n_past:i,0:dataset.shape[1]])\n",
    "        dataY.append(dataset[i,4])\n",
    "    return np.array(dataX),np.array(dataY)\n",
    "\n",
    "trainX , trainY = createXY(df_for_training_scaled,20)\n",
    "testX , testY = createXY(df_for_testing_scaled,20)"
   ]
  },
  {
   "cell_type": "markdown",
   "metadata": {},
   "source": [
    "定义模型函数（5种神经网络模型），还有画损失图和拟合图对比的函数。"
   ]
  },
  {
   "cell_type": "code",
   "execution_count": 127,
   "metadata": {},
   "outputs": [],
   "source": [
    "def build_model(X_train,mode='LSTM',hidden_dim=[32,16]):\n",
    "    set_my_seed()\n",
    "    model = Sequential()\n",
    "    if mode=='RNN':\n",
    "        #RNN\n",
    "        model.add(SimpleRNN(hidden_dim[0],return_sequences=True, input_shape=(X_train.shape[-2],X_train.shape[-1])))\n",
    "        model.add(SimpleRNN(hidden_dim[1]))     \n",
    "        \n",
    "    elif mode=='MLP':\n",
    "        model.add(Dense(hidden_dim[0],activation='relu',input_shape=(X_train.shape[-1],)))\n",
    "        model.add(Dense(hidden_dim[1],activation='relu'))\n",
    "        \n",
    "    elif mode=='LSTM':\n",
    "        # LSTM\n",
    "        model.add(LSTM(hidden_dim[0],return_sequences=True, input_shape=(X_train.shape[-2],X_train.shape[-1])))\n",
    "        model.add(LSTM(hidden_dim[1]))\n",
    "    elif mode=='GRU':\n",
    "        #GRU\n",
    "        model.add(GRU(hidden_dim[0],return_sequences=True, input_shape=(X_train.shape[-2],X_train.shape[-1])))\n",
    "        model.add(GRU(hidden_dim[1]))\n",
    "    elif mode=='CNN':\n",
    "        #一维卷积\n",
    "        model.add(Conv1D(hidden_dim[0], kernel_size=3, padding='causal', strides=1, activation='relu', dilation_rate=1, input_shape=(X_train.shape[-2],X_train.shape[-1])))\n",
    "        #model.add(MaxPooling1D())\n",
    "        model.add(Conv1D(hidden_dim[0], kernel_size=3, padding='causal', strides=1, activation='relu', dilation_rate=2))\n",
    "        #model.add(MaxPooling1D())\n",
    "        model.add(Conv1D(hidden_dim[0], kernel_size=3, padding='causal', strides=1, activation='relu', dilation_rate=4))\n",
    "        #GlobalMaxPooling1D()\n",
    "        model.add(Flatten())\n",
    "        \n",
    "    model.add(Dense(1))\n",
    "    model.compile(optimizer='Adam', loss='mse',metrics=[tf.keras.metrics.RootMeanSquaredError(),\"mape\",\"mae\"])\n",
    "    return model\n",
    " \n",
    "def plot_loss(hist,imfname):\n",
    "    plt.subplots(1,4,figsize=(16,2))\n",
    "    for i,key in enumerate(hist.history.keys()):\n",
    "        n=int(str('14')+str(i+1))\n",
    "        plt.subplot(n)\n",
    "        plt.plot(hist.history[key], 'k', label=f'Training {key}')\n",
    "        plt.title(f'{imfname} Training {key}')\n",
    "        plt.xlabel('Epochs')\n",
    "        plt.ylabel(key)\n",
    "        plt.legend()\n",
    "    plt.tight_layout()\n",
    "    plt.show()\n",
    "def plot_fit(y_test, y_pred,name):\n",
    "    plt.figure(figsize=(4,2))\n",
    "    plt.plot(y_test, color=\"red\", label=\"actual\")\n",
    "    plt.plot(y_pred, color=\"blue\", label=\"predict\")\n",
    "    plt.title(f\"{name}拟合值和真实值对比\")\n",
    "    plt.xlabel(\"Time\")\n",
    "    plt.ylabel(name)\n",
    "    plt.legend()\n",
    "    plt.show()"
   ]
  },
  {
   "cell_type": "code",
   "execution_count": null,
   "metadata": {},
   "outputs": [],
   "source": []
  },
  {
   "cell_type": "code",
   "execution_count": null,
   "metadata": {},
   "outputs": [],
   "source": []
  },
  {
   "cell_type": "code",
   "execution_count": null,
   "metadata": {},
   "outputs": [],
   "source": []
  },
  {
   "cell_type": "code",
   "execution_count": null,
   "metadata": {},
   "outputs": [],
   "source": []
  },
  {
   "cell_type": "code",
   "execution_count": null,
   "metadata": {},
   "outputs": [],
   "source": []
  },
  {
   "cell_type": "code",
   "execution_count": null,
   "metadata": {},
   "outputs": [],
   "source": []
  },
  {
   "cell_type": "code",
   "execution_count": null,
   "metadata": {},
   "outputs": [],
   "source": []
  },
  {
   "cell_type": "code",
   "execution_count": null,
   "metadata": {},
   "outputs": [],
   "source": []
  },
  {
   "cell_type": "code",
   "execution_count": null,
   "metadata": {},
   "outputs": [],
   "source": []
  },
  {
   "cell_type": "markdown",
   "metadata": {},
   "source": [
    "定义五种神经网络模型，花损失函数模拟图和对比的函数"
   ]
  },
  {
   "cell_type": "code",
   "execution_count": 101,
   "metadata": {},
   "outputs": [],
   "source": [
    "def build_model(X_train,mode='LSTM',hidden_dim=[32,16]):\n",
    "    set_my_seed()\n",
    "    model = Sequential()\n",
    "    if mode=='RNN':\n",
    "        #RNN\n",
    "        model.add(SimpleRNN(hidden_dim[0],return_sequences=True, input_shape=(X_train.shape[-2],X_train.shape[-1])))\n",
    "        model.add(SimpleRNN(hidden_dim[1]))     \n",
    "        \n",
    "    elif mode=='MLP':\n",
    "        model.add(Dense(hidden_dim[0],activation='relu',input_shape=(X_train.shape[-1],)))\n",
    "        model.add(Dense(hidden_dim[1],activation='relu'))\n",
    "        \n",
    "    elif mode=='LSTM':\n",
    "        # LSTM\n",
    "        model.add(LSTM(hidden_dim[0],return_sequences=True, input_shape=(X_train.shape[-2],X_train.shape[-1])))\n",
    "        model.add(LSTM(hidden_dim[1]))\n",
    "    elif mode=='GRU':\n",
    "        #GRU\n",
    "        model.add(GRU(hidden_dim[0],return_sequences=True, input_shape=(X_train.shape[-2],X_train.shape[-1])))\n",
    "        model.add(GRU(hidden_dim[1]))\n",
    "    elif mode=='CNN':\n",
    "        #一维卷积\n",
    "        model.add(Conv1D(hidden_dim[0], kernel_size=3, padding='causal', strides=1, activation='relu', dilation_rate=1, input_shape=(X_train.shape[-2],X_train.shape[-1])))\n",
    "        #model.add(MaxPooling1D())\n",
    "        model.add(Conv1D(hidden_dim[0], kernel_size=3, padding='causal', strides=1, activation='relu', dilation_rate=2))\n",
    "        #model.add(MaxPooling1D())\n",
    "        model.add(Conv1D(hidden_dim[0], kernel_size=3, padding='causal', strides=1, activation='relu', dilation_rate=4))\n",
    "        #GlobalMaxPooling1D()\n",
    "        model.add(Flatten())\n",
    "        \n",
    "    model.add(Dense(1))\n",
    "    model.compile(optimizer='Adam', loss='mse',metrics=[tf.keras.metrics.RootMeanSquaredError(),\"mape\",\"mae\"])\n",
    "    return model\n",
    " \n",
    "def plot_loss(hist,imfname):\n",
    "    plt.subplots(1,4,figsize=(16,2))\n",
    "    for i,key in enumerate(hist.history.keys()):\n",
    "        n=int(str('14')+str(i+1))\n",
    "        plt.subplot(n)\n",
    "        plt.plot(hist.history[key], 'k', label=f'Training {key}')\n",
    "        plt.title(f'{imfname} Training {key}')\n",
    "        plt.xlabel('Epochs')\n",
    "        plt.ylabel(key)\n",
    "        plt.legend()\n",
    "    plt.tight_layout()\n",
    "    plt.show()\n",
    "def plot_fit(y_test, y_pred,name):\n",
    "    plt.figure(figsize=(4,2))\n",
    "    plt.plot(y_test, color=\"red\", label=\"actual\")\n",
    "    plt.plot(y_pred, color=\"blue\", label=\"predict\")\n",
    "    plt.title(f\"{name}拟合值和真实值对比\")\n",
    "    plt.xlabel(\"Time\")\n",
    "    plt.ylabel(name)\n",
    "    plt.legend()\n",
    "    plt.show()"
   ]
  },
  {
   "cell_type": "markdown",
   "metadata": {},
   "source": [
    "定义训练函数"
   ]
  },
  {
   "cell_type": "code",
   "execution_count": 102,
   "metadata": {},
   "outputs": [],
   "source": [
    "df_eval_all=pd.DataFrame(columns=['MAE','RMSE','MAPE','R2'])\n",
    "df_preds_all=pd.DataFrame()\n",
    "def train_fuc(mode='LSTM',window_size=64,batch_size=32,epochs=50,hidden_dim=[32,16],train_ratio=0.8,kernel=\"rbf\",show_loss=True,show_fit=True):\n",
    "    df_preds=pd.DataFrame()\n",
    "    #预测每一列\n",
    "    for i,col_name in  enumerate(df.columns):\n",
    "        print(f'正在处理变量：{col_name}')\n",
    "        #准备数据\n",
    "        data=df[col_name]\n",
    "        train_size=int(len(data)*train_ratio)\n",
    "        X_train,y_train,X_test,y_test=get_traintest(data.values,window_size=window_size,train_size=train_size)\n",
    "        #print(X_train.shape,y_train.shape,X_test.shape,y_test.shape)\n",
    "        #归一化\n",
    "        scaler = MinMaxScaler() \n",
    "        scaler = scaler.fit(X_train)\n",
    "        X_train=scaler.transform(X_train)   ;   X_test=scaler.transform(X_test)\n",
    " \n",
    "        y_train_orage=y_train.copy()    ;       y_scaler = MinMaxScaler() \n",
    "        y_scaler = y_scaler.fit(y_train.reshape(-1,1))\n",
    "        y_train=y_scaler.transform(y_train.reshape(-1,1))\n",
    "        \n",
    "        if mode!='MLP':\n",
    "            X_train = X_train.reshape((X_train.shape[0], X_train.shape[1], 1))\n",
    "        #构建模型\n",
    "        s = time.time()\n",
    "        set_my_seed()\n",
    "        model=build_model(X_train=X_train,mode=mode,hidden_dim=hidden_dim)\n",
    "        earlystop = EarlyStopping(monitor='loss', min_delta=0, patience=5)\n",
    "        hist=model.fit(X_train, y_train,batch_size=batch_size,epochs=epochs,callbacks=[earlystop],verbose=0)\n",
    "        if show_loss:\n",
    "            plot_loss(hist,col_name)\n",
    "            \n",
    "        #预测\n",
    "        y_pred = model.predict(X_test)\n",
    "        y_pred = y_scaler.inverse_transform(y_pred)\n",
    "        #print(f'真实y的形状：{y_test.shape},预测y的形状：{y_pred.shape}')\n",
    "        if show_fit:\n",
    "            plot_fit(y_test, y_pred,name=col_name)\n",
    "        e=time.time()\n",
    "        print(f\"运行时间为{round(e-s,3)}\")\n",
    "        df_preds[col_name]=y_pred.reshape(-1,)\n",
    "        \n",
    "        s=list(evaluation(y_test, y_pred))\n",
    "        s=[round(i,3) for i in s]\n",
    "        print(f'{col_name}变量的预测效果为：MAE:{s[0]},RMSE:{s[1]},MAPE:{s[2]},R2:{s[3]}')\n",
    "        print(\"=================================================================================\")\n",
    "        \n",
    "        \n",
    "    X_pred=df_preds.iloc[:,:-1]\n",
    "    X_pred_s = scaler_s.transform(X_pred)\n",
    "    y_direct=df_preds.iloc[:,-1]  \n",
    "    \n",
    "    if kernel==\"rbf\":\n",
    "        y_nodirect=rvm_model_rbf.predict(X_pred_s)\n",
    "    if kernel==\"linear\":\n",
    "        y_nodirect=rvm_model_linear.predict(X_pred_s)        \n",
    "    if kernel==\"ploy\":\n",
    "        y_nodirect=rvm_model_ploy.predict(X_pred_s) \n",
    "        \n",
    "    score1=list(evaluation(y_test, y_direct))\n",
    "    score2=list(evaluation(y_test, y_nodirect))\n",
    "    df_preds_all[mode]=y_direct\n",
    "    df_preds_all[f'{mode}+RVM']=y_nodirect\n",
    "    df_eval_all.loc[f'{mode}',:]=score1\n",
    "    df_eval_all.loc[f'{mode}+RVM',:]=score2\n",
    "    print(score2)"
   ]
  },
  {
   "cell_type": "markdown",
   "metadata": {},
   "source": [
    "开始训练\n",
    "\n",
    "初始化超参数"
   ]
  },
  {
   "cell_type": "code",
   "execution_count": 103,
   "metadata": {},
   "outputs": [],
   "source": [
    "window_size=64\n",
    "batch_size=32\n",
    "epochs=50\n",
    "hidden_dim=[32,16]\n",
    "train_ratio=0.8\n",
    "kernel=\"rbf\"\n",
    "show_fit=True\n",
    "show_loss=True\n",
    "mode='LSTM'  #RNN,GRU,CNN"
   ]
  },
  {
   "cell_type": "markdown",
   "metadata": {},
   "source": [
    "LSTM预测"
   ]
  },
  {
   "cell_type": "code",
   "execution_count": 104,
   "metadata": {},
   "outputs": [
    {
     "name": "stdout",
     "output_type": "stream",
     "text": [
      "正在处理变量：循环次数\n"
     ]
    },
    {
     "name": "stderr",
     "output_type": "stream",
     "text": [
      "C:\\ProgramData\\Anaconda3\\lib\\site-packages\\sklearn\\utils\\validation.py:475: DataConversionWarning: Data with input dtype int64 was converted to float64 by MinMaxScaler.\n",
      "  warnings.warn(msg, DataConversionWarning)\n",
      "C:\\ProgramData\\Anaconda3\\lib\\site-packages\\sklearn\\utils\\validation.py:475: DataConversionWarning: Data with input dtype int64 was converted to float64 by MinMaxScaler.\n",
      "  warnings.warn(msg, DataConversionWarning)\n"
     ]
    },
    {
     "data": {
      "image/png": "[encoded data removed]",
      "text/plain": [
       "<Figure size 1152x144 with 4 Axes>"
      ]
     },
     "metadata": {},
     "output_type": "display_data"
    },
    {
     "ename": "ValueError",
     "evalue": "in user code:\n\n    C:\\Users\\HUAWEI\\AppData\\Roaming\\Python\\Python36\\site-packages\\keras\\engine\\training.py:1586 predict_function  *\n        return step_function(self, iterator)\n    C:\\Users\\HUAWEI\\AppData\\Roaming\\Python\\Python36\\site-packages\\keras\\engine\\training.py:1576 step_function  **\n        outputs = model.distribute_strategy.run(run_step, args=(data,))\n    C:\\Users\\HUAWEI\\AppData\\Roaming\\Python\\Python36\\site-packages\\tensorflow\\python\\distribute\\distribute_lib.py:1286 run\n        return self._extended.call_for_each_replica(fn, args=args, kwargs=kwargs)\n    C:\\Users\\HUAWEI\\AppData\\Roaming\\Python\\Python36\\site-packages\\tensorflow\\python\\distribute\\distribute_lib.py:2849 call_for_each_replica\n        return self._call_for_each_replica(fn, args, kwargs)\n    C:\\Users\\HUAWEI\\AppData\\Roaming\\Python\\Python36\\site-packages\\tensorflow\\python\\distribute\\distribute_lib.py:3632 _call_for_each_replica\n        return fn(*args, **kwargs)\n    C:\\Users\\HUAWEI\\AppData\\Roaming\\Python\\Python36\\site-packages\\keras\\engine\\training.py:1569 run_step  **\n        outputs = model.predict_step(data)\n    C:\\Users\\HUAWEI\\AppData\\Roaming\\Python\\Python36\\site-packages\\keras\\engine\\training.py:1537 predict_step\n        return self(x, training=False)\n    C:\\Users\\HUAWEI\\AppData\\Roaming\\Python\\Python36\\site-packages\\keras\\engine\\base_layer.py:1020 __call__\n        input_spec.assert_input_compatibility(self.input_spec, inputs, self.name)\n    C:\\Users\\HUAWEI\\AppData\\Roaming\\Python\\Python36\\site-packages\\keras\\engine\\input_spec.py:218 assert_input_compatibility\n        str(tuple(shape)))\n\n    ValueError: Input 0 of layer sequential is incompatible with the layer: expected ndim=3, found ndim=2. Full shape received: (None, 64)\n",
     "output_type": "error",
     "traceback": [
      "\u001b[1;31m---------------------------------------------------------------------------\u001b[0m",
      "\u001b[1;31mValueError\u001b[0m                                Traceback (most recent call last)",
      "\u001b[1;32m<ipython-input-104-b57288abf4ae>\u001b[0m in \u001b[0;36m<module>\u001b[1;34m()\u001b[0m\n\u001b[0;32m      1\u001b[0m \u001b[0mmode\u001b[0m\u001b[1;33m=\u001b[0m\u001b[1;34m'LSTM'\u001b[0m\u001b[1;33m\u001b[0m\u001b[0m\n\u001b[0;32m      2\u001b[0m \u001b[0mset_my_seed\u001b[0m\u001b[1;33m(\u001b[0m\u001b[1;33m)\u001b[0m\u001b[1;33m\u001b[0m\u001b[0m\n\u001b[1;32m----> 3\u001b[1;33m \u001b[0mtrain_fuc\u001b[0m\u001b[1;33m(\u001b[0m\u001b[0mmode\u001b[0m\u001b[1;33m=\u001b[0m\u001b[0mmode\u001b[0m\u001b[1;33m,\u001b[0m\u001b[0mwindow_size\u001b[0m\u001b[1;33m=\u001b[0m\u001b[0mwindow_size\u001b[0m\u001b[1;33m,\u001b[0m\u001b[0mbatch_size\u001b[0m\u001b[1;33m=\u001b[0m\u001b[0mbatch_size\u001b[0m\u001b[1;33m,\u001b[0m\u001b[0mepochs\u001b[0m\u001b[1;33m=\u001b[0m\u001b[0mepochs\u001b[0m\u001b[1;33m,\u001b[0m\u001b[0mhidden_dim\u001b[0m\u001b[1;33m=\u001b[0m\u001b[0mhidden_dim\u001b[0m\u001b[1;33m)\u001b[0m\u001b[1;33m\u001b[0m\u001b[0m\n\u001b[0m",
      "\u001b[1;32m<ipython-input-102-20eeee88a037>\u001b[0m in \u001b[0;36mtrain_fuc\u001b[1;34m(mode, window_size, batch_size, epochs, hidden_dim, train_ratio, kernel, show_loss, show_fit)\u001b[0m\n\u001b[0;32m     32\u001b[0m \u001b[1;33m\u001b[0m\u001b[0m\n\u001b[0;32m     33\u001b[0m         \u001b[1;31m#预测\u001b[0m\u001b[1;33m\u001b[0m\u001b[1;33m\u001b[0m\u001b[0m\n\u001b[1;32m---> 34\u001b[1;33m         \u001b[0my_pred\u001b[0m \u001b[1;33m=\u001b[0m \u001b[0mmodel\u001b[0m\u001b[1;33m.\u001b[0m\u001b[0mpredict\u001b[0m\u001b[1;33m(\u001b[0m\u001b[0mX_test\u001b[0m\u001b[1;33m)\u001b[0m\u001b[1;33m\u001b[0m\u001b[0m\n\u001b[0m\u001b[0;32m     35\u001b[0m         \u001b[0my_pred\u001b[0m \u001b[1;33m=\u001b[0m \u001b[0my_scaler\u001b[0m\u001b[1;33m.\u001b[0m\u001b[0minverse_transform\u001b[0m\u001b[1;33m(\u001b[0m\u001b[0my_pred\u001b[0m\u001b[1;33m)\u001b[0m\u001b[1;33m\u001b[0m\u001b[0m\n\u001b[0;32m     36\u001b[0m         \u001b[1;31m#print(f'真实y的形状：{y_test.shape},预测y的形状：{y_pred.shape}')\u001b[0m\u001b[1;33m\u001b[0m\u001b[1;33m\u001b[0m\u001b[0m\n",
      "\u001b[1;32m~\\AppData\\Roaming\\Python\\Python36\\site-packages\\keras\\engine\\training.py\u001b[0m in \u001b[0;36mpredict\u001b[1;34m(self, x, batch_size, verbose, steps, callbacks, max_queue_size, workers, use_multiprocessing)\u001b[0m\n\u001b[0;32m   1749\u001b[0m           \u001b[1;32mfor\u001b[0m \u001b[0mstep\u001b[0m \u001b[1;32min\u001b[0m \u001b[0mdata_handler\u001b[0m\u001b[1;33m.\u001b[0m\u001b[0msteps\u001b[0m\u001b[1;33m(\u001b[0m\u001b[1;33m)\u001b[0m\u001b[1;33m:\u001b[0m\u001b[1;33m\u001b[0m\u001b[0m\n\u001b[0;32m   1750\u001b[0m             \u001b[0mcallbacks\u001b[0m\u001b[1;33m.\u001b[0m\u001b[0mon_predict_batch_begin\u001b[0m\u001b[1;33m(\u001b[0m\u001b[0mstep\u001b[0m\u001b[1;33m)\u001b[0m\u001b[1;33m\u001b[0m\u001b[0m\n\u001b[1;32m-> 1751\u001b[1;33m             \u001b[0mtmp_batch_outputs\u001b[0m \u001b[1;33m=\u001b[0m \u001b[0mself\u001b[0m\u001b[1;33m.\u001b[0m\u001b[0mpredict_function\u001b[0m\u001b[1;33m(\u001b[0m\u001b[0miterator\u001b[0m\u001b[1;33m)\u001b[0m\u001b[1;33m\u001b[0m\u001b[0m\n\u001b[0m\u001b[0;32m   1752\u001b[0m             \u001b[1;32mif\u001b[0m \u001b[0mdata_handler\u001b[0m\u001b[1;33m.\u001b[0m\u001b[0mshould_sync\u001b[0m\u001b[1;33m:\u001b[0m\u001b[1;33m\u001b[0m\u001b[0m\n\u001b[0;32m   1753\u001b[0m               \u001b[0mcontext\u001b[0m\u001b[1;33m.\u001b[0m\u001b[0masync_wait\u001b[0m\u001b[1;33m(\u001b[0m\u001b[1;33m)\u001b[0m\u001b[1;33m\u001b[0m\u001b[0m\n",
      "\u001b[1;32m~\\AppData\\Roaming\\Python\\Python36\\site-packages\\tensorflow\\python\\eager\\def_function.py\u001b[0m in \u001b[0;36m__call__\u001b[1;34m(self, *args, **kwds)\u001b[0m\n\u001b[0;32m    883\u001b[0m \u001b[1;33m\u001b[0m\u001b[0m\n\u001b[0;32m    884\u001b[0m       \u001b[1;32mwith\u001b[0m \u001b[0mOptionalXlaContext\u001b[0m\u001b[1;33m(\u001b[0m\u001b[0mself\u001b[0m\u001b[1;33m.\u001b[0m\u001b[0m_jit_compile\u001b[0m\u001b[1;33m)\u001b[0m\u001b[1;33m:\u001b[0m\u001b[1;33m\u001b[0m\u001b[0m\n\u001b[1;32m--> 885\u001b[1;33m         \u001b[0mresult\u001b[0m \u001b[1;33m=\u001b[0m \u001b[0mself\u001b[0m\u001b[1;33m.\u001b[0m\u001b[0m_call\u001b[0m\u001b[1;33m(\u001b[0m\u001b[1;33m*\u001b[0m\u001b[0margs\u001b[0m\u001b[1;33m,\u001b[0m \u001b[1;33m**\u001b[0m\u001b[0mkwds\u001b[0m\u001b[1;33m)\u001b[0m\u001b[1;33m\u001b[0m\u001b[0m\n\u001b[0m\u001b[0;32m    886\u001b[0m \u001b[1;33m\u001b[0m\u001b[0m\n\u001b[0;32m    887\u001b[0m       \u001b[0mnew_tracing_count\u001b[0m \u001b[1;33m=\u001b[0m \u001b[0mself\u001b[0m\u001b[1;33m.\u001b[0m\u001b[0mexperimental_get_tracing_count\u001b[0m\u001b[1;33m(\u001b[0m\u001b[1;33m)\u001b[0m\u001b[1;33m\u001b[0m\u001b[0m\n",
      "\u001b[1;32m~\\AppData\\Roaming\\Python\\Python36\\site-packages\\tensorflow\\python\\eager\\def_function.py\u001b[0m in \u001b[0;36m_call\u001b[1;34m(self, *args, **kwds)\u001b[0m\n\u001b[0;32m    931\u001b[0m       \u001b[1;31m# This is the first call of __call__, so we have to initialize.\u001b[0m\u001b[1;33m\u001b[0m\u001b[1;33m\u001b[0m\u001b[0m\n\u001b[0;32m    932\u001b[0m       \u001b[0minitializers\u001b[0m \u001b[1;33m=\u001b[0m \u001b[1;33m[\u001b[0m\u001b[1;33m]\u001b[0m\u001b[1;33m\u001b[0m\u001b[0m\n\u001b[1;32m--> 933\u001b[1;33m       \u001b[0mself\u001b[0m\u001b[1;33m.\u001b[0m\u001b[0m_initialize\u001b[0m\u001b[1;33m(\u001b[0m\u001b[0margs\u001b[0m\u001b[1;33m,\u001b[0m \u001b[0mkwds\u001b[0m\u001b[1;33m,\u001b[0m \u001b[0madd_initializers_to\u001b[0m\u001b[1;33m=\u001b[0m\u001b[0minitializers\u001b[0m\u001b[1;33m)\u001b[0m\u001b[1;33m\u001b[0m\u001b[0m\n\u001b[0m\u001b[0;32m    934\u001b[0m     \u001b[1;32mfinally\u001b[0m\u001b[1;33m:\u001b[0m\u001b[1;33m\u001b[0m\u001b[0m\n\u001b[0;32m    935\u001b[0m       \u001b[1;31m# At this point we know that the initialization is complete (or less\u001b[0m\u001b[1;33m\u001b[0m\u001b[1;33m\u001b[0m\u001b[0m\n",
      "\u001b[1;32m~\\AppData\\Roaming\\Python\\Python36\\site-packages\\tensorflow\\python\\eager\\def_function.py\u001b[0m in \u001b[0;36m_initialize\u001b[1;34m(self, args, kwds, add_initializers_to)\u001b[0m\n\u001b[0;32m    758\u001b[0m     self._concrete_stateful_fn = (\n\u001b[0;32m    759\u001b[0m         self._stateful_fn._get_concrete_function_internal_garbage_collected(  # pylint: disable=protected-access\n\u001b[1;32m--> 760\u001b[1;33m             *args, **kwds))\n\u001b[0m\u001b[0;32m    761\u001b[0m \u001b[1;33m\u001b[0m\u001b[0m\n\u001b[0;32m    762\u001b[0m     \u001b[1;32mdef\u001b[0m \u001b[0minvalid_creator_scope\u001b[0m\u001b[1;33m(\u001b[0m\u001b[1;33m*\u001b[0m\u001b[0munused_args\u001b[0m\u001b[1;33m,\u001b[0m \u001b[1;33m**\u001b[0m\u001b[0munused_kwds\u001b[0m\u001b[1;33m)\u001b[0m\u001b[1;33m:\u001b[0m\u001b[1;33m\u001b[0m\u001b[0m\n",
      "\u001b[1;32m~\\AppData\\Roaming\\Python\\Python36\\site-packages\\tensorflow\\python\\eager\\function.py\u001b[0m in \u001b[0;36m_get_concrete_function_internal_garbage_collected\u001b[1;34m(self, *args, **kwargs)\u001b[0m\n\u001b[0;32m   3064\u001b[0m       \u001b[0margs\u001b[0m\u001b[1;33m,\u001b[0m \u001b[0mkwargs\u001b[0m \u001b[1;33m=\u001b[0m \u001b[1;32mNone\u001b[0m\u001b[1;33m,\u001b[0m \u001b[1;32mNone\u001b[0m\u001b[1;33m\u001b[0m\u001b[0m\n\u001b[0;32m   3065\u001b[0m     \u001b[1;32mwith\u001b[0m \u001b[0mself\u001b[0m\u001b[1;33m.\u001b[0m\u001b[0m_lock\u001b[0m\u001b[1;33m:\u001b[0m\u001b[1;33m\u001b[0m\u001b[0m\n\u001b[1;32m-> 3066\u001b[1;33m       \u001b[0mgraph_function\u001b[0m\u001b[1;33m,\u001b[0m \u001b[0m_\u001b[0m \u001b[1;33m=\u001b[0m \u001b[0mself\u001b[0m\u001b[1;33m.\u001b[0m\u001b[0m_maybe_define_function\u001b[0m\u001b[1;33m(\u001b[0m\u001b[0margs\u001b[0m\u001b[1;33m,\u001b[0m \u001b[0mkwargs\u001b[0m\u001b[1;33m)\u001b[0m\u001b[1;33m\u001b[0m\u001b[0m\n\u001b[0m\u001b[0;32m   3067\u001b[0m     \u001b[1;32mreturn\u001b[0m \u001b[0mgraph_function\u001b[0m\u001b[1;33m\u001b[0m\u001b[0m\n\u001b[0;32m   3068\u001b[0m \u001b[1;33m\u001b[0m\u001b[0m\n",
      "\u001b[1;32m~\\AppData\\Roaming\\Python\\Python36\\site-packages\\tensorflow\\python\\eager\\function.py\u001b[0m in \u001b[0;36m_maybe_define_function\u001b[1;34m(self, args, kwargs)\u001b[0m\n\u001b[0;32m   3461\u001b[0m \u001b[1;33m\u001b[0m\u001b[0m\n\u001b[0;32m   3462\u001b[0m           \u001b[0mself\u001b[0m\u001b[1;33m.\u001b[0m\u001b[0m_function_cache\u001b[0m\u001b[1;33m.\u001b[0m\u001b[0mmissed\u001b[0m\u001b[1;33m.\u001b[0m\u001b[0madd\u001b[0m\u001b[1;33m(\u001b[0m\u001b[0mcall_context_key\u001b[0m\u001b[1;33m)\u001b[0m\u001b[1;33m\u001b[0m\u001b[0m\n\u001b[1;32m-> 3463\u001b[1;33m           \u001b[0mgraph_function\u001b[0m \u001b[1;33m=\u001b[0m \u001b[0mself\u001b[0m\u001b[1;33m.\u001b[0m\u001b[0m_create_graph_function\u001b[0m\u001b[1;33m(\u001b[0m\u001b[0margs\u001b[0m\u001b[1;33m,\u001b[0m \u001b[0mkwargs\u001b[0m\u001b[1;33m)\u001b[0m\u001b[1;33m\u001b[0m\u001b[0m\n\u001b[0m\u001b[0;32m   3464\u001b[0m           \u001b[0mself\u001b[0m\u001b[1;33m.\u001b[0m\u001b[0m_function_cache\u001b[0m\u001b[1;33m.\u001b[0m\u001b[0mprimary\u001b[0m\u001b[1;33m[\u001b[0m\u001b[0mcache_key\u001b[0m\u001b[1;33m]\u001b[0m \u001b[1;33m=\u001b[0m \u001b[0mgraph_function\u001b[0m\u001b[1;33m\u001b[0m\u001b[0m\n\u001b[0;32m   3465\u001b[0m \u001b[1;33m\u001b[0m\u001b[0m\n",
      "\u001b[1;32m~\\AppData\\Roaming\\Python\\Python36\\site-packages\\tensorflow\\python\\eager\\function.py\u001b[0m in \u001b[0;36m_create_graph_function\u001b[1;34m(self, args, kwargs, override_flat_arg_shapes)\u001b[0m\n\u001b[0;32m   3306\u001b[0m             \u001b[0marg_names\u001b[0m\u001b[1;33m=\u001b[0m\u001b[0marg_names\u001b[0m\u001b[1;33m,\u001b[0m\u001b[1;33m\u001b[0m\u001b[0m\n\u001b[0;32m   3307\u001b[0m             \u001b[0moverride_flat_arg_shapes\u001b[0m\u001b[1;33m=\u001b[0m\u001b[0moverride_flat_arg_shapes\u001b[0m\u001b[1;33m,\u001b[0m\u001b[1;33m\u001b[0m\u001b[0m\n\u001b[1;32m-> 3308\u001b[1;33m             capture_by_value=self._capture_by_value),\n\u001b[0m\u001b[0;32m   3309\u001b[0m         \u001b[0mself\u001b[0m\u001b[1;33m.\u001b[0m\u001b[0m_function_attributes\u001b[0m\u001b[1;33m,\u001b[0m\u001b[1;33m\u001b[0m\u001b[0m\n\u001b[0;32m   3310\u001b[0m         \u001b[0mfunction_spec\u001b[0m\u001b[1;33m=\u001b[0m\u001b[0mself\u001b[0m\u001b[1;33m.\u001b[0m\u001b[0mfunction_spec\u001b[0m\u001b[1;33m,\u001b[0m\u001b[1;33m\u001b[0m\u001b[0m\n",
      "\u001b[1;32m~\\AppData\\Roaming\\Python\\Python36\\site-packages\\tensorflow\\python\\framework\\func_graph.py\u001b[0m in \u001b[0;36mfunc_graph_from_py_func\u001b[1;34m(name, python_func, args, kwargs, signature, func_graph, autograph, autograph_options, add_control_dependencies, arg_names, op_return_value, collections, capture_by_value, override_flat_arg_shapes, acd_record_initial_resource_uses)\u001b[0m\n\u001b[0;32m   1005\u001b[0m         \u001b[0m_\u001b[0m\u001b[1;33m,\u001b[0m \u001b[0moriginal_func\u001b[0m \u001b[1;33m=\u001b[0m \u001b[0mtf_decorator\u001b[0m\u001b[1;33m.\u001b[0m\u001b[0munwrap\u001b[0m\u001b[1;33m(\u001b[0m\u001b[0mpython_func\u001b[0m\u001b[1;33m)\u001b[0m\u001b[1;33m\u001b[0m\u001b[0m\n\u001b[0;32m   1006\u001b[0m \u001b[1;33m\u001b[0m\u001b[0m\n\u001b[1;32m-> 1007\u001b[1;33m       \u001b[0mfunc_outputs\u001b[0m \u001b[1;33m=\u001b[0m \u001b[0mpython_func\u001b[0m\u001b[1;33m(\u001b[0m\u001b[1;33m*\u001b[0m\u001b[0mfunc_args\u001b[0m\u001b[1;33m,\u001b[0m \u001b[1;33m**\u001b[0m\u001b[0mfunc_kwargs\u001b[0m\u001b[1;33m)\u001b[0m\u001b[1;33m\u001b[0m\u001b[0m\n\u001b[0m\u001b[0;32m   1008\u001b[0m \u001b[1;33m\u001b[0m\u001b[0m\n\u001b[0;32m   1009\u001b[0m       \u001b[1;31m# invariant: `func_outputs` contains only Tensors, CompositeTensors,\u001b[0m\u001b[1;33m\u001b[0m\u001b[1;33m\u001b[0m\u001b[0m\n",
      "\u001b[1;32m~\\AppData\\Roaming\\Python\\Python36\\site-packages\\tensorflow\\python\\eager\\def_function.py\u001b[0m in \u001b[0;36mwrapped_fn\u001b[1;34m(*args, **kwds)\u001b[0m\n\u001b[0;32m    666\u001b[0m         \u001b[1;31m# the function a weak reference to itself to avoid a reference cycle.\u001b[0m\u001b[1;33m\u001b[0m\u001b[1;33m\u001b[0m\u001b[0m\n\u001b[0;32m    667\u001b[0m         \u001b[1;32mwith\u001b[0m \u001b[0mOptionalXlaContext\u001b[0m\u001b[1;33m(\u001b[0m\u001b[0mcompile_with_xla\u001b[0m\u001b[1;33m)\u001b[0m\u001b[1;33m:\u001b[0m\u001b[1;33m\u001b[0m\u001b[0m\n\u001b[1;32m--> 668\u001b[1;33m           \u001b[0mout\u001b[0m \u001b[1;33m=\u001b[0m \u001b[0mweak_wrapped_fn\u001b[0m\u001b[1;33m(\u001b[0m\u001b[1;33m)\u001b[0m\u001b[1;33m.\u001b[0m\u001b[0m__wrapped__\u001b[0m\u001b[1;33m(\u001b[0m\u001b[1;33m*\u001b[0m\u001b[0margs\u001b[0m\u001b[1;33m,\u001b[0m \u001b[1;33m**\u001b[0m\u001b[0mkwds\u001b[0m\u001b[1;33m)\u001b[0m\u001b[1;33m\u001b[0m\u001b[0m\n\u001b[0m\u001b[0;32m    669\u001b[0m         \u001b[1;32mreturn\u001b[0m \u001b[0mout\u001b[0m\u001b[1;33m\u001b[0m\u001b[0m\n\u001b[0;32m    670\u001b[0m \u001b[1;33m\u001b[0m\u001b[0m\n",
      "\u001b[1;32m~\\AppData\\Roaming\\Python\\Python36\\site-packages\\tensorflow\\python\\framework\\func_graph.py\u001b[0m in \u001b[0;36mwrapper\u001b[1;34m(*args, **kwargs)\u001b[0m\n\u001b[0;32m    992\u001b[0m           \u001b[1;32mexcept\u001b[0m \u001b[0mException\u001b[0m \u001b[1;32mas\u001b[0m \u001b[0me\u001b[0m\u001b[1;33m:\u001b[0m  \u001b[1;31m# pylint:disable=broad-except\u001b[0m\u001b[1;33m\u001b[0m\u001b[0m\n\u001b[0;32m    993\u001b[0m             \u001b[1;32mif\u001b[0m \u001b[0mhasattr\u001b[0m\u001b[1;33m(\u001b[0m\u001b[0me\u001b[0m\u001b[1;33m,\u001b[0m \u001b[1;34m\"ag_error_metadata\"\u001b[0m\u001b[1;33m)\u001b[0m\u001b[1;33m:\u001b[0m\u001b[1;33m\u001b[0m\u001b[0m\n\u001b[1;32m--> 994\u001b[1;33m               \u001b[1;32mraise\u001b[0m \u001b[0me\u001b[0m\u001b[1;33m.\u001b[0m\u001b[0mag_error_metadata\u001b[0m\u001b[1;33m.\u001b[0m\u001b[0mto_exception\u001b[0m\u001b[1;33m(\u001b[0m\u001b[0me\u001b[0m\u001b[1;33m)\u001b[0m\u001b[1;33m\u001b[0m\u001b[0m\n\u001b[0m\u001b[0;32m    995\u001b[0m             \u001b[1;32melse\u001b[0m\u001b[1;33m:\u001b[0m\u001b[1;33m\u001b[0m\u001b[0m\n\u001b[0;32m    996\u001b[0m               \u001b[1;32mraise\u001b[0m\u001b[1;33m\u001b[0m\u001b[0m\n",
      "\u001b[1;31mValueError\u001b[0m: in user code:\n\n    C:\\Users\\HUAWEI\\AppData\\Roaming\\Python\\Python36\\site-packages\\keras\\engine\\training.py:1586 predict_function  *\n        return step_function(self, iterator)\n    C:\\Users\\HUAWEI\\AppData\\Roaming\\Python\\Python36\\site-packages\\keras\\engine\\training.py:1576 step_function  **\n        outputs = model.distribute_strategy.run(run_step, args=(data,))\n    C:\\Users\\HUAWEI\\AppData\\Roaming\\Python\\Python36\\site-packages\\tensorflow\\python\\distribute\\distribute_lib.py:1286 run\n        return self._extended.call_for_each_replica(fn, args=args, kwargs=kwargs)\n    C:\\Users\\HUAWEI\\AppData\\Roaming\\Python\\Python36\\site-packages\\tensorflow\\python\\distribute\\distribute_lib.py:2849 call_for_each_replica\n        return self._call_for_each_replica(fn, args, kwargs)\n    C:\\Users\\HUAWEI\\AppData\\Roaming\\Python\\Python36\\site-packages\\tensorflow\\python\\distribute\\distribute_lib.py:3632 _call_for_each_replica\n        return fn(*args, **kwargs)\n    C:\\Users\\HUAWEI\\AppData\\Roaming\\Python\\Python36\\site-packages\\keras\\engine\\training.py:1569 run_step  **\n        outputs = model.predict_step(data)\n    C:\\Users\\HUAWEI\\AppData\\Roaming\\Python\\Python36\\site-packages\\keras\\engine\\training.py:1537 predict_step\n        return self(x, training=False)\n    C:\\Users\\HUAWEI\\AppData\\Roaming\\Python\\Python36\\site-packages\\keras\\engine\\base_layer.py:1020 __call__\n        input_spec.assert_input_compatibility(self.input_spec, inputs, self.name)\n    C:\\Users\\HUAWEI\\AppData\\Roaming\\Python\\Python36\\site-packages\\keras\\engine\\input_spec.py:218 assert_input_compatibility\n        str(tuple(shape)))\n\n    ValueError: Input 0 of layer sequential is incompatible with the layer: expected ndim=3, found ndim=2. Full shape received: (None, 64)\n"
     ]
    }
   ],
   "source": [
    "mode='LSTM' \n",
    "set_my_seed()\n",
    "train_fuc(mode=mode,window_size=window_size,batch_size=batch_size,epochs=epochs,hidden_dim=hidden_dim)"
   ]
  },
  {
   "cell_type": "code",
   "execution_count": null,
   "metadata": {},
   "outputs": [],
   "source": []
  },
  {
   "cell_type": "code",
   "execution_count": null,
   "metadata": {},
   "outputs": [],
   "source": []
  },
  {
   "cell_type": "code",
   "execution_count": null,
   "metadata": {},
   "outputs": [],
   "source": []
  },
  {
   "cell_type": "code",
   "execution_count": null,
   "metadata": {},
   "outputs": [],
   "source": []
  },
  {
   "cell_type": "code",
   "execution_count": null,
   "metadata": {},
   "outputs": [],
   "source": []
  },
  {
   "cell_type": "code",
   "execution_count": null,
   "metadata": {},
   "outputs": [],
   "source": []
  },
  {
   "cell_type": "code",
   "execution_count": null,
   "metadata": {},
   "outputs": [],
   "source": []
  },
  {
   "cell_type": "code",
   "execution_count": null,
   "metadata": {},
   "outputs": [],
   "source": []
  },
  {
   "cell_type": "code",
   "execution_count": null,
   "metadata": {},
   "outputs": [],
   "source": [
    "scaler = MinMaxScaler(feature_range=(0,1))\n",
    "df_for_training_scaled = scaler.fit_transform(df_for_training)\n",
    "df_for_testing_scaled = scaler.fit_transform(df_for_testing)\n",
    "df_for_training_scaled[1]"
   ]
  },
  {
   "cell_type": "code",
   "execution_count": null,
   "metadata": {},
   "outputs": [],
   "source": []
  },
  {
   "cell_type": "code",
   "execution_count": 45,
   "metadata": {},
   "outputs": [],
   "source": []
  },
  {
   "cell_type": "code",
   "execution_count": 47,
   "metadata": {},
   "outputs": [],
   "source": []
  },
  {
   "cell_type": "code",
   "execution_count": 49,
   "metadata": {},
   "outputs": [
    {
     "data": {
      "text/plain": [
       "array([[-1.72177148,  0.39968477, -0.28679889,  1.33915253],\n",
       "       [-1.70115147,  0.62927986, -0.06876642,  1.46712657],\n",
       "       [-1.68053145,  0.82593311, -0.18622368,  1.46993546],\n",
       "       [-1.65991143,  0.82376875, -0.36872002,  1.47321027],\n",
       "       [-1.63929141,  0.78322648, -0.55769281,  1.46998871],\n",
       "       [-1.61867139,  0.75231784, -0.48378316,  1.47118015],\n",
       "       [-1.59805138,  0.74282674, -0.41785706,  1.47092389],\n",
       "       [-1.57743136,  1.14456278, -0.51760631,  1.47888129],\n",
       "       [-1.55681134,  1.10785623, -0.60932259,  1.47295068],\n",
       "       [-1.53619132,  1.05484   , -0.70820023,  1.47492423],\n",
       "       [-1.51557131,  0.99619855, -0.8788879 ,  1.47575957],\n",
       "       [-1.49495129,  1.31698373, -0.58375527,  1.41470957],\n",
       "       [-1.47433127,  1.26558002, -0.64917032,  1.41663652],\n",
       "       [-1.45371125,  1.19234073, -0.87889248,  1.35256796],\n",
       "       [-1.43309123,  1.40854634, -1.04004974,  1.35257129],\n",
       "       [-1.41247122,  1.3688687 , -1.20043135,  1.34757919],\n",
       "       [-1.3918512 ,  1.33484593, -1.18608425,  1.28944124],\n",
       "       [-1.37123118,  1.29735956, -1.15278445,  1.28928149],\n",
       "       [-1.35061116,  1.2595977 , -1.15102626,  1.28777721],\n",
       "       [-1.32999115,  1.08033241, -0.57325752,  1.54091641],\n",
       "       [-1.30937113,  1.09655479, -0.10439337,  1.60576373],\n",
       "       [-1.28875111,  1.22610805, -0.64279837,  1.54382846],\n",
       "       [-1.26813109,  1.36757623, -1.12006049,  1.47888129],\n",
       "       [-1.24751107,  1.22049209, -1.25338575,  1.41367121],\n",
       "       [-1.22689106,  1.28373098, -1.41602512,  1.41564475],\n",
       "       [-1.20627104,  1.45011565, -1.5467097 ,  1.35225845],\n",
       "       [-1.18565102,  1.31173818, -1.67789263,  1.41564475],\n",
       "       [-1.165031  ,  1.22730922, -1.72232625,  1.34752594],\n",
       "       [-1.14441099,  1.39917637, -1.68573704,  1.34726635],\n",
       "       [-1.12379097,  1.29802789, -1.66828566,  1.29136486]])"
      ]
     },
     "execution_count": 49,
     "metadata": {},
     "output_type": "execute_result"
    }
   ],
   "source": []
  },
  {
   "cell_type": "code",
   "execution_count": null,
   "metadata": {},
   "outputs": [],
   "source": []
  },
  {
   "cell_type": "code",
   "execution_count": null,
   "metadata": {},
   "outputs": [],
   "source": []
  },
  {
   "cell_type": "code",
   "execution_count": null,
   "metadata": {},
   "outputs": [],
   "source": []
  },
  {
   "cell_type": "code",
   "execution_count": null,
   "metadata": {},
   "outputs": [],
   "source": []
  },
  {
   "cell_type": "code",
   "execution_count": null,
   "metadata": {},
   "outputs": [],
   "source": []
  },
  {
   "cell_type": "code",
   "execution_count": null,
   "metadata": {},
   "outputs": [],
   "source": []
  },
  {
   "cell_type": "code",
   "execution_count": null,
   "metadata": {},
   "outputs": [],
   "source": []
  },
  {
   "cell_type": "markdown",
   "metadata": {},
   "source": [
    "定义随机种子和评估函数"
   ]
  },
  {
   "cell_type": "code",
   "execution_count": 32,
   "metadata": {},
   "outputs": [],
   "source": [
    "def set_my_seed():\n",
    "    os.environ['PYTHONHASHSEED'] = '0'##主要是为了禁止hash随机化，使得实验可复现。\n",
    "    np.random.seed(1)##Numpy 在一个明确的初始状态生成固定随机数字所必需的。\n",
    "    rn.seed(12345)##Python 在一个明确的初始状态生成固定随机数字所必需的。\n",
    "    tf.random.set_seed(123)##在一个明确的初始状态下生成固定随机数字。\n",
    "    \n",
    "def evaluation(y_test, y_predict):\n",
    "    mae = mean_absolute_error(y_test, y_predict)\n",
    "    mse = mean_squared_error(y_test, y_predict)\n",
    "    rmse = np.sqrt(mean_squared_error(y_test, y_predict))\n",
    "    mape=(abs(y_predict -y_test)/ y_test).mean()\n",
    "    r_2=r2_score(y_test, y_predict)\n",
    "    return mae, rmse, mape,r_2  #mse"
   ]
  },
  {
   "cell_type": "markdown",
   "metadata": {},
   "source": [
    "构建序列数据的测试集和数据集"
   ]
  },
  {
   "cell_type": "code",
   "execution_count": 33,
   "metadata": {},
   "outputs": [],
   "source": [
    "def build_sequences(text, window_size=24):\n",
    "    #text:list of capacity\n",
    "    x, y = [],[]\n",
    "    for i in range(len(text) - window_size):\n",
    "        sequence = text[i:i+window_size]\n",
    "        target = text[i+window_size]\n",
    "        x.append(sequence)\n",
    "        y.append(target)\n",
    "    return np.array(x), np.array(y)\n"
   ]
  },
  {
   "cell_type": "code",
   "execution_count": 34,
   "metadata": {},
   "outputs": [
    {
     "ename": "NameError",
     "evalue": "name 'data0' is not defined",
     "output_type": "error",
     "traceback": [
      "\u001b[1;31m---------------------------------------------------------------------------\u001b[0m",
      "\u001b[1;31mNameError\u001b[0m                                 Traceback (most recent call last)",
      "\u001b[1;32m<ipython-input-34-c700837369a1>\u001b[0m in \u001b[0;36m<module>\u001b[1;34m()\u001b[0m\n\u001b[1;32m----> 1\u001b[1;33m \u001b[1;32mdef\u001b[0m \u001b[0mget_traintest\u001b[0m\u001b[1;33m(\u001b[0m\u001b[0mdata\u001b[0m\u001b[1;33m,\u001b[0m\u001b[0mtrain_size\u001b[0m\u001b[1;33m=\u001b[0m\u001b[0mlen\u001b[0m\u001b[1;33m(\u001b[0m\u001b[0mdata0\u001b[0m\u001b[1;33m)\u001b[0m\u001b[1;33m,\u001b[0m\u001b[0mwindow_size\u001b[0m\u001b[1;33m=\u001b[0m\u001b[1;36m24\u001b[0m\u001b[1;33m)\u001b[0m\u001b[1;33m:\u001b[0m\u001b[1;33m\u001b[0m\u001b[0m\n\u001b[0m\u001b[0;32m      2\u001b[0m     \u001b[0mtrain\u001b[0m\u001b[1;33m=\u001b[0m\u001b[0mdata\u001b[0m\u001b[1;33m[\u001b[0m\u001b[1;33m:\u001b[0m\u001b[0mtrain_size\u001b[0m\u001b[1;33m]\u001b[0m\u001b[1;33m\u001b[0m\u001b[0m\n\u001b[0;32m      3\u001b[0m     \u001b[0mtest\u001b[0m\u001b[1;33m=\u001b[0m\u001b[0mdata\u001b[0m\u001b[1;33m[\u001b[0m\u001b[0mtrain_size\u001b[0m\u001b[1;33m-\u001b[0m\u001b[0mwindow_size\u001b[0m\u001b[1;33m:\u001b[0m\u001b[1;33m]\u001b[0m\u001b[1;33m\u001b[0m\u001b[0m\n\u001b[0;32m      4\u001b[0m     \u001b[0mX_train\u001b[0m\u001b[1;33m,\u001b[0m\u001b[0my_train\u001b[0m\u001b[1;33m=\u001b[0m\u001b[0mbuild_sequences\u001b[0m\u001b[1;33m(\u001b[0m\u001b[0mtrain\u001b[0m\u001b[1;33m,\u001b[0m\u001b[0mwindow_size\u001b[0m\u001b[1;33m=\u001b[0m\u001b[0mwindow_size\u001b[0m\u001b[1;33m)\u001b[0m\u001b[1;33m\u001b[0m\u001b[0m\n\u001b[0;32m      5\u001b[0m     \u001b[0mX_test\u001b[0m\u001b[1;33m,\u001b[0m\u001b[0my_test\u001b[0m\u001b[1;33m=\u001b[0m\u001b[0mbuild_sequences\u001b[0m\u001b[1;33m(\u001b[0m\u001b[0mtest\u001b[0m\u001b[1;33m,\u001b[0m\u001b[0mwindow_size\u001b[0m\u001b[1;33m=\u001b[0m\u001b[0mwindow_size\u001b[0m\u001b[1;33m)\u001b[0m\u001b[1;33m\u001b[0m\u001b[0m\n",
      "\u001b[1;31mNameError\u001b[0m: name 'data0' is not defined"
     ]
    }
   ],
   "source": [
    "def get_traintest(data,train_size=len(data0),window_size=24):\n",
    "    train=data[:train_size]\n",
    "    test=data[train_size-window_size:]\n",
    "    X_train,y_train=build_sequences(train,window_size=window_size)\n",
    "    X_test,y_test=build_sequences(test,window_size=window_size)\n",
    "    return X_train,y_train[:,-1],X_test,y_test[:,-1]\n"
   ]
  },
  {
   "cell_type": "code",
   "execution_count": null,
   "metadata": {},
   "outputs": [],
   "source": []
  }
 ],
 "metadata": {
  "kernelspec": {
   "display_name": "Python 3",
   "language": "python",
   "name": "python3"
  },
  "language_info": {
   "codemirror_mode": {
    "name": "ipython",
    "version": 3
   },
   "file_extension": ".py",
   "mimetype": "text/x-python",
   "name": "python",
   "nbconvert_exporter": "python",
   "pygments_lexer": "ipython3",
   "version": "3.6.5"
  }
 },
 "nbformat": 4,
 "nbformat_minor": 2
}
